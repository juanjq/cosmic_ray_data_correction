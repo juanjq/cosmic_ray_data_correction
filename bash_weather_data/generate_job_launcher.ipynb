{
 "cells": [
  {
   "cell_type": "code",
   "execution_count": 5,
   "id": "4b62f537-ad8a-4ba3-bc6f-0fdf157e236b",
   "metadata": {},
   "outputs": [
    {
     "data": {
      "text/html": [
       "<style>.container { width:100% !important; }</style>"
      ],
      "text/plain": [
       "<IPython.core.display.HTML object>"
      ]
     },
     "metadata": {},
     "output_type": "display_data"
    }
   ],
   "source": [
    "import matplotlib.pyplot as plt\n",
    "import numpy as np\n",
    "import astropy.units as u\n",
    "from datetime import datetime, timedelta\n",
    "import pickle, json, sys, os, glob\n",
    "import pandas as pd\n",
    "pd.set_option(\"display.max_columns\", None)\n",
    "\n",
    "from IPython.display import display, HTML\n",
    "display(HTML(\"<style>.container { width:100% !important; }</style>\"))\n",
    "\n",
    "# location of the scripts\n",
    "sys.path.insert(0, os.path.join(\"/fefs/aswg/workspace/juan.jimenez/cosmic_ray_data_correction/scripts\"))\n",
    "import auxiliar as aux\n",
    "import geometry as geom"
   ]
  },
  {
   "cell_type": "code",
   "execution_count": 33,
   "id": "d4f53eb5",
   "metadata": {},
   "outputs": [],
   "source": [
    "dcheck_root = \"/fefs/aswg/workspace/abelardo.moralejo/data/datachecks/night_wise/DL1_datacheck_\"\n",
    "ws_database = \"/fefs/aswg/workspace/juan.jimenez/cosmic_ray_data_correction/analysis_first_corrections/objects/WS2003-22_short.h5\"\n",
    "dir_objects = \"/fefs/aswg/workspace/juan.jimenez/cosmic_ray_data_correction/analysis_weather/objects\"\n",
    "joblist_path = \"/fefs/aswg/workspace/juan.jimenez/cosmic_ray_data_correction/bash_weather_data/joblist.txt\"\n",
    "\n",
    "with open(dir_objects + \"/data_dict.pkl\", 'rb') as f:\n",
    "    dict_dcheck = pickle.load(f)"
   ]
  },
  {
   "cell_type": "code",
   "execution_count": 7,
   "id": "e43939c2",
   "metadata": {},
   "outputs": [],
   "source": [
    "df_ws = pd.read_hdf(ws_database)\n",
    "dates = dict_dcheck[\"time\"]\n",
    "\n",
    "maxdate = np.max(dates)\n",
    "mindate = np.min(dates)\n",
    "\n",
    "# Assuming df_ws.index is already a NumPy array\n",
    "dates_ws = np.array([datetime.fromisoformat(str(d).split(\".\")[0]) for d in df_ws.index])\n",
    "\n",
    "# Combine date filtering in NumPy\n",
    "mask = (dates_ws > mindate) & (dates_ws < maxdate)\n",
    "dates_ws = dates_ws[mask]\n",
    "df_ws = df_ws[mask]"
   ]
  },
  {
   "cell_type": "code",
   "execution_count": 28,
   "id": "78da2212",
   "metadata": {},
   "outputs": [],
   "source": [
    "N = 6000\n",
    "total = 0\n",
    "\n",
    "starts, ends = [], []\n",
    "i = 0\n",
    "while total < len(dates):\n",
    "    \n",
    "    starts.append(total)\n",
    "    ends.append(total + N -1)\n",
    "    \n",
    "    i = i + 1\n",
    "    total = total + N "
   ]
  },
  {
   "cell_type": "code",
   "execution_count": 34,
   "id": "02b59933",
   "metadata": {},
   "outputs": [],
   "source": [
    "for s, e in zip(starts, ends):\n",
    "    with open(joblist_path, \"a\") as f:\n",
    "        f.write(f\"{s},{e}\\n\")    \n",
    "    "
   ]
  }
 ],
 "metadata": {
  "kernelspec": {
   "display_name": "Python 3 (ipykernel)",
   "language": "python",
   "name": "python3"
  },
  "language_info": {
   "codemirror_mode": {
    "name": "ipython",
    "version": 3
   },
   "file_extension": ".py",
   "mimetype": "text/x-python",
   "name": "python",
   "nbconvert_exporter": "python",
   "pygments_lexer": "ipython3",
   "version": "3.10.11"
  }
 },
 "nbformat": 4,
 "nbformat_minor": 5
}
