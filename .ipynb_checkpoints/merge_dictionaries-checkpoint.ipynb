{
 "cells": [
  {
   "cell_type": "code",
   "execution_count": 27,
   "id": "aa942be9-ac39-4184-bd2e-4ff583ab57b3",
   "metadata": {},
   "outputs": [
    {
     "data": {
      "text/html": [
       "<style>.container { width:100% !important; }</style>"
      ],
      "text/plain": [
       "<IPython.core.display.HTML object>"
      ]
     },
     "metadata": {},
     "output_type": "display_data"
    }
   ],
   "source": [
    "import matplotlib.pyplot as plt\n",
    "import numpy as np\n",
    "import astropy.units as u\n",
    "from datetime import datetime\n",
    "from astropy.coordinates import SkyCoord\n",
    "import pickle, json, sys, os\n",
    "import pandas as pd\n",
    "from sys import getsizeof\n",
    "pd.set_option('display.max_columns', None)\n",
    "\n",
    "# location of the scripts\n",
    "sys.path.insert(0, os.path.join(\"/fefs/aswg/workspace/juan.jimenez/lst1_systematics/scripts\"))\n",
    "import auxiliar as aux\n",
    "import documents as docs\n",
    "\n",
    "from IPython.display import display, HTML\n",
    "display(HTML(\"<style>.container { width:100% !important; }</style>\"))\n",
    "\n",
    "\n",
    "# =================================== #\n",
    "# paths \n",
    "fname_dict_sed_lc = \"objects/dict_sed_and_lc.pkl\"\n",
    "fname_dict_dl2    = \"objects/dict_dl2.pkl\"\n",
    "\n",
    "fname_total_dict  =  \"objects/dict_total.pkl\"\n",
    "# =================================== #\n",
    "\n",
    "\n",
    "# =================================== #\n",
    "#         intensity profiles\n",
    "# =================================== #\n",
    "\n",
    "# intensity binning\n",
    "binsI = np.linspace(1.1, 4, 200) \n",
    "\n",
    "# =================================== #"
   ]
  },
  {
   "cell_type": "markdown",
   "id": "d0868736",
   "metadata": {},
   "source": [
    "### Reading all the different dicts"
   ]
  },
  {
   "cell_type": "code",
   "execution_count": 2,
   "id": "55fb2394",
   "metadata": {},
   "outputs": [
    {
     "name": "stdout",
     "output_type": "stream",
     "text": [
      "CPU times: user 987 ms, sys: 23.3 s, total: 24.2 s\n",
      "Wall time: 3min 1s\n"
     ]
    }
   ],
   "source": [
    "%%time\n",
    "# light curve data\n",
    "with open(fname_dict_sed_lc, \"rb\") as f:\n",
    "    dict_gammapy = pickle.load(f)\n",
    "    \n",
    "# load dl2 data\n",
    "with open(fname_dict_dl2, \"rb\") as f:\n",
    "    dict_dl2 = pickle.load(f)"
   ]
  },
  {
   "cell_type": "markdown",
   "id": "1f6f59cc",
   "metadata": {},
   "source": [
    "### Converting the lightcurve dict to a run-wise dict"
   ]
  },
  {
   "cell_type": "code",
   "execution_count": 3,
   "id": "b3f63df0",
   "metadata": {},
   "outputs": [],
   "source": [
    "dict_LC_run = {}\n",
    "for i, run in enumerate(np.sort(np.array(dict_gammapy[\"lightcurve\"][\"run_number\"]).astype(int))):\n",
    "    \n",
    "    tmp_dict = {\n",
    "        \n",
    "        \"flux\"      : dict_gammapy[\"lightcurve\"][\"flux\"][i]   * 1e10,  # cm-2 s-1\n",
    "        \"e_flux\"    : dict_gammapy[\"lightcurve\"][\"e_flux\"][i] * 1e10,  # cm-2 s-1\n",
    "        \"timestamp\" : dict_gammapy[\"lightcurve\"][\"t_start\"][i],\n",
    "        \"duration\"  : dict_gammapy[\"lightcurve\"][\"timedelta\"][i]\n",
    "        \n",
    "    }\n",
    "    \n",
    "    dict_LC_run[run] = tmp_dict"
   ]
  },
  {
   "cell_type": "markdown",
   "id": "2577e6b9",
   "metadata": {},
   "source": [
    "### Adding the LC and SED information to a total dict"
   ]
  },
  {
   "cell_type": "code",
   "execution_count": 32,
   "id": "fc6585a5",
   "metadata": {},
   "outputs": [],
   "source": [
    "dict_total = {}\n",
    "\n",
    "dict_total[\"general\"] = {\n",
    "    \n",
    "    \"target_name\"   : dict_gammapy[\"lightcurve\"][\"global\"][\"target_name\"],\n",
    "    \"e_min_lc\"      : dict_gammapy[\"lightcurve\"][\"global\"][\"e_min\"], # TeV\n",
    "    \"e_max_lc\"      : dict_gammapy[\"lightcurve\"][\"global\"][\"e_max\"], # TeV\n",
    "    \"n_off_regions\" : dict_gammapy[\"lightcurve\"][\"global\"][\"n_off_regions\"],\n",
    "    \"chi2_flux\"     : dict_gammapy[\"lightcurve\"][\"global\"][\"chi2\"],\n",
    "    \"pvalue_flux\"   : dict_gammapy[\"lightcurve\"][\"global\"][\"pvalue\"]\n",
    "    \n",
    "}\n",
    "\n",
    "_ampl, _e_ampl = dict_gammapy[\"dict_model\"][\"spectral\"][\"parameters\"][0][\"value\"], dict_gammapy[\"dict_model\"][\"spectral\"][\"parameters\"][0][\"error\"]\n",
    "_ampl_unit     = u.Unit(dict_gammapy[\"dict_model\"][\"spectral\"][\"parameters\"][0][\"unit\"])\n",
    "\n",
    "_ref      = dict_gammapy[\"dict_model\"][\"spectral\"][\"parameters\"][1][\"value\"]\n",
    "_ref_unit = u.Unit(dict_gammapy[\"dict_model\"][\"spectral\"][\"parameters\"][1][\"unit\"])\n",
    "\n",
    "_a, _e_a = dict_gammapy[\"dict_model\"][\"spectral\"][\"parameters\"][2][\"value\"], dict_gammapy[\"dict_model\"][\"spectral\"][\"parameters\"][2][\"error\"]\n",
    "_b, _e_b = dict_gammapy[\"dict_model\"][\"spectral\"][\"parameters\"][3][\"value\"], dict_gammapy[\"dict_model\"][\"spectral\"][\"parameters\"][3][\"error\"]\n",
    "\n",
    "dict_total[\"general\"][\"model_params\"] = {\n",
    "    \n",
    "        \"amplitude\" : (_ampl, _e_ampl) * _ampl_unit,\n",
    "        \"reference\" :  _ref * _ref_unit,\n",
    "        \"alpha\"     : (_a, _e_a),\n",
    "        \"beta\"      : (_b, _e_b)\n",
    "    \n",
    "}\n",
    "\n",
    "dict_total[\"general\"][\"SED\"] = dict_gammapy[\"table_sed\"]\n",
    "\n",
    "\n",
    "dict_total[\"run\"] = dict_LC_run"
   ]
  },
  {
   "cell_type": "markdown",
   "id": "7d0d34c7",
   "metadata": {},
   "source": [
    "### Adding the dl2 data, and the intensity profiles in form of histogram counts, wheighted by the effective time"
   ]
  },
  {
   "cell_type": "code",
   "execution_count": 33,
   "id": "99a50106",
   "metadata": {},
   "outputs": [
    {
     "name": "stdout",
     "output_type": "stream",
     "text": [
      "CPU times: user 57.7 s, sys: 4.72 s, total: 1min 2s\n",
      "Wall time: 1min 2s\n"
     ]
    }
   ],
   "source": [
    "%%time\n",
    "for run in np.sort(list(dict_dl2.keys())):\n",
    "    \n",
    "    dict_total[\"run\"][run][\"zd\"]   = np.mean(dict_dl2[run][\"zd\"])\n",
    "    dict_total[\"run\"][run][\"e_zd\"] = (np.max(dict_dl2[run][\"zd\"]) - np.min(dict_dl2[run][\"zd\"])) / 2\n",
    "    dict_total[\"run\"][run][\"az\"]   = np.mean(dict_dl2[run][\"az\"])\n",
    "    dict_total[\"run\"][run][\"e_az\"] = (np.max(dict_dl2[run][\"az\"]) - np.min(dict_dl2[run][\"az\"])) / 2\n",
    "    dict_total[\"run\"][run][\"effective_time\"] = dict_dl2[run][\"effective_time\"]\n",
    "    \n",
    "    counts, Iedges = np.histogram(np.log10(dict_dl2[run][\"intensity\"]), binsI)\n",
    "    counts   = counts / dict_dl2[run][\"effective_time\"]\n",
    "    \n",
    "    dict_total[\"run\"][run][\"intensity_rates\"] = counts\n",
    "    \n",
    "    dict_total[\"run\"][run][\"n_events\"] = len(dict_dl2[run][\"zd\"])\n",
    "    \n",
    "Icenters = (Iedges[1:] + Iedges[:-1]) / 2\n",
    "\n",
    "dict_total[\"general\"][\"intensity_bins\"]         = Iedges\n",
    "dict_total[\"general\"][\"intensity_bins_centers\"] = Icenters"
   ]
  },
  {
   "cell_type": "markdown",
   "id": "e8f514a4",
   "metadata": {},
   "source": [
    "### Saving the object"
   ]
  },
  {
   "cell_type": "code",
   "execution_count": 34,
   "id": "ddefa128",
   "metadata": {},
   "outputs": [],
   "source": [
    "# Saving the object\n",
    "with open(fname_total_dict, 'wb') as f:\n",
    "    pickle.dump(dict_total, f, pickle.HIGHEST_PROTOCOL)"
   ]
  }
 ],
 "metadata": {
  "kernelspec": {
   "display_name": "Python 3 (ipykernel)",
   "language": "python",
   "name": "python3"
  },
  "language_info": {
   "codemirror_mode": {
    "name": "ipython",
    "version": 3
   },
   "file_extension": ".py",
   "mimetype": "text/x-python",
   "name": "python",
   "nbconvert_exporter": "python",
   "pygments_lexer": "ipython3",
   "version": "3.9.16"
  }
 },
 "nbformat": 4,
 "nbformat_minor": 5
}
