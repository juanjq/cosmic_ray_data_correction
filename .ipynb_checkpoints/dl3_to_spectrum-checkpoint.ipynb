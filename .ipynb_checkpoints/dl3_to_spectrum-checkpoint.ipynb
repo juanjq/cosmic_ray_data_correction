{
 "cells": [
  {
   "cell_type": "code",
   "execution_count": null,
   "id": "aa942be9-ac39-4184-bd2e-4ff583ab57b3",
   "metadata": {},
   "outputs": [],
   "source": [
    "import matplotlib.pyplot as plt\n",
    "import numpy as np\n",
    "import astropy.units as u\n",
    "from astropy.coordinates import SkyCoord\n",
    "from regions import PointSkyRegion\n",
    "from gammapy.data import DataStore\n",
    "from gammapy.maps import MapAxis, RegionGeom, Map\n",
    "from gammapy.modeling import Fit\n",
    "from gammapy.estimators import FluxPointsEstimator, LightCurveEstimator\n",
    "\n",
    "from datetime import datetime\n",
    "import pickle\n",
    "import pandas as pd\n",
    "pd.set_option('display.max_columns', None)\n",
    "\n",
    "from IPython.display import display, HTML\n",
    "display(HTML(\"<style>.container { width:100% !important; }</style>\"))\n",
    "\n",
    "from gammapy.datasets import (\n",
    "    Datasets,\n",
    "    SpectrumDataset,\n",
    ")\n",
    "from gammapy.modeling.models import (\n",
    "    create_crab_spectral_model,\n",
    "    SkyModel,\n",
    "    LogParabolaSpectralModel,\n",
    ")\n",
    "from gammapy.makers import (\n",
    "    SpectrumDatasetMaker,\n",
    "    WobbleRegionsFinder,\n",
    "    ReflectedRegionsBackgroundMaker,\n",
    "    SafeMaskMaker,\n",
    ")\n",
    "\n",
    "# dl3 path where dl3 and index files are\n",
    "dl3_dir = \"/fefs/aswg/workspace/juan.jimenez/data/systematics/dl3_paper\"\n",
    "# dl3_dir = \"/fefs/aswg/workspace/daniel.morcuende/data/real/DL3/Crab_performance/AllSkyMC_v0.9.9/intensity80/all_nodes/gh_eff_0.7_th_cont_0.7\"\n",
    "\n",
    "# use from coordinates (use astropy units) or from name\n",
    "target_ra  = None\n",
    "target_dec = None\n",
    "target_name = \"Crab\"\n",
    "\n",
    "# select he number of off regions\n",
    "n_off_regions = 3\n",
    "\n",
    "# energy edges for spectrum\n",
    "e_min = 80 * u.GeV\n",
    "e_max = 20 * u.TeV\n",
    "\n",
    "# energy edges for lightcurve\n",
    "e_lc_min = 100 * u.GeV\n",
    "e_lc_max = 100 * u.TeV"
   ]
  },
  {
   "cell_type": "code",
   "execution_count": null,
   "id": "d2d77300-170c-462b-bf2c-7bffdec939bf",
   "metadata": {},
   "outputs": [],
   "source": [
    "data_store = DataStore.from_dir(dl3_dir)\n",
    "\n",
    "obs_ids = data_store.obs_table[\"OBS_ID\"].data\n",
    "obs_ids = obs_ids[:]\n",
    "\n",
    "observations = data_store.get_observations(obs_ids, required_irf=\"point-like\")\n",
    "\n",
    "if target_ra == None and target_dec == None and target_name != None:\n",
    "    target_position = SkyCoord.from_name(target_name)\n",
    "elif target_ra != None and target_dec != None and target_name == None:\n",
    "    target_position = SkyCoord(ra=target_ra, dec=target_dec, frame=\"icrs\")\n",
    "else:\n",
    "    print(\"Error defining the coordinate, check input\")\n",
    "\n",
    "on_region = PointSkyRegion(target_position)\n",
    "\n",
    "data_store.obs_table[:5]"
   ]
  },
  {
   "cell_type": "code",
   "execution_count": null,
   "id": "55dc148f-7dec-4460-ba3f-15be1daf9d61",
   "metadata": {},
   "outputs": [],
   "source": [
    "# true and estimated energy axes\n",
    "energy_axis      = MapAxis.from_energy_bounds(50, 1e5, nbin=5,  per_decade=True, unit=\"GeV\", name=\"energy\")\n",
    "energy_axis_true = MapAxis.from_energy_bounds(10, 1e5, nbin=10, per_decade=True, unit=\"GeV\", name=\"energy_true\")\n",
    "\n",
    "# geometry defining the ON region and SpectrumDataset based on it\n",
    "geom = RegionGeom.create(region=on_region, axes=[energy_axis])\n",
    "# creating an empty dataset\n",
    "dataset_empty = SpectrumDataset.create(geom=geom, energy_axis_true=energy_axis_true)"
   ]
  },
  {
   "cell_type": "code",
   "execution_count": null,
   "id": "ce982c0d-7014-4de0-aff2-234a9d3ba078",
   "metadata": {},
   "outputs": [],
   "source": [
    "dataset_maker = SpectrumDatasetMaker(\n",
    "    containment_correction=False, selection=[\"counts\", \"exposure\", \"edisp\"]\n",
    ")\n",
    "\n",
    "# tell the background maker to use the WobbleRegionsFinder, let us use 1 off\n",
    "region_finder = WobbleRegionsFinder(n_off_regions=n_off_regions)\n",
    "bkg_maker = ReflectedRegionsBackgroundMaker(region_finder=region_finder)\n",
    "\n",
    "# use the energy threshold specified in the DL3 files\n",
    "safe_mask_masker = SafeMaskMaker(methods=[\"aeff-default\"])"
   ]
  },
  {
   "cell_type": "code",
   "execution_count": null,
   "id": "f77a9f02-232b-4aa4-9105-fabac3f7b1f8",
   "metadata": {
    "scrolled": true
   },
   "outputs": [],
   "source": [
    "%%time\n",
    "datasets = Datasets()\n",
    "\n",
    "# create a counts map for visualisation later...\n",
    "counts = Map.create(skydir=target_position, width=3)\n",
    "\n",
    "for observation in observations:\n",
    "    dataset = dataset_maker.run(dataset_empty.copy(name=str(observation.obs_id)), observation)\n",
    "    \n",
    "    counts.fill_events(observation.events)\n",
    "    dataset_on_off = bkg_maker.run(dataset, observation)\n",
    "    dataset_on_off = safe_mask_masker.run(dataset_on_off, observation)\n",
    "    datasets.append(dataset_on_off)"
   ]
  },
  {
   "cell_type": "code",
   "execution_count": null,
   "id": "c22d5913-ee6e-425c-b14a-c501079d4d6f",
   "metadata": {
    "scrolled": true
   },
   "outputs": [],
   "source": [
    "# counting in the specified range\n",
    "for dataset in datasets:\n",
    "    dataset.mask_fit = dataset.counts.geom.energy_mask(e_min, e_max)\n",
    "\n",
    "# defining the model we want to fit and the starting values\n",
    "spectral_model = LogParabolaSpectralModel(\n",
    "    amplitude=1e-12 * u.Unit(\"cm-2 s-1 TeV-1\"),\n",
    "    alpha=2,\n",
    "    beta=0.1,\n",
    "    reference=1 * u.TeV,\n",
    ")\n",
    "# we will use the crab model in general\n",
    "model = SkyModel(spectral_model=spectral_model, name=\"crab\")\n",
    "datasets.models = [model]\n",
    "\n",
    "# now we run the fit to extract the parameters of the model\n",
    "fit = Fit()\n",
    "result = fit.run(datasets=datasets)\n",
    "\n",
    "# we make a copy here to compare it later\n",
    "best_fit_model = model.copy()\n",
    "\n",
    "datasets.models.to_parameters_table()"
   ]
  },
  {
   "cell_type": "code",
   "execution_count": null,
   "id": "2fd06d8a-28dc-444b-a91a-9e365b857f47",
   "metadata": {},
   "outputs": [],
   "source": [
    "for dataset in datasets:\n",
    "    ax_spectrum, ax_residuals = dataset.plot_fit()\n",
    "    ax_spectrum.set_title(f\"Run {dataset.name}\")\n",
    "    plt.show()"
   ]
  },
  {
   "cell_type": "code",
   "execution_count": null,
   "id": "b2553f33-1c3b-4fba-a0d2-95a193f83816",
   "metadata": {},
   "outputs": [],
   "source": [
    "# creating energy edges\n",
    "energy_edges = np.geomspace(e_min.to(\"TeV\").value, e_max.to(\"TeV\").value, 11) * u.TeV\n",
    "\n",
    "# then extracting the flux points from the data\n",
    "fpe = FluxPointsEstimator(\n",
    "    energy_edges=energy_edges, source=\"crab\", selection_optional=\"all\"\n",
    ")\n",
    "flux_points = fpe.run(datasets=datasets)\n",
    "\n",
    "flux_points.to_table(sed_type=\"dnde\", formatted=True)"
   ]
  },
  {
   "cell_type": "code",
   "execution_count": null,
   "id": "e6d0b597-538a-4e73-a9dc-f0b5acb3f465",
   "metadata": {},
   "outputs": [],
   "source": [
    "plot_kwargs = {\n",
    "    \"energy_bounds\": [0.08, 40] * u.TeV,\n",
    "    \"sed_type\": \"e2dnde\",\n",
    "    \"yunits\": u.Unit(\"TeV cm-2 s-1\"),\n",
    "    \"xunits\": u.TeV,\n",
    "}\n",
    "\n",
    "crab_magic_lp = create_crab_spectral_model(\"magic_lp\")\n",
    "\n",
    "best_fit_model.spectral_model.plot(\n",
    "    ls=\"-\", lw=1.5, color=\"k\", label=\"best fit\", **plot_kwargs\n",
    ")\n",
    "best_fit_model.spectral_model.plot_error(\n",
    "    facecolor=\"k\", alpha=0.2, **plot_kwargs\n",
    ")\n",
    "crab_magic_lp.plot(\n",
    "    ls=\"--\", lw=1.5, color=\"crimson\", label=\"MAGIC reference\", **plot_kwargs\n",
    ")\n",
    "\n",
    "flux_points.plot(sed_type=\"e2dnde\", color=\"k\", label=\"Flux points\")\n",
    "# flux_points.plot_ts_profiles(sed_type=\"e2dnde\")\n",
    "\n",
    "plt.legend(loc=3)\n",
    "plt.ylim([1e-13, 1e-10])\n",
    "plt.grid(which=\"both\", alpha=0.5)\n",
    "plt.show()"
   ]
  },
  {
   "cell_type": "markdown",
   "id": "a1a2f936-ac22-4e78-9030-f785cc0492fc",
   "metadata": {},
   "source": [
    "# Light Curve"
   ]
  },
  {
   "cell_type": "code",
   "execution_count": null,
   "id": "b42bef18-5588-47de-a53e-078d3f0cd994",
   "metadata": {},
   "outputs": [],
   "source": [
    "from gammapy.modeling.models import (\n",
    "    PowerLawSpectralModel,\n",
    "    LogParabolaSpectralModel,\n",
    "    create_crab_spectral_model,\n",
    "    SkyModel,\n",
    ")\n",
    "from gammapy.datasets import (\n",
    "    Datasets,\n",
    "    FluxPointsDataset,\n",
    "    SpectrumDataset,\n",
    "    SpectrumDatasetOnOff,\n",
    ")\n",
    "# Find pivot (decorrelation) energy for a Power Law model to get the reference energy for Log Parabola model\n",
    "def get_pivot_energy(datasets, e_ref, e_edges, obj_name):\n",
    "    \"\"\"\n",
    "    Using Power Law spectral model with the given reference energy and \n",
    "    get the decorrelation energy of the fit, within the fit energy range, e_edges.\n",
    "    This method is further explained in doi:10.1088/0004-637X/707/2/1310\n",
    "    \"\"\"\n",
    "    spectral_model = PowerLawSpectralModel(\n",
    "        index=2, amplitude=2e-11 * u.Unit(\"cm-2 s-1 TeV-1\"), reference=e_ref\n",
    "    )\n",
    "    model = SkyModel(spectral_model=spectral_model, name=obj_name)\n",
    "    model_check = model.copy()\n",
    "\n",
    "    # Stacked dataset method\n",
    "    stacked_dataset = Datasets(datasets).stack_reduce()\n",
    "    stacked_dataset.models = model_check\n",
    "\n",
    "    fit_stacked = Fit()\n",
    "    result_stacked = fit_stacked.run(datasets=stacked_dataset)\n",
    "\n",
    "    return model_check.spectral_model.pivot_energy\n",
    "\n",
    "# Using a reference energy close to the expected decorrelation energy\n",
    "ref = get_pivot_energy(datasets, 0.4 * u.TeV, energy_axis.edges, target_name)\n",
    "print(f\"Reference energy {ref.to_value(u.GeV):.2f} GeV\")"
   ]
  },
  {
   "cell_type": "code",
   "execution_count": null,
   "id": "0fd37a08-f80a-4097-8c8b-2c71f5df86d0",
   "metadata": {},
   "outputs": [],
   "source": [
    "spectral_model_lp = LogParabolaSpectralModel(\n",
    "        amplitude = 5e-12 * u.Unit('cm-2 s-1 TeV-1'),\n",
    "        reference = ref,\n",
    "        alpha = 2 * u.Unit(''),\n",
    "        beta = 0.1 * u.Unit('')\n",
    ")\n",
    "model_lp = SkyModel(spectral_model=spectral_model_lp, name=target_name)"
   ]
  },
  {
   "cell_type": "code",
   "execution_count": null,
   "id": "f2ab82e9-0243-418a-bcab-2a1b7fa8a739",
   "metadata": {},
   "outputs": [],
   "source": [
    "stacked_dataset = Datasets(datasets).stack_reduce()\n",
    "stacked_dataset.models = model_lp\n",
    "\n",
    "# Fitting the model to the dataset\n",
    "fit = Fit()\n",
    "result = fit.run(datasets=stacked_dataset)\n",
    "model_best = model_lp"
   ]
  },
  {
   "cell_type": "code",
   "execution_count": null,
   "id": "495b2e2e-ecac-4af6-95d9-fd209768b983",
   "metadata": {},
   "outputs": [],
   "source": [
    "energy_fit_edges = MapAxis.from_energy_bounds(\n",
    "    e_lc_min, \n",
    "    e_lc_max, \n",
    "    nbin=5, \n",
    "    per_decade=True, \n",
    "    unit=\"TeV\"\n",
    ").edges\n",
    "\n",
    "fpe = FluxPointsEstimator(\n",
    "    energy_edges=energy_fit_edges, \n",
    "    reoptimize = False, # Re-optimizing other free model parameters (not belonging to the source)\n",
    "    source=target_name,\n",
    "    selection_optional=\"all\" # Estimates asymmetric errors, upper limits and fit statistic profiles\n",
    ")\n",
    "\n",
    "flux_points = fpe.run(datasets=stacked_dataset)\n",
    "\n",
    "flux_points_dataset = FluxPointsDataset(\n",
    "    data=flux_points, \n",
    "    models=model_best\n",
    ")"
   ]
  },
  {
   "cell_type": "code",
   "execution_count": null,
   "id": "d8c70475-8619-4da2-8c99-25d0ab16801d",
   "metadata": {},
   "outputs": [],
   "source": [
    "lc_maker_1d = LightCurveEstimator(\n",
    "    energy_edges=[e_lc_min, e_lc_max], \n",
    "    reoptimize=False, # Re-optimizing other free model parameters (not belonging to the source)\n",
    "    source=target_name, \n",
    "    selection_optional=\"all\" # Estimates asymmetric errors, upper limits and fit statistic profiles\n",
    ")\n",
    "\n",
    "# Assigning the model for each dataset\n",
    "for data in datasets:\n",
    "    data.models = model_lp\n",
    "\n",
    "lc_1d = lc_maker_1d.run(datasets)\n",
    "\n",
    "# Fitting the model to the dataset\n",
    "fit = Fit()\n",
    "result = fit.run(datasets=stacked_dataset)\n",
    "result"
   ]
  },
  {
   "cell_type": "code",
   "execution_count": null,
   "id": "9bb84f8b-4917-4614-a2cd-78009b79ae2b",
   "metadata": {},
   "outputs": [],
   "source": [
    "crab = create_crab_spectral_model(\"magic_lp\")\n",
    "flux_crab = crab.integral(e_lc_min, e_lc_max)"
   ]
  },
  {
   "cell_type": "code",
   "execution_count": null,
   "id": "bdfd04d4-f5fd-4745-ac83-e815f38b5aa5",
   "metadata": {},
   "outputs": [],
   "source": [
    "fig, ax = plt.subplots(figsize=(10,4))\n",
    "\n",
    "lc_1d.plot(sed_type=\"flux\", color=\"k\")\n",
    "ax.axhline(\n",
    "    flux_crab.to_value(\"cm-2 s-1\"), c='red', ls='--', \n",
    "    label='Crab (MAGIC, JHEAp 2015)'\n",
    ")\n",
    "\n",
    "plt.ylim(1e-10, 5e-10)\n",
    "plt.show()"
   ]
  },
  {
   "cell_type": "code",
   "execution_count": null,
   "id": "34882e53-7ae8-4766-8755-fefa30e9a7c6",
   "metadata": {},
   "outputs": [],
   "source": [
    "def unpack(data):\n",
    "    return np.array([d[0][0][0] for d in data])\n",
    "    \n",
    "flux = (unpack(lc_1d.flux.data) * lc_1d.flux.unit).to(\"TeV / (cm2 s TeV)\")\n",
    "flux_err = (unpack(lc_1d.flux_err.data) * lc_1d.flux_err.unit).to(\"TeV / (cm2 s TeV)\")\n",
    "run_num = [(n) for n in observations.ids]"
   ]
  },
  {
   "cell_type": "code",
   "execution_count": null,
   "id": "09a7ad48-6b79-4331-8cad-f8e7c9a91bf7",
   "metadata": {},
   "outputs": [],
   "source": [
    "fig, ax = plt.subplots(figsize=(17,3))\n",
    "\n",
    "ax.axhline(flux_crab.to_value(\"cm-2 s-1\"), c='red', ls='--', label='Crab (MAGIC, JHEAp 2015)')\n",
    "\n",
    "ax.errorbar(np.arange(len(flux)), flux, yerr=flux_err, ls=\"\", marker=\"o\", color=\"k\", label=\"Flux points\")\n",
    "# ax.errorbar(run_num, flux, yerr=flux_err, ls=\"\", marker=\"o\", color=\"k\", label=\"Flux points\")\n",
    "plt.xticks(rotation=90)\n",
    "ax.legend()\n",
    "ax.set_xlabel(f\"Run #\")\n",
    "ax.set_ylabel(f\"{flux.unit}\")\n",
    "ax.set_title(f\"{e_lc_min} < E < {e_lc_max}\")\n",
    "plt.show()"
   ]
  },
  {
   "cell_type": "code",
   "execution_count": null,
   "id": "4662eda4-9d7c-4850-8ced-2b1f468775c3",
   "metadata": {
    "scrolled": true
   },
   "outputs": [],
   "source": [
    "dict_LC = {\n",
    "    \"run_number\" : run_num,\n",
    "    \"flux\" : flux,\n",
    "    \"e_flux\" : flux_err,\n",
    "}\n",
    "\n",
    "obstable = data_store.obs_table.to_pandas()"
   ]
  },
  {
   "cell_type": "code",
   "execution_count": null,
   "id": "5370b5b4-2ef3-4c4a-bfa4-e2696a1d4cd4",
   "metadata": {},
   "outputs": [],
   "source": [
    "time_start, time_stop, timedelta = [], [], []\n",
    "zd, az = [], []\n",
    "for run in dict_LC[\"run_number\"]:\n",
    "    _tab = obstable[obstable[\"OBS_ID\"] == int(run)]\n",
    "    tstart = datetime.fromisoformat(str(np.array(_tab[\"DATE-OBS\"])[0] + b\"T\" + np.array(_tab[\"TIME-OBS\"])[0])[2:-1])\n",
    "    tstop  = datetime.fromisoformat(str(np.array(_tab[\"DATE-END\"])[0] + b\"T\" + np.array(_tab[\"TIME-END\"])[0])[2:-1])   \n",
    "    time_start.append(tstart)\n",
    "    time_stop.append(tstop)\n",
    "    timedelta.append(tstop - tstart)\n",
    "    zd.append(np.array(_tab[\"ZEN_PNT\"])[0])\n",
    "    az.append(np.array(_tab[\"AZ_PNT\"])[0])\n",
    "    \n",
    "dict_LC[\"timestamp\"] = np.array(time_start)\n",
    "dict_LC[\"duration\"]  = np.array(timedelta)\n",
    "dict_LC[\"zd\"] = np.array(zd) * u.deg\n",
    "dict_LC[\"az\"] = np.array(az) * u.deg"
   ]
  },
  {
   "cell_type": "code",
   "execution_count": null,
   "id": "ca6e78dd-d2de-4bb3-a646-6d301aa79fd3",
   "metadata": {},
   "outputs": [],
   "source": [
    "##################################\n",
    "# save in a object\n",
    "\n",
    "# Saving the objects\n",
    "with open('objects/dict_LC.pkl', 'wb') as f:\n",
    "    pickle.dump(dict_LC, f, pickle.HIGHEST_PROTOCOL)\n"
   ]
  },
  {
   "cell_type": "code",
   "execution_count": null,
   "id": "e9c3002d-695f-4c61-a417-b3ab469a83df",
   "metadata": {},
   "outputs": [],
   "source": [
    "# this to read the objects\n",
    "with open('objects/dict_LC.pkl', 'rb') as f:\n",
    "    dict_LC = pickle.load(f)"
   ]
  }
 ],
 "metadata": {
  "kernelspec": {
   "display_name": "Python 3 (ipykernel)",
   "language": "python",
   "name": "python3"
  },
  "language_info": {
   "codemirror_mode": {
    "name": "ipython",
    "version": 3
   },
   "file_extension": ".py",
   "mimetype": "text/x-python",
   "name": "python",
   "nbconvert_exporter": "python",
   "pygments_lexer": "ipython3",
   "version": "3.8.13"
  }
 },
 "nbformat": 4,
 "nbformat_minor": 5
}
