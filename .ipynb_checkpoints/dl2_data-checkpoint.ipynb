{
 "cells": [
  {
   "cell_type": "code",
   "execution_count": null,
   "id": "aa942be9-ac39-4184-bd2e-4ff583ab57b3",
   "metadata": {},
   "outputs": [],
   "source": [
    "import matplotlib.pyplot as plt\n",
    "import numpy as np\n",
    "import astropy.units as u\n",
    "from datetime import datetime\n",
    "from astropy.coordinates import SkyCoord\n",
    "import os\n",
    "import pickle\n",
    "import json\n",
    "import pandas as pd\n",
    "pd.set_option('display.max_columns', None)\n",
    "\n",
    "from lstchain.reco.utils import  get_effective_time\n",
    "\n",
    "from IPython.display import display, HTML\n",
    "display(HTML(\"<style>.container { width:100% !important; }</style>\"))\n",
    "\n",
    "# dirs\n",
    "objects_dir = \"/fefs/aswg/workspace/juan.jimenez/systematics/objects\"\n"
   ]
  },
  {
   "cell_type": "code",
   "execution_count": null,
   "id": "559e9b71",
   "metadata": {},
   "outputs": [],
   "source": [
    "###################\n",
    "# reading objects\n",
    "###################\n",
    "fname_dict = \"objects/total_dict_runs.json\"\n",
    "with open(fname_dict, \"r\") as json_file:\n",
    "    dict_runs = json.load(json_file)\n",
    "    \n",
    "dict_runs[\"3319\"]"
   ]
  },
  {
   "cell_type": "code",
   "execution_count": null,
   "id": "fe91f3ab",
   "metadata": {
    "scrolled": false
   },
   "outputs": [],
   "source": [
    "%%time\n",
    "dict_dl2 = {}\n",
    "\n",
    "for i, run in enumerate(dict_runs.keys()):\n",
    "    \n",
    "    print(f\"Iterating... {i/len(dict_runs.keys())*100:4.1f}%\")\n",
    "    \n",
    "    _tab = pd.read_hdf(dict_runs[run][\"dl2\"], key='dl2/event/telescope/parameters/LST_LSTCam')\n",
    "    \n",
    "    # getting only cosmics and applying a small cut in gammaness\n",
    "#     _tab.query(\"event_type == 32 and gammaness > 0.05\", inplace=True)\n",
    "    _tab.query(\"event_type == 32\", inplace=True)\n",
    "    \n",
    "    eff_t, el_t = get_effective_time(_tab)\n",
    "    \n",
    "    tmp_dict = {\n",
    "        \"effective_time\" : eff_t.to(u.s).value,\n",
    "        \"elapsed_time\" : el_t.to(u.s).value,\n",
    "        \"zd\" : np.array(90 - np.rad2deg(_tab[\"alt_tel\"])),\n",
    "        \"az\" : np.array(np.rad2deg(_tab[\"az_tel\"])),\n",
    "        \"intensity\" : np.array(_tab[\"intensity\"]),\n",
    "        \"gammaness\" : np.array(_tab[\"gammaness\"])\n",
    "    }\n",
    "\n",
    "    dict_dl2[int(run)] = tmp_dict"
   ]
  },
  {
   "cell_type": "code",
   "execution_count": null,
   "id": "b672e7b0",
   "metadata": {},
   "outputs": [],
   "source": [
    "%%time\n",
    "# Saving the objects\n",
    "with open('objects/dict_dl2_total.pkl', 'wb') as f:\n",
    "    pickle.dump(dict_dl2, f, pickle.HIGHEST_PROTOCOL)\n",
    "    \n",
    "# # this to read the objects\n",
    "# with open('objects/dict_dl2.pkl', 'rb') as f:\n",
    "#     dict_dl2 = pickle.load(f)"
   ]
  }
 ],
 "metadata": {
  "kernelspec": {
   "display_name": "Python 3 (ipykernel)",
   "language": "python",
   "name": "python3"
  },
  "language_info": {
   "codemirror_mode": {
    "name": "ipython",
    "version": 3
   },
   "file_extension": ".py",
   "mimetype": "text/x-python",
   "name": "python",
   "nbconvert_exporter": "python",
   "pygments_lexer": "ipython3",
   "version": "3.8.13"
  }
 },
 "nbformat": 4,
 "nbformat_minor": 5
}
