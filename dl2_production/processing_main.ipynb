{
 "cells": [
  {
   "cell_type": "code",
   "execution_count": 1,
   "id": "7b3b4638",
   "metadata": {},
   "outputs": [
    {
     "data": {
      "text/html": [
       "<style>.container { width:100% !important; }</style>"
      ],
      "text/plain": [
       "<IPython.core.display.HTML object>"
      ]
     },
     "metadata": {},
     "output_type": "display_data"
    }
   ],
   "source": [
    "import matplotlib.pyplot as plt\n",
    "import numpy as np\n",
    "import astropy.units as u\n",
    "from datetime import datetime\n",
    "import pickle, json, sys, os, glob\n",
    "import pandas as pd\n",
    "\n",
    "from IPython.display import display, HTML\n",
    "display(HTML(\"<style>.container { width:100% !important; }</style>\"))\n",
    "\n",
    "import utils\n",
    "\n",
    "from traitlets.config.loader import Config\n",
    "from astropy.coordinates     import SkyCoord\n",
    "from lstchain.io.config      import get_standard_config\n",
    "from ctapipe.io              import read_table"
   ]
  },
  {
   "cell_type": "markdown",
   "id": "3cff6f04",
   "metadata": {},
   "source": [
    "# Some configurations"
   ]
  },
  {
   "cell_type": "code",
   "execution_count": 2,
   "id": "d56ff173",
   "metadata": {},
   "outputs": [],
   "source": [
    "# Source specifications\n",
    "source_name = \"crab\"\n",
    "\n",
    "# Maybe we add a way to extract the run numbers we are interested in\n",
    "run_numbers = [15272] # [6172, 6242, 6194, 6193, 15337, 15272, 15339, 15340] # [15272] # [15337, 15272]"
   ]
  },
  {
   "cell_type": "markdown",
   "id": "d4ea7368",
   "metadata": {},
   "source": [
    "# Paths to data and results"
   ]
  },
  {
   "cell_type": "code",
   "execution_count": 3,
   "id": "66854bb2",
   "metadata": {},
   "outputs": [],
   "source": [
    "# Root path of this script\n",
    "root = \"/fefs/aswg/workspace/juan.jimenez/lst_pipeline/\"\n",
    "# Path to store the configuration file we are going to use\n",
    "config_file = root + \"objects/standard_config.json\"\n",
    "# Data main directory\n",
    "root_data = root + f\"../data/cosmic_ray_data_correction/{source_name}/\"\n",
    "\n",
    "# STANDARD paths ---------\n",
    "# DL1 data root\n",
    "dl1_root = \"/fefs/aswg/data/real/DL1/*/v0.*/tailcut84/\"\n",
    "# RFs root main directory\n",
    "rfs_root = \"/fefs/aswg/data/models/AllSky/20230901_v0.10.4_allsky_base_prod/\"\n",
    "# MCs dl2 main directory\n",
    "mcs_root = \"/fefs/aswg/data/mc/DL2/AllSky/20230901_v0.10.4_allsky_base_prod/TestingDataset/\"\n",
    "\n",
    "\n",
    "# directories for the data\n",
    "dir_dl1b = root_data + \"dl1b/\"\n",
    "dir_dl2  = root_data + \"dl2/\"\n",
    "dir_dl3  = root_data + \"dl3/\"\n",
    "dir_irfs = root_data + \"irfs/\"\n",
    "\n",
    "\n",
    "# Creating the directories in case they don't exist\n",
    "for path in [os.path.dirname(config_file), dir_dl1b, dir_dl2, dir_dl3, dir_irfs]:\n",
    "    if not os.path.exists(path):\n",
    "        os.makedirs(os.path.join(path), exist_ok=True)"
   ]
  },
  {
   "cell_type": "markdown",
   "id": "ccb8d10f",
   "metadata": {},
   "source": [
    "# Opening and storing configuration file"
   ]
  },
  {
   "cell_type": "code",
   "execution_count": 4,
   "id": "5030e785",
   "metadata": {},
   "outputs": [],
   "source": [
    "config_dict = get_standard_config()\n",
    "# print(config_dict)\n",
    "\n",
    "#-------------------\n",
    "# Changes in the configuration should be done here\n",
    "\n",
    "# We select the heuristic flatfield option in the standard configuration\n",
    "config_dict[\"source_config\"][\"LSTEventSource\"][\"use_flatfield_heuristic\"] = True\n",
    "\n",
    "#-------------------\n",
    "\n",
    "with open(config_file, 'w') as json_file:\n",
    "    json.dump(config_dict, json_file)"
   ]
  },
  {
   "cell_type": "markdown",
   "id": "66b32e12",
   "metadata": {},
   "source": [
    "# Finding the files that interest us\n",
    "#### Extracting dl1 files and dl1 datachecks"
   ]
  },
  {
   "cell_type": "code",
   "execution_count": 5,
   "id": "e95eb908",
   "metadata": {},
   "outputs": [
    {
     "name": "stdout",
     "output_type": "stream",
     "text": [
      "\n",
      "Adding dl1  data to dictionary...\n",
      "...Finished adding dl1 data to dictionary\n",
      "\n",
      "Adding dl1 datacheck data to dictionary...\n",
      "...Finished adding dl1 data to dictionary\n"
     ]
    }
   ],
   "source": [
    "# Getting coordinates of source\n",
    "source_coords = SkyCoord.from_name(source_name)\n",
    "\n",
    "dict_source = {\n",
    "    \"name\"   : source_name,\n",
    "    \"coords\" : source_coords,\n",
    "    \"ra\"     : source_coords.ra.deg  * u.deg, # ra in degrees\n",
    "    \"dec\"    : source_coords.dec.deg * u.deg, # dec in degrees\n",
    "}\n",
    "\n",
    "# We create a empty dictionary to store all the information needed inside\n",
    "DICT = {}\n",
    "for run in run_numbers:\n",
    "    DICT[run] = {\n",
    "        \"run_num\" : run,\n",
    "        \"errors\"  : \"\", # log of errors trough the analysis\n",
    "    }\n",
    "\n",
    "DICT = utils.add_dl1_paths_to_dict(DICT, dl1_root)\n",
    "DICT = utils.add_dl1_paths_to_dict(DICT, dl1_root, dchecking=True)"
   ]
  },
  {
   "cell_type": "markdown",
   "id": "fac5fda0",
   "metadata": {},
   "source": [
    "#### Then we read the observations information and also the selected nodes for MC and RFs and we add it to the DICT"
   ]
  },
  {
   "cell_type": "code",
   "execution_count": 6,
   "id": "91f1e1ce",
   "metadata": {},
   "outputs": [
    {
     "name": "stdout",
     "output_type": "stream",
     "text": [
      "CPU times: user 122 ms, sys: 52.4 ms, total: 174 ms\n",
      "Wall time: 1.37 s\n"
     ]
    }
   ],
   "source": [
    "%%time\n",
    "for run in run_numbers:\n",
    "\n",
    "    tab = read_table(DICT[run][\"dchecks\"][\"runwise\"], \"/dl1datacheck/cosmics\")\n",
    "    \n",
    "    # reading the variables\n",
    "    _zd,     _az       = 90 - np.rad2deg(np.array(tab[\"mean_alt_tel\"])), np.rad2deg(np.array(tab[\"mean_az_tel\"]))\n",
    "    _t_start, _t_elapsed = tab[\"dragon_time\"][0][0],                       np.array(tab[\"elapsed_time\"])\n",
    "    \n",
    "    DICT[run][\"time\"] = {\n",
    "        \"tstart\"   : _t_start,            # datetime object\n",
    "        \"telapsed\" : np.sum(_t_elapsed),  # s\n",
    "        \"srunwise\" : {\n",
    "            \"telapsed\" : _t_elapsed,      # s      \n",
    "        },\n",
    "    }\n",
    "    DICT[run][\"pointing\"] = {\n",
    "        \"zd\" : np.mean(_zd),  # deg\n",
    "        \"az\" : np.mean(_az),  # deg\n",
    "        \"srunwise\" : {\n",
    "            \"zd\" : _zd,       # deg\n",
    "            \"az\" : _az,       # deg\n",
    "        },\n",
    "    }\n",
    "    \n",
    "# then we also select the RFs and MC files looking at the nodes available\n",
    "DICT, dict_nodes = utils.add_mc_and_rfs_nodes(DICT, rfs_root, mcs_root, dict_source)"
   ]
  },
  {
   "cell_type": "code",
   "execution_count": 7,
   "id": "6831dd34",
   "metadata": {},
   "outputs": [
    {
     "data": {
      "image/png": "[encoded data removed]",
      "text/plain": [
       "<Figure size 1200x500 with 2 Axes>"
      ]
     },
     "metadata": {},
     "output_type": "display_data"
    }
   ],
   "source": [
    "fig = plt.figure(figsize=(12, 5))\n",
    "fig.suptitle(\"MC nodes and observation pointings\")\n",
    "ax1 = fig.add_subplot(121)\n",
    "ax2 = fig.add_subplot(122, projection=\"polar\")\n",
    "\n",
    "colors = [np.random.rand(3) for _ in range(len(run_numbers))] # random color for each run\n",
    "for method, ax in zip([np.array, np.deg2rad], [ax1, ax2]):\n",
    "    for i, run in enumerate(run_numbers):\n",
    "        \n",
    "        ax.plot(method(DICT[run][\"pointing\"][\"srunwise\"][\"az\"]), DICT[run][\"pointing\"][\"srunwise\"][\"zd\"], marker=\"\",  color=colors[i], ls=\"-\", lw=2)\n",
    "        ax.plot(method(DICT[run][\"pointing\"][\"az\"]),             DICT[run][\"pointing\"][\"zd\"],             marker=\"o\", color=colors[i], ls=\"\",  ms=2)\n",
    " \n",
    "        ax.plot([], [], marker=\"o\", ls=\"-\", lw=2, color=colors[i], label=f\"Run {run}\")\n",
    "    ax.plot(method(dict_nodes[\"pointing\"][\"az\"]), dict_nodes[\"pointing\"][\"zd\"], marker=\"x\", ls=\"\", color=\"k\", zorder=-10, label=\"MC nodes\")\n",
    "\n",
    "for ax in [ax1, ax2]:\n",
    "    ax.grid(True, zorder=-100)\n",
    "    ax.set_ylim(0, 90)\n",
    "ax1.set_xlim(0, 360)\n",
    "ax2.legend(loc=\"upper left\", bbox_to_anchor=(1, 1.1))\n",
    "ax2.set_yticks([22.5, 45, 67.5], [])\n",
    "ax1.set_xlabel(\"az [deg]\")\n",
    "ax1.set_ylabel(\"zd [deg]\")\n",
    "plt.show()"
   ]
  },
  {
   "cell_type": "markdown",
   "id": "9a7facb6",
   "metadata": {},
   "source": [
    "# DL1a to DL1b"
   ]
  },
  {
   "cell_type": "code",
   "execution_count": 10,
   "id": "ab88c2c5",
   "metadata": {},
   "outputs": [
    {
     "name": "stdout",
     "output_type": "stream",
     "text": [
      "\n",
      "Computing dl1b Run 15272 Subrun 0000 - 0.0% sruns 1/1 runs\n",
      "--> /fefs/aswg/workspace/juan.jimenez/lst_pipeline/../data/cosmic_ray_data_correction/crab/dl1b/dl1_LST-1.Run15272.0000_scaled1.0000.h5\n",
      "\n",
      "Pedestal cleaning\n",
      "Fraction of pixel cleaning thresholds above picture thr.:0.031\n",
      "Tailcut clean with pedestal threshold config used:{'picture_thresh': 8, 'boundary_thresh': 4, 'sigma': 2.5, 'keep_isolated_pixels': False, 'min_number_picture_neighbors': 2, 'use_only_main_island': False, 'delta_time': 2}\n",
      "Using dynamic cleaning for events with average size of the 3 most brighest pixels > 267 p.e\n",
      "Remove from image pixels which have charge below = 0.03 * average size\n",
      "\u001b[0mCPU times: user 2.18 s, sys: 482 ms, total: 2.66 s\n",
      "Wall time: 2min 48s\n"
     ]
    }
   ],
   "source": [
    "%%time\n",
    "for ir, run in enumerate(DICT.keys()):\n",
    "\n",
    "    sruns = [int(path.split(\".\")[-2]) for path in DICT[run][\"dl1a\"][\"srunwise\"]]\n",
    "    DICT[run][\"dl1b\"] = {\"srunwise\" : []}\n",
    "\n",
    "    for i, srun in enumerate(sruns):\n",
    "\n",
    "        if i in [0]:\n",
    "            input_fname  = DICT[run][\"dl1a\"][\"srunwise\"][i]\n",
    "            output_fname = dir_dl1b + f\"dl1_LST-1.Run{run:05}.{srun:04}_scaled{1:.4f}.h5\"\n",
    "    \n",
    "            print(f\"\\nComputing dl1b Run {run:5} Subrun {srun:04} - {i/len(sruns)*100:3.1f}% sruns {ir+1}/{len(DICT.keys())} runs\")\n",
    "            print(f\"--> {output_fname}\\n\")\n",
    "    \n",
    "            !lstchain_dl1ab \\\n",
    "              -f $input_fname \\\n",
    "              -o $output_fname \\\n",
    "              -c $config_file \\\n",
    "              --no-image \\\n",
    "              --light-scaling $1\n",
    "    \n",
    "            DICT[run][\"dl1b\"][\"srunwise\"].append(output_fname)"
   ]
  },
  {
   "cell_type": "markdown",
   "id": "7d4483a6",
   "metadata": {},
   "source": [
    "# DL1b to DL2"
   ]
  },
  {
   "cell_type": "code",
   "execution_count": 11,
   "id": "5fe4dd45",
   "metadata": {
    "scrolled": true
   },
   "outputs": [
    {
     "name": "stdout",
     "output_type": "stream",
     "text": [
      "\n",
      "Computing dl2 Run 15272 Subrun 0000 - 0.0% sruns 1/1 runs\n",
      "--> /fefs/aswg/workspace/juan.jimenez/lst_pipeline/../data/cosmic_ray_data_correction/crab/dl2/15272/dl2_LST-1.Run15272.0000_scaled1.0000.h5\n",
      "\n",
      "^C\n",
      "Traceback (most recent call last):\n",
      "  File \"/fefs/aswg/workspace/juan.jimenez/.conda/envs/lst-dev2/bin/lstchain_dl1_to_dl2\", line 5, in <module>\n",
      "    from lstchain.scripts.lstchain_dl1_to_dl2 import main\n",
      "  File \"/fefs/aswg/workspace/juan.jimenez/softs/cta-lstchain/lstchain/__init__.py\", line 4, in <module>\n",
      "    from . import calib\n",
      "  File \"/fefs/aswg/workspace/juan.jimenez/softs/cta-lstchain/lstchain/calib/__init__.py\", line 1, in <module>\n",
      "    from .camera.calib import (\n",
      "  File \"/fefs/aswg/workspace/juan.jimenez/softs/cta-lstchain/lstchain/calib/camera/__init__.py\", line 7, in <module>\n",
      "    from .calib import load_calibrator_from_config\n",
      "  File \"/fefs/aswg/workspace/juan.jimenez/softs/cta-lstchain/lstchain/calib/camera/calib.py\", line 12, in <module>\n",
      "    from ctapipe.image import ImageExtractor\n",
      "  File \"/fefs/aswg/workspace/juan.jimenez/.conda/envs/lst-dev2/lib/python3.11/site-packages/ctapipe/image/__init__.py\", line 43, in <module>\n",
      "    from .muon import (\n",
      "  File \"/fefs/aswg/workspace/juan.jimenez/.conda/envs/lst-dev2/lib/python3.11/site-packages/ctapipe/image/muon/__init__.py\", line 8, in <module>\n",
      "    from .intensity_fitter import MuonIntensityFitter\n",
      "  File \"/fefs/aswg/workspace/juan.jimenez/.conda/envs/lst-dev2/lib/python3.11/site-packages/ctapipe/image/muon/intensity_fitter.py\", line 38, in <module>\n",
      "    @vectorize([double(double, double, double)])\n",
      "     ^^^^^^^^^^^^^^^^^^^^^^^^^^^^^^^^^^^^^^^^^^^\n",
      "  File \"/fefs/aswg/workspace/juan.jimenez/.conda/envs/lst-dev2/lib/python3.11/site-packages/numba/np/ufunc/decorators.py\", line 131, in wrap\n",
      "    vec.add(sig)\n",
      "  File \"/fefs/aswg/workspace/juan.jimenez/.conda/envs/lst-dev2/lib/python3.11/site-packages/numba/np/ufunc/dufunc.py\", line 175, in add\n",
      "    return self._compile_for_argtys(args, return_type)\n",
      "           ^^^^^^^^^^^^^^^^^^^^^^^^^^^^^^^^^^^^^^^^^^^\n",
      "  File \"/fefs/aswg/workspace/juan.jimenez/.conda/envs/lst-dev2/lib/python3.11/site-packages/numba/np/ufunc/dufunc.py\", line 238, in _compile_for_argtys\n",
      "    cres, argtys, return_type = ufuncbuilder._compile_element_wise_function(\n",
      "                                ^^^^^^^^^^^^^^^^^^^^^^^^^^^^^^^^^^^^^^^^^^^^\n",
      "  File \"/fefs/aswg/workspace/juan.jimenez/.conda/envs/lst-dev2/lib/python3.11/site-packages/numba/np/ufunc/ufuncbuilder.py\", line 176, in _compile_element_wise_function\n",
      "    cres = nb_func.compile(sig, **targetoptions)\n",
      "           ^^^^^^^^^^^^^^^^^^^^^^^^^^^^^^^^^^^^^\n",
      "  File \"/fefs/aswg/workspace/juan.jimenez/.conda/envs/lst-dev2/lib/python3.11/site-packages/numba/np/ufunc/ufuncbuilder.py\", line 124, in compile\n",
      "    return self._compile_core(sig, flags, locals)\n",
      "           ^^^^^^^^^^^^^^^^^^^^^^^^^^^^^^^^^^^^^^\n",
      "  File \"/fefs/aswg/workspace/juan.jimenez/.conda/envs/lst-dev2/lib/python3.11/site-packages/numba/np/ufunc/ufuncbuilder.py\", line 157, in _compile_core\n",
      "    cres = compiler.compile_extra(typingctx, targetctx,\n",
      "           ^^^^^^^^^^^^^^^^^^^^^^^^^^^^^^^^^^^^^^^^^^^^\n",
      "  File \"/fefs/aswg/workspace/juan.jimenez/.conda/envs/lst-dev2/lib/python3.11/site-packages/numba/core/compiler.py\", line 770, in compile_extra\n",
      "CPU times: user 73.4 ms, sys: 30.3 ms, total: 104 ms\n",
      "Wall time: 5.59 s\n"
     ]
    }
   ],
   "source": [
    "%%time\n",
    "for ir, run in enumerate(DICT.keys()):\n",
    "            \n",
    "    sruns = [int(path.split(\".\")[-2]) for path in DICT[run][\"dl1a\"][\"srunwise\"]]\n",
    "    DICT[run][\"dl2\"] = {\"srunwise\" : []}\n",
    "\n",
    "    for i, srun in enumerate(sruns):\n",
    "        if i in [0]:\n",
    "            input_fname  = DICT[run][\"dl1b\"][\"srunwise\"][i]\n",
    "            output_fname = dir_dl2 + f\"{run:05}/\" + input_fname.split(\"/\")[-1].replace(\"dl1\", \"dl2\", 1)\n",
    "            rf_node      = DICT[run][\"simulations\"][\"rf\"]\n",
    "            dir_run      = dir_dl2 + f\"{run:05}/\"\n",
    "    \n",
    "            print(f\"\\nComputing dl2 Run {run:5} Subrun {srun:04} - {i/len(sruns)*100:3.1f}% sruns {ir+1}/{len(DICT.keys())} runs\")\n",
    "            print(f\"--> {output_fname}\\n\")\n",
    "    \n",
    "            !lstchain_dl1_to_dl2 \\\n",
    "              -f $input_fname \\\n",
    "              -p $rf_node \\\n",
    "              -o $dir_run \\\n",
    "              -c $config_file \\\n",
    "    \n",
    "            DICT[run][\"dl2\"][\"srunwise\"].append(output_fname)"
   ]
  },
  {
   "cell_type": "markdown",
   "id": "75c28194",
   "metadata": {},
   "source": [
    "# DL2 merging run-wise"
   ]
  },
  {
   "cell_type": "code",
   "execution_count": 13,
   "id": "549af078",
   "metadata": {},
   "outputs": [
    {
     "name": "stdout",
     "output_type": "stream",
     "text": [
      "Traceback (most recent call last):\n",
      "  File \"/fefs/aswg/workspace/juan.jimenez/.conda/envs/lst-dev2/bin/lstchain_merge_hdf5_files\", line 8, in <module>\n",
      "    sys.exit(main())\n",
      "             ^^^^^^\n",
      "  File \"/fefs/aswg/workspace/juan.jimenez/softs/cta-lstchain/lstchain/scripts/lstchain_merge_hdf5_files.py\", line 89, in main\n",
      "    keys = get_dataset_keys(file_list[0])\n",
      "                            ~~~~~~~~~^^^\n",
      "IndexError: list index out of range\n",
      "\u001b[0mCPU times: user 129 ms, sys: 40.4 ms, total: 169 ms\n",
      "Wall time: 9.18 s\n"
     ]
    }
   ],
   "source": [
    "%%time\n",
    "for ir, run in enumerate(DICT.keys()):\n",
    "    \n",
    "    output_fname = dir_dl2 + f\"dl2_LST-1.Run{run:05}.h5\"\n",
    "    \n",
    "    !lstchain_merge_hdf5_files \\\n",
    "      -d $dir_dl2 \\\n",
    "      -o $output_fname \\\n",
    "      --run-number $run \\\n",
    "      --no-image \\\n",
    "    \n",
    "    DICT[run][\"dl2\"][\"runwise\"] = output_fname"
   ]
  },
  {
   "cell_type": "markdown",
   "id": "5b96c170",
   "metadata": {},
   "source": [
    "# MCs to IRFs"
   ]
  },
  {
   "cell_type": "code",
   "execution_count": 14,
   "id": "e6d8ad8a",
   "metadata": {},
   "outputs": [
    {
     "name": "stdout",
     "output_type": "stream",
     "text": [
      "\n",
      "Computing IRF for Run 15272, 1/1 runs\n",
      "--> /fefs/aswg/workspace/juan.jimenez/lst_pipeline/../data/cosmic_ray_data_correction/crab/irfs/irf_dec_2276_node_theta_73.142_az_331.979_.fits.gz\n",
      "\n",
      "/fefs/aswg/workspace/juan.jimenez/softs/cta-lstchain/lstchain/reco/utils.py:535: FutureWarning: use_inf_as_na option is deprecated and will be removed in a future version. Convert inf values to NaN before operating instead.\n",
      "  with pd.option_context('mode.use_inf_as_na', True):\n",
      "\u001b[0mCPU times: user 516 ms, sys: 113 ms, total: 629 ms\n",
      "Wall time: 36 s\n"
     ]
    }
   ],
   "source": [
    "%%time\n",
    "# Already computed IRFs\n",
    "computed_irfs = glob.glob(dir_irfs + \"*\")\n",
    "\n",
    "for ir, run in enumerate(DICT.keys()):\n",
    "    \n",
    "    output_fname = dir_dl2 + f\"dl2_LST-1.Run{run:05}.h5\"\n",
    "    input_mc = DICT[run][\"simulations\"][\"mc\"]\n",
    "\n",
    "    output_irf = dir_irfs + \"irf_{}_{}.fits.gz\".format(input_mc.split(\"/\")[-3], input_mc.split(\"/\")[-2])\n",
    "\n",
    "    # we don't compute the IRF if it has been already done\n",
    "    if output_irf not in computed_irfs:\n",
    "        \n",
    "        print(f\"\\nComputing IRF for Run {run:5}, {ir+1}/{len(DICT.keys())} runs\")\n",
    "        print(f\"--> {output_irf}\\n\")\n",
    "        \n",
    "        !lstchain_create_irf_files \\\n",
    "          --input-gamma-dl2 $input_mc \\\n",
    "          --output-irf-file $output_irf \\\n",
    "          --point-like \\\n",
    "          --energy-dependent-gh \\\n",
    "          --energy-dependent-theta \\\n",
    "          --overwrite \\   \n",
    "    else:\n",
    "        print(\"\\nIRF {}_{} already computed\\n\".format(input_mc.split(\"/\")[-3], input_mc.split(\"/\")[-2]))\n",
    "\n",
    "    DICT[run][\"irf\"] = output_irf"
   ]
  },
  {
   "cell_type": "markdown",
   "id": "427be0b9",
   "metadata": {},
   "source": [
    "# DL2 to DL3"
   ]
  },
  {
   "cell_type": "code",
   "execution_count": 28,
   "id": "ca8e3a54-53fb-480a-bda3-6fb0c4c2b5fe",
   "metadata": {},
   "outputs": [],
   "source": [
    "irfs = DICT[run][\"irf\"].split(\"/irf_dec_\")[0]\n",
    "fname = \"/fefs/aswg/workspace/juan.jimenez/data/cosmic_ray_data_correction/crab/dl2/01620/dl2_LST-1.Run01620.0003_s0.5451.h5\""
   ]
  },
  {
   "cell_type": "code",
   "execution_count": 29,
   "id": "c7a65c41-2821-4e1f-997c-af7e034da1b5",
   "metadata": {},
   "outputs": [
    {
     "name": "stdout",
     "output_type": "stream",
     "text": [
      "/fefs/aswg/workspace/juan.jimenez/softs/cta-lstchain/lstchain/reco/utils.py:535: FutureWarning: use_inf_as_na option is deprecated and will be removed in a future version. Convert inf values to NaN before operating instead.\n",
      "  with pd.option_context('mode.use_inf_as_na', True):\n",
      "\u001b[0;39mDownloading https://datacenter.iers.org/data/9/finals2000A.all\u001b[0m\n",
      "|\u001b[0;34m==========================================\u001b[0m| 3.5M/3.5M (100.00%)         3sETA     0s\n",
      "\u001b[0m"
     ]
    }
   ],
   "source": [
    "!lstchain_create_dl3_file \\\n",
    "--input-dl2 $fname \\\n",
    "--input-irf-path $irfs \\\n",
    "--output-dl3-path $dir_dl3 \\\n",
    "--source-name $source_name "
   ]
  },
  {
   "cell_type": "code",
   "execution_count": null,
   "id": "6c53d6c2",
   "metadata": {},
   "outputs": [],
   "source": [
    "%%time\n",
    "ra_str  = \"{}deg\".format(dict_source[\"ra\"])\n",
    "dec_str = \"{}deg\".format(dict_source[\"dec\"])\n",
    "for ir, run in enumerate(DICT.keys()):\n",
    "\n",
    "    dl2_fname = DICT[run][\"dl2\"][\"runwise\"]\n",
    "    irf_fname = DICT[run][\"irf\"]\n",
    "    \n",
    "    !lstchain_create_dl3_file \\\n",
    "      --d $dl2_fname \\\n",
    "      --i $irf_fname \\\n",
    "      --o $dir_dl3 \\\n",
    "      --source-name $source_name \\\n",
    "      --source-ra  $ra_str \\\n",
    "      --source-dec $dec_str \\\n",
    "      --config $config_file \\\n",
    "      --overwrite \\"
   ]
  },
  {
   "cell_type": "markdown",
   "id": "e1be4be3",
   "metadata": {},
   "source": [
    "## Add DL3 index files"
   ]
  },
  {
   "cell_type": "code",
   "execution_count": 31,
   "id": "2719e761",
   "metadata": {},
   "outputs": [
    {
     "name": "stdout",
     "output_type": "stream",
     "text": [
      "usage: lstchain_create_dl3_index_files [-h] [-q] [--quiet] [-v] [--verbose]\n",
      "                                       [--overwrite]\n",
      "                                       [-c FITSIndexWriter.config_files]\n",
      "                                       [--config FITSIndexWriter.config_files]\n",
      "                                       [--log-level FITSIndexWriter.log_level]\n",
      "                                       [-l FITSIndexWriter.log_file]\n",
      "                                       [--log-file FITSIndexWriter.log_file]\n",
      "                                       [--log-file-level FITSIndexWriter.log_file_level]\n",
      "                                       [--provenance-log FITSIndexWriter.provenance_log]\n",
      "                                       [-d FITSIndexWriter.input_dl3_dir]\n",
      "                                       [--input-dl3-dir FITSIndexWriter.input_dl3_dir]\n",
      "                                       [-o FITSIndexWriter.output_index_path]\n",
      "                                       [--output-index-path FITSIndexWriter.output_index_path]\n",
      "                                       [-p FITSIndexWriter.file_pattern]\n",
      "                                       [--file-pattern FITSIndexWriter.file_pattern]\n",
      "                                       [extra_args ...]\n",
      "lstchain_create_dl3_index_files: error: argument --FITSIndexWriter.input_dl3_dir: expected one argument\n",
      "\u001b[0m"
     ]
    }
   ],
   "source": [
    "# logger.info(f\"All dl3 files created 100%\\n\\n\\nCreating index files...\")\n",
    "\n",
    "# Creating the index file\n",
    "!lstchain_create_dl3_index_files \\\n",
    "--input-dl3-dir $path_dl3 \\\n",
    "--file-pattern 'dl3*.fits' \\\n",
    "--overwrite\n",
    "\n",
    "# logger.info(f\"Finished with the dl3 process\")"
   ]
  }
 ],
 "metadata": {
  "kernelspec": {
   "display_name": "Python 3 (ipykernel)",
   "language": "python",
   "name": "python3"
  },
  "language_info": {
   "codemirror_mode": {
    "name": "ipython",
    "version": 3
   },
   "file_extension": ".py",
   "mimetype": "text/x-python",
   "name": "python",
   "nbconvert_exporter": "python",
   "pygments_lexer": "ipython3",
   "version": "3.11.6"
  }
 },
 "nbformat": 4,
 "nbformat_minor": 5
}
