{
 "cells": [
  {
   "cell_type": "markdown",
   "id": "e70776f7-e2e1-4057-b7ef-878b2be0556d",
   "metadata": {},
   "source": [
    "## Import packages"
   ]
  },
  {
   "cell_type": "code",
   "execution_count": 1,
   "id": "7b3b4638",
   "metadata": {},
   "outputs": [
    {
     "data": {
      "text/html": [
       "<style>.container { width:100% !important; }</style>"
      ],
      "text/plain": [
       "<IPython.core.display.HTML object>"
      ]
     },
     "metadata": {},
     "output_type": "display_data"
    }
   ],
   "source": [
    "import matplotlib.pyplot as plt\n",
    "import numpy as np\n",
    "import astropy.units as u\n",
    "from datetime import datetime\n",
    "import pickle, json, sys, os, glob\n",
    "import pandas as pd\n",
    "\n",
    "from IPython.display import display, HTML\n",
    "display(HTML(\"<style>.container { width:100% !important; }</style>\"))\n",
    "\n",
    "import utils\n",
    "\n",
    "from traitlets.config.loader import Config\n",
    "from astropy.coordinates     import SkyCoord\n",
    "from lstchain.io.config      import get_standard_config\n",
    "from ctapipe.io              import read_table\n",
    "\n",
    "# location of the scripts\n",
    "sys.path.insert(0, os.path.join(\"/fefs/aswg/workspace/juan.jimenez/cosmic_ray_data_correction/scripts\"))\n",
    "import auxiliar as aux\n",
    "import geometry as geom"
   ]
  },
  {
   "cell_type": "markdown",
   "id": "3cff6f04",
   "metadata": {},
   "source": [
    "# Some configurations"
   ]
  },
  {
   "cell_type": "code",
   "execution_count": 2,
   "id": "d56ff173",
   "metadata": {},
   "outputs": [],
   "source": [
    "# Source specifications\n",
    "source_name = \"crab\"\n",
    "\n",
    "# Maybe we add a way to extract the run numbers we are interested in\n",
    "run_numbers = [6172] # [6172, 6242, 6194, 6193, 15337, 15272, 15339, 15340] # [15272] # [15337, 15272]"
   ]
  },
  {
   "cell_type": "markdown",
   "id": "d4ea7368",
   "metadata": {},
   "source": [
    "# Paths to data and results"
   ]
  },
  {
   "cell_type": "code",
   "execution_count": 3,
   "id": "66854bb2",
   "metadata": {},
   "outputs": [],
   "source": [
    "# Root path of this script\n",
    "root = \"/fefs/aswg/workspace/juan.jimenez/lst_pipeline/\"\n",
    "# Path to store the configuration file we are going to use\n",
    "config_file = root + \"objects/standard_config.json\"\n",
    "# Data main directory\n",
    "root_data = root + f\"../data/cosmic_ray_data_correction/{source_name}/\"\n",
    "\n",
    "# STANDARD paths ---------\n",
    "# DL1 data root\n",
    "dl1_root = \"/fefs/aswg/data/real/DL1/*/v0.*/tailcut84/\"\n",
    "# RFs root main directory\n",
    "rfs_root = \"/fefs/aswg/data/models/AllSky/20230901_v0.10.4_allsky_base_prod/\"\n",
    "# MCs dl2 main directory\n",
    "mcs_root = \"/fefs/aswg/data/mc/DL2/AllSky/20230901_v0.10.4_allsky_base_prod/TestingDataset/\"\n",
    "\n",
    "\n",
    "# directories for the data\n",
    "dir_dl1b = root_data + \"dl1b/\"\n",
    "dir_dl2  = root_data + \"dl2/\"\n",
    "dir_dl3  = root_data + \"dl3/\"\n",
    "dir_irfs = root_data + \"irfs/\"\n",
    "\n",
    "\n",
    "# Creating the directories in case they don't exist\n",
    "for path in [os.path.dirname(config_file), dir_dl1b, dir_dl2, dir_dl3, dir_irfs]:\n",
    "    if not os.path.exists(path):\n",
    "        os.makedirs(os.path.join(path), exist_ok=True)"
   ]
  },
  {
   "cell_type": "markdown",
   "id": "ccb8d10f",
   "metadata": {},
   "source": [
    "# Opening and storing configuration file"
   ]
  },
  {
   "cell_type": "code",
   "execution_count": 4,
   "id": "5030e785",
   "metadata": {},
   "outputs": [],
   "source": [
    "config_dict = get_standard_config()\n",
    "# print(config_dict)\n",
    "\n",
    "#-------------------\n",
    "# Changes in the configuration should be done here\n",
    "\n",
    "# We select the heuristic flatfield option in the standard configuration\n",
    "config_dict[\"source_config\"][\"LSTEventSource\"][\"use_flatfield_heuristic\"] = True\n",
    "\n",
    "#-------------------\n",
    "\n",
    "with open(config_file, 'w') as json_file:\n",
    "    json.dump(config_dict, json_file)"
   ]
  },
  {
   "cell_type": "markdown",
   "id": "66b32e12",
   "metadata": {},
   "source": [
    "# Finding the files that interest us\n",
    "#### Extracting dl1 files and dl1 datachecks"
   ]
  },
  {
   "cell_type": "code",
   "execution_count": 5,
   "id": "e95eb908",
   "metadata": {},
   "outputs": [
    {
     "name": "stdout",
     "output_type": "stream",
     "text": [
      "\n",
      "Adding dl1  data to dictionary...\n",
      "...Finished adding dl1 data to dictionary\n",
      "\n",
      "Adding dl1 datacheck data to dictionary...\n",
      "...Finished adding dl1 data to dictionary\n"
     ]
    }
   ],
   "source": [
    "# Getting coordinates of source\n",
    "source_coords = SkyCoord.from_name(source_name)\n",
    "\n",
    "dict_source = {\n",
    "    \"name\"   : source_name,\n",
    "    \"coords\" : source_coords,\n",
    "    \"ra\"     : source_coords.ra.deg  * u.deg, # ra in degrees\n",
    "    \"dec\"    : source_coords.dec.deg * u.deg, # dec in degrees\n",
    "}\n",
    "\n",
    "# We create a empty dictionary to store all the information needed inside\n",
    "DICT = {}\n",
    "for run in run_numbers:\n",
    "    DICT[run] = {\n",
    "        \"run_num\" : run,\n",
    "        \"errors\"  : \"\", # log of errors trough the analysis\n",
    "    }\n",
    "\n",
    "DICT = utils.add_dl1_paths_to_dict(DICT, dl1_root)\n",
    "DICT = utils.add_dl1_paths_to_dict(DICT, dl1_root, dchecking=True)"
   ]
  },
  {
   "cell_type": "markdown",
   "id": "fac5fda0",
   "metadata": {},
   "source": [
    "#### Then we read the observations information and also the selected nodes for MC and RFs and we add it to the DICT"
   ]
  },
  {
   "cell_type": "code",
   "execution_count": 6,
   "id": "91f1e1ce",
   "metadata": {},
   "outputs": [
    {
     "name": "stdout",
     "output_type": "stream",
     "text": [
      "CPU times: user 208 ms, sys: 120 ms, total: 328 ms\n",
      "Wall time: 3 s\n"
     ]
    }
   ],
   "source": [
    "%%time\n",
    "for run in run_numbers:\n",
    "\n",
    "    tab = read_table(DICT[run][\"dchecks\"][\"runwise\"], \"/dl1datacheck/cosmics\")\n",
    "    \n",
    "    # reading the variables\n",
    "    _zd,     _az       = 90 - np.rad2deg(np.array(tab[\"mean_alt_tel\"])), np.rad2deg(np.array(tab[\"mean_az_tel\"]))\n",
    "    _t_start, _t_elapsed = tab[\"dragon_time\"][0][0],                       np.array(tab[\"elapsed_time\"])\n",
    "    \n",
    "    DICT[run][\"time\"] = {\n",
    "        \"tstart\"   : _t_start,            # datetime object\n",
    "        \"telapsed\" : np.sum(_t_elapsed),  # s\n",
    "        \"srunwise\" : {\n",
    "            \"telapsed\" : _t_elapsed,      # s      \n",
    "        },\n",
    "    }\n",
    "    DICT[run][\"pointing\"] = {\n",
    "        \"zd\" : np.mean(_zd),  # deg\n",
    "        \"az\" : np.mean(_az),  # deg\n",
    "        \"srunwise\" : {\n",
    "            \"zd\" : _zd,       # deg\n",
    "            \"az\" : _az,       # deg\n",
    "        },\n",
    "    }\n",
    "    \n",
    "# then we also select the RFs and MC files looking at the nodes available\n",
    "DICT, dict_nodes = utils.add_mc_and_rfs_nodes(DICT, rfs_root, mcs_root, dict_source)"
   ]
  },
  {
   "cell_type": "markdown",
   "id": "ecd73fdd",
   "metadata": {},
   "source": [
    "# Reading DL1a (?)"
   ]
  },
  {
   "cell_type": "code",
   "execution_count": 7,
   "id": "01556156",
   "metadata": {},
   "outputs": [],
   "source": [
    "from lstchain.io.io import dl1_params_lstcam_key, dl1_images_lstcam_key\n",
    "from lstchain.io.io import dl1_params_tel_mon_ped_key, dl1_params_tel_mon_cal_key, dl1_params_tel_mon_flat_key\n",
    "from scipy.optimize import minimize\n",
    "from scipy import optimize\n",
    "\n",
    "plt.rcParams['mathtext.fontset'] = 'stix'\n",
    "plt.rcParams['font.family']      = 'STIXGeneral'\n",
    "plt.rcParams['mathtext.rm']      = 'Bitstream Vera Sans'\n",
    "plt.rcParams['mathtext.it']      = 'Bitstream Vera Sans:italic'\n",
    "plt.rcParams['mathtext.bf']      = 'Bitstream Vera Sans:bold'\n",
    "plt.rcParams['font.size']        = 15\n",
    "\n",
    "total_bins = np.linspace(1.1, 5, 200)\n",
    "delta_extending_region = 1.4\n",
    "delta_extending_region = 1.6526124630784766 + 0.4\n",
    "\n",
    "lims_intensity = [316, 562]\n",
    "lims_intensity_ext = [60, lims_intensity[1] * 1]\n",
    "\n",
    "\n",
    "dl1_file = DICT[run][\"dl1a\"][\"srunwise\"][0]\n",
    "\n",
    "table_total_dl1 = read_table(dl1_file, dl1_params_lstcam_key)\n",
    "table_cut_dl1   = table_total_dl1[(table_total_dl1[\"intensity\"] >= lims_intensity_ext[0]) & (table_total_dl1[\"intensity\"] <= lims_intensity_ext[1])][:4000]"
   ]
  },
  {
   "cell_type": "code",
   "execution_count": 8,
   "id": "4e40c163",
   "metadata": {},
   "outputs": [
    {
     "data": {
      "image/png": "[encoded data removed]",
      "text/plain": [
       "<Figure size 1000x400 with 1 Axes>"
      ]
     },
     "metadata": {},
     "output_type": "display_data"
    }
   ],
   "source": [
    "plt.figure(figsize=(10,4))\n",
    "plt.hist(table_total_dl1[\"log_intensity\"], total_bins, label=f\"Total {len(table_total_dl1)} events\")\n",
    "plt.axvline(np.log10(lims_intensity[0]), color=\"k\", label=\"Fit range\")\n",
    "plt.axvline(np.log10(lims_intensity[1]), color=\"k\")\n",
    "plt.axvline(np.log10(lims_intensity_ext[0]), color=\"k\", ls=\"--\", label=f\"Selected range (fit * {delta_extending_region})\")\n",
    "plt.axvline(np.log10(lims_intensity_ext[1]), color=\"k\", ls=\"--\")\n",
    "\n",
    "plt.hist(table_cut_dl1[\"log_intensity\"], total_bins, histtype=\"stepfilled\", alpha=0.6, label=f\"Subset {len(table_cut_dl1)} events\")\n",
    "plt.legend()\n",
    "plt.show()"
   ]
  },
  {
   "cell_type": "code",
   "execution_count": 9,
   "id": "5a6f48e5-812f-426d-97d6-c42ba95ccf71",
   "metadata": {},
   "outputs": [],
   "source": [
    "base = \"/fefs/aswg/workspace/juan.jimenez/data/cosmic_ray_data_correction/crab/dl1b/02114/\"\n",
    "dl1b_1 = read_table(base+\"dl1_LST-1.Run02114.0078_s1.0000.h5\", dl1_params_lstcam_key)\n",
    "dl1b_2 = read_table(base+\"dl1_LST-1.Run02114.0078_s1.3266.h5\", dl1_params_lstcam_key)"
   ]
  },
  {
   "cell_type": "code",
   "execution_count": 10,
   "id": "77908491-c457-4391-b193-bd3ff13522bb",
   "metadata": {},
   "outputs": [
    {
     "data": {
      "image/png": "[encoded data removed]",
      "text/plain": [
       "<Figure size 1000x400 with 1 Axes>"
      ]
     },
     "metadata": {},
     "output_type": "display_data"
    }
   ],
   "source": [
    "plt.figure(figsize=(10,4))\n",
    "plt.axvline(np.log10(lims_intensity[0]), color=\"k\", label=\"Fit range\")\n",
    "plt.axvline(np.log10(lims_intensity[1]), color=\"k\")\n",
    "plt.axvline(np.log10(lims_intensity_ext[0]), color=\"k\", ls=\"--\", label=f\"Selected range (fit * {delta_extending_region})\")\n",
    "plt.axvline(np.log10(lims_intensity_ext[1]), color=\"k\", ls=\"--\")\n",
    "\n",
    "plt.hist(dl1b_1[\"log_intensity\"], total_bins, label=f\"Total {len(table_total_dl1)} events\")\n",
    "plt.hist(dl1b_2[\"log_intensity\"], total_bins, histtype=\"stepfilled\", alpha=0.6, label=f\"Subset {len(table_cut_dl1)} events\")\n",
    "plt.legend()\n",
    "plt.show()"
   ]
  },
  {
   "cell_type": "code",
   "execution_count": 11,
   "id": "829ac4f0-9e63-4bdb-b93e-5c229723e8cb",
   "metadata": {},
   "outputs": [],
   "source": [
    "dir_objects = \"/fefs/aswg/workspace/juan.jimenez/cosmic_ray_data_correction/analysis_weather/objects\"\n",
    "with open(dir_objects + \"/data_dict.pkl\", 'rb') as f:\n",
    "    dict_dcheck = pickle.load(f)  "
   ]
  },
  {
   "cell_type": "code",
   "execution_count": 24,
   "id": "8db01ab0-668d-480b-aec0-60dc3d90a00a",
   "metadata": {},
   "outputs": [
    {
     "data": {
      "text/plain": [
       "1.6526124630784766"
      ]
     },
     "execution_count": 24,
     "metadata": {},
     "output_type": "execute_result"
    }
   ],
   "source": [
    "run = run_numbers[0]\n",
    "srun = 0\n",
    "\n",
    "index_run  = list(dict_dcheck[\"run\"]).index(run)\n",
    "lightyield = dict_dcheck[\"light_yield\"][index_run]\n",
    "telapsed   = dict_dcheck[\"telapsed\"][index_run]\n",
    "zd_run = (dict_dcheck[\"zd\"][index_run])\n",
    "\n",
    "1/lightyield"
   ]
  },
  {
   "cell_type": "code",
   "execution_count": 26,
   "id": "8a8c0bd8-76d7-4907-b395-bf5403e41eb6",
   "metadata": {},
   "outputs": [
    {
     "data": {
      "text/plain": [
       "1.0079909002634035"
      ]
     },
     "execution_count": 26,
     "metadata": {},
     "output_type": "execute_result"
    }
   ],
   "source": [
    "1/lyf"
   ]
  },
  {
   "cell_type": "code",
   "execution_count": 13,
   "id": "e3092883-8b31-4b1b-aed8-881a0c86912b",
   "metadata": {},
   "outputs": [],
   "source": [
    "#\n",
    "\n",
    "\n",
    "\n",
    "\n",
    "\n",
    "\n",
    "\n",
    "#"
   ]
  },
  {
   "cell_type": "code",
   "execution_count": 14,
   "id": "34624e77-1ca7-4635-bf0c-02b58c5fd3b4",
   "metadata": {},
   "outputs": [],
   "source": [
    "reference_rates = 1.74 \n",
    "reference_intensity = 422\n",
    "reference_power_index = -2.23\n",
    "\n",
    "def plaw(I, A, alpha):\n",
    "    return  A * (I / reference_intensity) ** alpha\n",
    "\n",
    "def likelihood_plaw(params, x, y):\n",
    "    A, k = params[0], params[1]\n",
    "    y_pred = plaw(x, A, k)\n",
    "    return np.sum((y - y_pred)**2)\n",
    "\n",
    "def calc_light_yield(refpoint, AR, alphaR, A2, alpha2):\n",
    "    \n",
    "    return (A2 / AR) ** (-1 / ( 1+ alpha2))\n",
    "\n",
    "def pol2(x, a, b, c):\n",
    "    return a + b * x + c * x * x\n",
    "\n",
    "p0a = -0.44751321\n",
    "p0b = 3.62502037\n",
    "p0c = -1.43611437\n",
    "\n",
    "p1a = -2.89253919\n",
    "p1b = 0.99443581\n",
    "p1c = -0.34013068\n",
    "\n",
    "par0_at_zenith = pol2(1, p0a, p0b, p0c)\n",
    "par1_at_zenith = pol2(1, p1a, p1b, p1c)"
   ]
  },
  {
   "cell_type": "code",
   "execution_count": 15,
   "id": "d4785ef4",
   "metadata": {
    "scrolled": true
   },
   "outputs": [
    {
     "name": "stdout",
     "output_type": "stream",
     "text": [
      "CPU times: user 12 µs, sys: 7 µs, total: 19 µs\n",
      "Wall time: 25 µs\n"
     ]
    }
   ],
   "source": [
    "%%time\n",
    "run = run_numbers[0]\n",
    "srun = 0\n",
    "# 1, 1.4141, 1.20706\n",
    "input_fname  = DICT[run][\"dl1a\"][\"srunwise\"][srun]\n",
    "\n",
    "output_fname = f\"dl1_LST-1.Run{run:05}.{srun:04}_onlyrange_1.h5\"\n",
    "\n",
    "# !lstchain_dl1ab \\\n",
    "#   -f $input_fname \\\n",
    "#   -o $output_fname \\\n",
    "#   -c $config_file \\\n",
    "#   --no-image \\\n",
    "#   --light-scaling $1"
   ]
  },
  {
   "cell_type": "code",
   "execution_count": 16,
   "id": "6c809513",
   "metadata": {},
   "outputs": [],
   "source": [
    "dl1b_df_total1 = read_table(f\"dl1_LST-1.Run{run:05}.{srun:04}_test_1.h5\", dl1_params_lstcam_key)\n",
    "dl1b_df_sub1   = read_table(f\"dl1_LST-1.Run{run:05}.{srun:04}_onlyrange_1.h5\", dl1_params_lstcam_key)"
   ]
  },
  {
   "cell_type": "code",
   "execution_count": 17,
   "id": "08ef909f-8506-42c2-ad94-4de5f3fc15b7",
   "metadata": {},
   "outputs": [],
   "source": [
    "limsint = [316, 562]\n",
    "total_bins  = np.linspace(4, 6000, 400)\n",
    "bins_c      = (total_bins[1:] + total_bins[:-1]) / 2\n",
    "bin_size    = np.diff(total_bins)\n",
    "mask_bins = []\n",
    "for b in bins_c:\n",
    "    if b >= limsint[0] and b <= limsint[1]:\n",
    "        mask_bins.append(True)\n",
    "    else:\n",
    "        mask_bins.append(False)\n",
    "bins_space = np.linspace(limsint[0] - 100, limsint[1] + 200, 100)\n",
    "\n",
    "hist_tot_1, _ = np.histogram(dl1b_df_total1[\"intensity\"], total_bins)\n",
    "hist_lim_1, _ = np.histogram(dl1b_df_sub1[\"intensity\"], total_bins)\n",
    "\n",
    "rate_tot_1 = hist_tot_1 / telapsed / bin_size\n",
    "rate_lim_1 = hist_lim_1 / telapsed / bin_size\n",
    "\n",
    "result_1 = minimize(likelihood_plaw, x0=[reference_rates, reference_power_index], args=(bins_c[mask_bins], rate_lim_1[mask_bins]))\n",
    "a_1, p_index_1 = result_1.x\n",
    "\n",
    "zd_corr_a_1 = a_1 * pol2(1, p0a, p0b, p0c) / pol2(np.cos(np.rad2deg(zd_run)), p0a, p0b, p0c)\n",
    "zd_corr_p_index_1 = p_index_1 +  pol2(1, p1a, p1b, p1c) - pol2(np.cos(np.rad2deg(zd_run)), p1a, p1b, p1c)\n",
    "\n",
    "ly1 = calc_light_yield(reference_intensity, reference_rates, reference_power_index, zd_corr_a_1, zd_corr_p_index_1)"
   ]
  },
  {
   "cell_type": "code",
   "execution_count": null,
   "id": "0681ebe3-ea89-4703-addd-d5a86c055d20",
   "metadata": {},
   "outputs": [],
   "source": [
    "# plt.plot(bins_c, rate_tot_1, color=\"r\")\n",
    "# plt.plot(bins_c, rate_tot_11, color=\"b\")\n",
    "\n",
    "# plt.plot(bins_space, plaw(bins_space, reference_rates, reference_power_index), color=\"k\", ls=\"--\")\n",
    "# plt.plot(bins_space, plaw(bins_space, zd_corr_a_1, zd_corr_p_index_1), color=\"c\", ls=\":\")\n",
    "# plt.plot(bins_space, plaw(bins_space, a_1, p_index_1), color=\"c\", ls=\"--\")\n",
    "# # plt.plot(bins_space, plaw(bins_space, reference_rates, reference_power_index), color=\"k\", ls=\"--\")\n",
    "# plt.axvline(reference_intensity / ly1)\n",
    "# plt.axvline(422)\n",
    "# plt.loglog();"
   ]
  },
  {
   "cell_type": "code",
   "execution_count": null,
   "id": "38079d73-9010-4489-81ca-585d4a6f4096",
   "metadata": {},
   "outputs": [],
   "source": [
    "%%time\n",
    "print(ly1, 1/ly1, (1+1/ly1)/2)\n",
    "output_fname = f\"dl1_LST-1.Run{run:05}.{srun:04}_test_2.h5\"\n",
    "\n",
    "scale = 1/ly1\n",
    "\n",
    "!lstchain_dl1ab \\\n",
    "  -f $input_fname \\\n",
    "  -o $output_fname \\\n",
    "  -c $config_file \\\n",
    "  --no-image \\\n",
    "  --light-scaling $scale\n",
    "\n",
    "output_fname = f\"dl1_LST-1.Run{run:05}.{srun:04}_test_3.h5\"\n",
    "\n",
    "scale = (1+1/ly1)/2\n",
    "\n",
    "!lstchain_dl1ab \\\n",
    "  -f $input_fname \\\n",
    "  -o $output_fname \\\n",
    "  -c $config_file \\\n",
    "  --no-image \\\n",
    "  --light-scaling $scale"
   ]
  },
  {
   "cell_type": "code",
   "execution_count": 18,
   "id": "f25223ef-5aab-4e86-a922-96cc9e25e2f1",
   "metadata": {},
   "outputs": [],
   "source": [
    "dl1b_df_sub2 = read_table(f\"dl1_LST-1.Run{run:05}.{srun:04}_onlyrange_2.h5\", dl1_params_lstcam_key)\n",
    "dl1b_df_sub3 = read_table(f\"dl1_LST-1.Run{run:05}.{srun:04}_onlyrange_3.h5\", dl1_params_lstcam_key)\n",
    "\n",
    "dl1b_df_total2 = read_table(f\"dl1_LST-1.Run{run:05}.{srun:04}_test_2.h5\", dl1_params_lstcam_key)\n",
    "dl1b_df_total3 = read_table(f\"dl1_LST-1.Run{run:05}.{srun:04}_test_3.h5\", dl1_params_lstcam_key)"
   ]
  },
  {
   "cell_type": "code",
   "execution_count": 19,
   "id": "a9b7ff8c-b7c0-444b-9787-febb3c913b70",
   "metadata": {},
   "outputs": [],
   "source": [
    "hist_tot_2, _ = np.histogram(dl1b_df_total2[\"intensity\"], total_bins)\n",
    "hist_tot_3, _ = np.histogram(dl1b_df_total3[\"intensity\"], total_bins)\n",
    "hist_lim_2, _ = np.histogram(dl1b_df_sub2[\"intensity\"], total_bins)\n",
    "hist_lim_3, _ = np.histogram(dl1b_df_sub3[\"intensity\"], total_bins)\n",
    "\n",
    "rate_tot_2 = hist_tot_2 / telapsed / bin_size\n",
    "rate_tot_3 = hist_tot_3 / telapsed / bin_size\n",
    "rate_lim_2 = hist_lim_2 / telapsed / bin_size\n",
    "rate_lim_3 = hist_lim_3 / telapsed / bin_size\n",
    "\n",
    "result_2 = minimize(likelihood_plaw, x0=[reference_rates, reference_power_index], args=(bins_c[mask_bins], rate_lim_2[mask_bins]))\n",
    "a_2, p_index_2 = result_2.x\n",
    "result_3 = minimize(likelihood_plaw, x0=[reference_rates, reference_power_index], args=(bins_c[mask_bins], rate_lim_3[mask_bins]))\n",
    "a_3, p_index_3 = result_3.x\n",
    "\n",
    "zd_corr_a_2 = a_2 * pol2(1, p0a, p0b, p0c) / pol2(np.cos(np.rad2deg(zd_run)), p0a, p0b, p0c)\n",
    "zd_corr_p_index_2 = p_index_2 +  pol2(1, p1a, p1b, p1c) - pol2(np.cos(np.rad2deg(zd_run)), p1a, p1b, p1c)\n",
    "\n",
    "zd_corr_a_3 = a_3 * pol2(1, p0a, p0b, p0c) / pol2(np.cos(np.rad2deg(zd_run)), p0a, p0b, p0c)\n",
    "zd_corr_p_index_3 = p_index_3 +  pol2(1, p1a, p1b, p1c) - pol2(np.cos(np.rad2deg(zd_run)), p1a, p1b, p1c)\n",
    "\n",
    "ly2 = calc_light_yield(reference_intensity, reference_rates, reference_power_index, zd_corr_a_2, zd_corr_p_index_2)\n",
    "ly3 = calc_light_yield(reference_intensity, reference_rates, reference_power_index, zd_corr_a_3, zd_corr_p_index_3)"
   ]
  },
  {
   "cell_type": "markdown",
   "id": "4961a17b-2660-486a-b8aa-8f2e277844d8",
   "metadata": {},
   "source": [
    "# Scheme plots"
   ]
  },
  {
   "cell_type": "code",
   "execution_count": 20,
   "id": "2d8da948-4fa0-4257-bc7f-ed1506e514fa",
   "metadata": {},
   "outputs": [],
   "source": [
    "pol = np.poly1d(np.polyfit([1, (1 + 1/ly1)/2, 1/ly1], [ly1, ly3, ly2], 2))\n",
    "sol  = optimize.root(pol - 1, x0=(1 + 1/ly1)/2, method='hybr').x[0]"
   ]
  },
  {
   "cell_type": "code",
   "execution_count": null,
   "id": "dcf5f62a-cb44-4179-90ad-1a7ca2ef70e3",
   "metadata": {},
   "outputs": [],
   "source": [
    "input_fname  = DICT[run][\"dl1a\"][\"srunwise\"][srun]\n",
    "output_fname = f\"dl1_LST-1.Run{run:05}.{srun:04}_onlyrange_f.h5\"\n",
    "\n",
    "!lstchain_dl1ab \\\n",
    "  -f $input_fname \\\n",
    "  -o $output_fname \\\n",
    "  -c $config_file \\\n",
    "  --no-image \\\n",
    "  --light-scaling $sol"
   ]
  },
  {
   "cell_type": "code",
   "execution_count": 21,
   "id": "e568d119-ce05-4502-b6c6-06591b009c84",
   "metadata": {},
   "outputs": [],
   "source": [
    "dl1b_df_totalf    = read_table(f\"dl1_LST-1.Run{run:05}.{srun:04}_test_f.h5\", dl1_params_lstcam_key)\n",
    "\n",
    "hist_tot_f, _ = np.histogram(dl1b_df_totalf[\"intensity\"], total_bins)\n",
    "rate_tot_f = hist_tot_f / telapsed / bin_size\n",
    "\n",
    "result_f = minimize(likelihood_plaw, x0=[reference_rates, reference_power_index], args=(bins_c[mask_bins], rate_tot_f[mask_bins]))\n",
    "a_f, p_index_f = result_f.x\n",
    "\n",
    "correction_a = pol2(1, p0a, p0b, p0c) / pol2(np.cos(np.rad2deg(zd_run)), p0a, p0b, p0c)\n",
    "correction_index = pol2(1, p1a, p1b, p1c) - pol2(np.cos(np.rad2deg(zd_run)), p1a, p1b, p1c)\n",
    "zd_corr_a_f = a_f * correction_a\n",
    "zd_corr_p_index_f = p_index_f +  correction_index\n",
    "\n",
    "lyf = calc_light_yield(reference_intensity, reference_rates, reference_power_index, zd_corr_a_f, zd_corr_p_index_f)"
   ]
  },
  {
   "cell_type": "code",
   "execution_count": null,
   "id": "0c4a1017-1967-49b3-99b4-77b852b410a0",
   "metadata": {},
   "outputs": [],
   "source": [
    "1/ly1"
   ]
  },
  {
   "cell_type": "code",
   "execution_count": 22,
   "id": "9958e9e3-4b98-46df-a8d0-d2ca50cd1be7",
   "metadata": {},
   "outputs": [
    {
     "data": {
      "image/png": "[encoded data removed]",
      "text/plain": [
       "<Figure size 1000x400 with 1 Axes>"
      ]
     },
     "metadata": {},
     "output_type": "display_data"
    }
   ],
   "source": [
    "fig, ax = plt.subplots(figsize=(10,4))\n",
    "\n",
    "plt.hist(dl1b_df_sub2[\"intensity\"] / dl1b_df_sub1[\"intensity\"], bins=np.linspace(1.4, 2, 100), \n",
    "        label=\"Intensity scaled (1.43) / Intensity\")\n",
    "plt.axvline(1/ly1, color=\"k\", ls=\"--\", label=f\"Scaling factor = {1/ly1:.2f}\")\n",
    "# plt.hist(dl1b_df_sub3[\"intensity\"] / dl1b_df_sub1[\"intensity\"], bins=np.linspace(1.2, 2, 100));\n",
    "plt.yscale(\"log\")\n",
    "plt.legend()\n",
    "plt.xlabel(\"ratio scaled/original\")\n",
    "\n",
    "plt.savefig(f\"plots/total.png\", dpi=300, bbox_inches='tight')\n",
    "plt.show()"
   ]
  },
  {
   "cell_type": "code",
   "execution_count": null,
   "id": "781079a9-9412-4b39-a9b6-561e6ddabae9",
   "metadata": {},
   "outputs": [],
   "source": []
  },
  {
   "cell_type": "code",
   "execution_count": null,
   "id": "a5239c65-3a6e-4f2b-9ab4-772fd069c61f",
   "metadata": {
    "scrolled": true
   },
   "outputs": [],
   "source": [
    "for i in range(11):\n",
    "    fig, ax = plt.subplots(figsize=(7,4))\n",
    "    \n",
    "    # plot total distribution\n",
    "    ax.fill_between(bins_c, rate_tot_1, color=\"lightgray\", lw=0, label=f\"Total {len(table_total_dl1)} evs\" if i in [0, 1] else \"\")\n",
    "    # plot blue distribution\n",
    "    if i in [1, 2, 3, 4, 5, 7]:\n",
    "        ax.fill_between(bins_c, rate_lim_1, color=\"mediumblue\", alpha=0.3, lw=0, label=f\"Chosen subset\" if i in [1, 2, 5, 7, 8] else \"\")\n",
    "    # plot reference power law\n",
    "    if i in [0, 1, 2, 3, 5, 6, 7, 10]:\n",
    "        ax.plot(bins_space, plaw(bins_space, reference_rates/correction_a, reference_power_index), \n",
    "                color=\"k\", ls=\"--\", zorder=10, label=\"Reference\" if i in [0, 5, 10] else \"\")\n",
    "    # inset defnition\n",
    "    if i in [4, 9]:\n",
    "        ins = ax.inset_axes([0.2,0.2,0.7,0.7])\n",
    "        ins.set_ylim(0.4, 1.5)\n",
    "        ins.set_xlim(0.8, 1.55)\n",
    "        ins.set_xlabel(\"Scaling factor\")\n",
    "        ins.set_ylabel(\"Light yield\")\n",
    "        ins.grid(color=\"gray\")\n",
    "    # integration range\n",
    "    if i in [0, 1, 2, 6]:\n",
    "        ax.axvspan(lims_intensity[0], lims_intensity[1], alpha=0.3, ls=\"-\", facecolor=\"none\", hatch=\"///\", edgecolor=\"k\", \n",
    "                   label=\"Fit range\" if i in [0] else \"\")\n",
    "    # axvline extended range\n",
    "    if i in [0, 1, 2]:\n",
    "        ax.axvline((lims_intensity_ext[0]), color=\"k\", ls=\":\", label=\"Extended range\" if i == 0 else \"\")\n",
    "    # blue fit\n",
    "    if i in [2, 3, 4]:\n",
    "        ax.plot(bins_space, plaw(bins_space, a_1, p_index_1), color=\"mediumblue\", ls=\"--\", label=\"Power Law fit\" if i in [2, 3, 4] else \"\")\n",
    "    # 422 p.e.\n",
    "    if i in [3, 4]:\n",
    "        ax.axvline(reference_intensity, color=\"k\", ls=\":\", label=\"422 p.e.\")\n",
    "    # arrows\n",
    "    if i == 3:\n",
    "        ax.scatter([reference_intensity/2 + (reference_intensity-intensity_disp_1)/2 - 18], [reference_rates], \n",
    "                   c='r', marker=r'$\\rightarrow$', s=600, label=\"Light Yield\", zorder=10)\n",
    "    if i == 7:\n",
    "        ax.scatter([reference_intensity/2 + (reference_intensity-intensity_disp_2)/2+20], [reference_rates], \n",
    "                   c='r', marker=r'$\\leftarrow$', s=500, label=\"Light Yield\", zorder=10)\n",
    "    # blue dot\n",
    "    if i in [4, 9]:\n",
    "        ins.plot([1], [ly1], color=\"b\", marker=\"o\", ms=10, mfc=\"w\", markeredgewidth=2)\n",
    "    # scaled red\n",
    "    if i in [5, 6, 7, 8, 9]:\n",
    "        ax.fill_between(bins_c, rate_lim_2, color=\"r\", alpha=0.3, lw=0, label=f\"Subset scaled\\n1/LY\")\n",
    "    # red plaw\n",
    "    if i in [6, 7, 8, 9]:\n",
    "        ax.plot(bins_space, plaw(bins_space, a_2, p_index_2), color=\"crimson\", ls=\"--\", label=\"Scaled power fit\" if i in [6, 7] else \"\")\n",
    "    # green scaled\n",
    "    if i in [8]:\n",
    "        ax.fill_between(bins_c, rate_lim_3, label=\"Subset scaled\\n$\\\\frac{1+1/LY}{2}$\", color=\"g\", alpha=0.3, lw=0)\n",
    "    # gren plaw\n",
    "    if i in [8]:\n",
    "        ax.plot(bins_space, plaw(bins_space, a_3, p_index_3), color=\"g\", ls=\"--\", label=\"\")\n",
    "    # other dots\n",
    "    if i == 9:\n",
    "        ins.plot([(1 + 1/ly1)/2], [ly3], color=\"g\", marker=\"o\", ms=10, mfc=\"w\", markeredgewidth=2, ls=\"\")\n",
    "        ins.plot([1/ly1], [ly2], color=\"r\", marker=\"o\", ms=10, mfc=\"w\", markeredgewidth=2, ls=\"\")\n",
    "    \n",
    "        xp = np.linspace(-1, 3, 200)\n",
    "        ins.plot(xp, pol(xp), ':', color=\"k\", label=\"Polynomial fit\", zorder=-10)\n",
    "        ins.axvline(sol, color=\"k\", ls=\"--\", label=f\"Scaling needed\\n{sol:.2f}\")\n",
    "    # result\n",
    "    if i == 10:\n",
    "        ax.plot(bins_c, rate_tot_f, label=f\"Data scaled {sol:.2f}\", color=\"r\",)\n",
    "    \n",
    "    # plot legends\n",
    "    if i in [0, 1, 2, 3, 5, 6, 7, 8, 10]:\n",
    "        ax.legend(loc=1, frameon=False)\n",
    "    if i in [9]:\n",
    "        ins.legend(frameon=False)\n",
    "    \n",
    "    \n",
    "    ax.loglog()\n",
    "    ax.set_yscale(\"log\")\n",
    "    ax.set_ylabel(\"rates [evs / s / p.e.]\")\n",
    "    ax.set_xlabel(\"Intensity [p.e.]\")\n",
    "    ax.set_xlim(40, 6000)\n",
    "\n",
    "    plt.savefig(f\"plots/{i}.png\", dpi=300, bbox_inches='tight')\n",
    "    plt.show()"
   ]
  },
  {
   "cell_type": "code",
   "execution_count": null,
   "id": "65e5e45e-d441-4420-a626-b29b9e512753",
   "metadata": {},
   "outputs": [],
   "source": []
  },
  {
   "cell_type": "code",
   "execution_count": null,
   "id": "67bb8924-ecc6-4c32-9822-18909f3a6b39",
   "metadata": {},
   "outputs": [],
   "source": []
  },
  {
   "cell_type": "code",
   "execution_count": null,
   "id": "e1025881-f0fa-4e3c-b67c-9ec03113b68c",
   "metadata": {},
   "outputs": [],
   "source": []
  },
  {
   "cell_type": "code",
   "execution_count": null,
   "id": "8f853322-c04b-46bc-800c-6a7aa939658a",
   "metadata": {},
   "outputs": [],
   "source": []
  },
  {
   "cell_type": "code",
   "execution_count": null,
   "id": "fc187c04",
   "metadata": {},
   "outputs": [],
   "source": []
  },
  {
   "cell_type": "code",
   "execution_count": null,
   "id": "642c5633",
   "metadata": {},
   "outputs": [],
   "source": []
  },
  {
   "cell_type": "code",
   "execution_count": null,
   "id": "0972ce90",
   "metadata": {},
   "outputs": [],
   "source": []
  },
  {
   "cell_type": "code",
   "execution_count": null,
   "id": "d18688cb",
   "metadata": {},
   "outputs": [],
   "source": []
  },
  {
   "cell_type": "markdown",
   "id": "9a7facb6",
   "metadata": {},
   "source": [
    "# DL1a to DL1b"
   ]
  },
  {
   "cell_type": "code",
   "execution_count": null,
   "id": "88f13ef8-a6e4-42b9-b561-daa6f317bc12",
   "metadata": {},
   "outputs": [],
   "source": [
    "print([*np.linspace(1-0.6383, 1, 5)[:-1], *np.linspace(1, 1.6383, 5),*np.linspace(1.6383, 2, 5)[1:]])\n",
    "scales = 0.840425"
   ]
  },
  {
   "cell_type": "code",
   "execution_count": null,
   "id": "ab88c2c5",
   "metadata": {},
   "outputs": [],
   "source": [
    "%%time\n",
    "for ir, run in enumerate(DICT.keys()):\n",
    "\n",
    "    sruns = [int(path.split(\".\")[-2]) for path in DICT[run][\"dl1a\"][\"srunwise\"]]\n",
    "    DICT[run][\"dl1b\"] = {\"srunwise\" : []}\n",
    "\n",
    "    for i, srun in enumerate(sruns):\n",
    "\n",
    "        if i in [0]:\n",
    "            input_fname  = DICT[run][\"dl1a\"][\"srunwise\"][i]\n",
    "            output_fname = dir_dl1b + f\"dl1_LST-1.Run{run:05}.{srun:04}_scaled{scales:.4f}.h5\"\n",
    "    \n",
    "            print(f\"\\nComputing dl1b Run {run:5} Subrun {srun:04} - {i/len(sruns)*100:3.1f}% sruns {ir+1}/{len(DICT.keys())} runs\")\n",
    "            print(f\"--> {output_fname}\\n\")\n",
    "    \n",
    "\n",
    "    \n",
    "            DICT[run][\"dl1b\"][\"srunwise\"].append(output_fname)"
   ]
  },
  {
   "cell_type": "markdown",
   "id": "7d4483a6",
   "metadata": {},
   "source": [
    "# DL1b to DL2"
   ]
  },
  {
   "cell_type": "code",
   "execution_count": null,
   "id": "5fe4dd45",
   "metadata": {
    "scrolled": true
   },
   "outputs": [],
   "source": [
    "%%time\n",
    "for ir, run in enumerate(DICT.keys()):\n",
    "            \n",
    "    sruns = [int(path.split(\".\")[-2]) for path in DICT[run][\"dl1a\"][\"srunwise\"]]\n",
    "    DICT[run][\"dl2\"] = {\"srunwise\" : []}\n",
    "\n",
    "    for i, srun in enumerate(sruns):\n",
    "        if i in [0]:\n",
    "            input_fname  = DICT[run][\"dl1b\"][\"srunwise\"][i]\n",
    "            output_fname = dir_dl2 + f\"{run:05}/\" + input_fname.split(\"/\")[-1].replace(\"dl1\", \"dl2\", 1)\n",
    "            rf_node      = DICT[run][\"simulations\"][\"rf\"]\n",
    "            dir_run      = dir_dl2 + f\"{run:05}/\"\n",
    "    \n",
    "            print(f\"\\nComputing dl2 Run {run:5} Subrun {srun:04} - {i/len(sruns)*100:3.1f}% sruns {ir+1}/{len(DICT.keys())} runs\")\n",
    "            print(f\"--> {output_fname}\\n\")\n",
    "    \n",
    "            !lstchain_dl1_to_dl2 \\\n",
    "              -f $input_fname \\\n",
    "              -p $rf_node \\\n",
    "              -o $dir_run \\\n",
    "              -c $config_file \\\n",
    "    \n",
    "            DICT[run][\"dl2\"][\"srunwise\"].append(output_fname)"
   ]
  },
  {
   "cell_type": "markdown",
   "id": "75c28194",
   "metadata": {},
   "source": [
    "# DL2 merging run-wise"
   ]
  },
  {
   "cell_type": "code",
   "execution_count": null,
   "id": "549af078",
   "metadata": {},
   "outputs": [],
   "source": [
    "\n",
    "for ir, run in enumerate(DICT.keys()):\n",
    "    \n",
    "    output_fname = dir_dl2 + f\"dl2_LST-1.Run{run:05}.h5\"\n",
    "    \n",
    "    !lstchain_merge_hdf5_files \\\n",
    "      -d $dir_dl2 \\\n",
    "      -o $output_fname \\\n",
    "      --run-number $run \\\n",
    "      --no-image \\\n",
    "    \n",
    "    DICT[run][\"dl2\"][\"runwise\"] = output_fname"
   ]
  },
  {
   "cell_type": "markdown",
   "id": "5b96c170",
   "metadata": {},
   "source": [
    "# MCs to IRFs"
   ]
  },
  {
   "cell_type": "code",
   "execution_count": null,
   "id": "e6d8ad8a",
   "metadata": {},
   "outputs": [],
   "source": [
    "%%time\n",
    "# Already computed IRFs\n",
    "computed_irfs = glob.glob(dir_irfs + \"*\")\n",
    "\n",
    "for ir, run in enumerate(DICT.keys()):\n",
    "    \n",
    "    output_fname = dir_dl2 + f\"dl2_LST-1.Run{run:05}.h5\"\n",
    "    input_mc = DICT[run][\"simulations\"][\"mc\"]\n",
    "\n",
    "    output_irf = dir_irfs + \"irf_{}_{}.fits.gz\".format(input_mc.split(\"/\")[-3], input_mc.split(\"/\")[-2])\n",
    "\n",
    "    # we don't compute the IRF if it has been already done\n",
    "    if output_irf not in computed_irfs:\n",
    "        \n",
    "        print(f\"\\nComputing IRF for Run {run:5}, {ir+1}/{len(DICT.keys())} runs\")\n",
    "        print(f\"--> {output_irf}\\n\")\n",
    "        \n",
    "        !lstchain_create_irf_files \\\n",
    "          --input-gamma-dl2 $input_mc \\\n",
    "          --output-irf-file $output_irf \\\n",
    "          --point-like \\\n",
    "          --energy-dependent-gh \\\n",
    "          --energy-dependent-theta \\\n",
    "          --overwrite \\   \n",
    "    else:\n",
    "        print(\"\\nIRF {}_{} already computed\\n\".format(input_mc.split(\"/\")[-3], input_mc.split(\"/\")[-2]))\n",
    "\n",
    "    DICT[run][\"irf\"] = output_irf"
   ]
  },
  {
   "cell_type": "markdown",
   "id": "427be0b9",
   "metadata": {},
   "source": [
    "# DL2 to DL3"
   ]
  },
  {
   "cell_type": "code",
   "execution_count": null,
   "id": "6c53d6c2",
   "metadata": {},
   "outputs": [],
   "source": [
    "# %%time\n",
    "# ra_str  = \"{}deg\".format(dict_source[\"ra\"])\n",
    "# dec_str = \"{}deg\".format(dict_source[\"dec\"])\n",
    "# for ir, run in enumerate(DICT.keys()):\n",
    "\n",
    "#     dl2_fname = DICT[run][\"dl2\"][\"runwise\"]\n",
    "#     irf_fname = DICT[run][\"irf\"]\n",
    "    \n",
    "#     !lstchain_create_dl3_file \\\n",
    "#       --d $dl2_fname \\\n",
    "#       --i $irf_fname \\\n",
    "#       --o $dir_dl3 \\\n",
    "#       --source-name $source_name \\\n",
    "#       --source-ra  $ra_str \\\n",
    "#       --source-dec $dec_str \\\n",
    "#       --config $config_file \\\n",
    "#       --overwrite \\"
   ]
  },
  {
   "cell_type": "markdown",
   "id": "e1be4be3",
   "metadata": {},
   "source": [
    "## Add DL3 index files"
   ]
  },
  {
   "cell_type": "code",
   "execution_count": null,
   "id": "2719e761",
   "metadata": {},
   "outputs": [],
   "source": [
    "# logger.info(f\"All dl3 files created 100%\\n\\n\\nCreating index files...\")\n",
    "\n",
    "# # Creating the index file\n",
    "# !lstchain_create_dl3_index_files \\\n",
    "# --input-dl3-dir $path_dl3 \\\n",
    "# --file-pattern 'dl3*.fits' \\\n",
    "# --overwrite\n",
    "\n",
    "# logger.info(f\"Finished with the dl3 process\")"
   ]
  }
 ],
 "metadata": {
  "kernelspec": {
   "display_name": "Python 3 (ipykernel)",
   "language": "python",
   "name": "python3"
  },
  "language_info": {
   "codemirror_mode": {
    "name": "ipython",
    "version": 3
   },
   "file_extension": ".py",
   "mimetype": "text/x-python",
   "name": "python",
   "nbconvert_exporter": "python",
   "pygments_lexer": "ipython3",
   "version": "3.11.6"
  }
 },
 "nbformat": 4,
 "nbformat_minor": 5
}
