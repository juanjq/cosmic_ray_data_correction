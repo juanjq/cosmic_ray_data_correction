{
 "cells": [
  {
   "cell_type": "code",
   "execution_count": 1,
   "id": "5d99a03b",
   "metadata": {},
   "outputs": [
    {
     "name": "stdout",
     "output_type": "stream",
     "text": [
      "gammapy: 0.20.1\n",
      "numpy: 1.24.4\n",
      "astropy 5.2.2\n",
      "regions 0.7\n"
     ]
    }
   ],
   "source": [
    "import matplotlib.pyplot as plt\n",
    "import matplotlib.style as style\n",
    "from matplotlib.gridspec import GridSpec\n",
    "import matplotlib.dates as mdates\n",
    "\n",
    "from pathlib import Path\n",
    "import pickle\n",
    "\n",
    "# Check package versions\n",
    "import gammapy\n",
    "import numpy as np\n",
    "import astropy\n",
    "import regions\n",
    "from scipy.optimize import curve_fit\n",
    "\n",
    "print(\"gammapy:\", gammapy.__version__)\n",
    "print(\"numpy:\", np.__version__)\n",
    "print(\"astropy\", astropy.__version__)\n",
    "print(\"regions\", regions.__version__)\n",
    "\n",
    "import astropy.units as u\n",
    "from astropy.coordinates import SkyCoord\n",
    "from regions import PointSkyRegion\n",
    "from gammapy.data import DataStore\n",
    "from gammapy.maps import MapAxis, RegionGeom\n",
    "from gammapy.modeling import Fit\n",
    "from gammapy.datasets import (\n",
    "    Datasets,\n",
    "    SpectrumDataset,\n",
    "    SpectrumDatasetOnOff,\n",
    "    FluxPointsDataset\n",
    ")\n",
    "from gammapy.modeling.models import (\n",
    "    create_crab_spectral_model,\n",
    "    SkyModel,\n",
    "    LogParabolaSpectralModel,\n",
    "    ConstantTemporalModel\n",
    ")\n",
    "from gammapy.makers import (\n",
    "    SpectrumDatasetMaker,\n",
    "    WobbleRegionsFinder,\n",
    "    ReflectedRegionsBackgroundMaker,\n",
    "    SafeMaskMaker\n",
    ")\n",
    "from gammapy.utils.scripts import make_path\n",
    "\n",
    "from gammapy.estimators import FluxPointsEstimator, LightCurveEstimator, FluxPoints\n",
    "\n",
    "from astropy.time import Time\n",
    "from astropy.table import Table\n",
    "from astropy.io import fits\n",
    "\n",
    "from gammapy.modeling.models import Models\n",
    "\n",
    "from gammapy.maps import TimeMapAxis\n",
    "TimeMapAxis.time_format = \"mjd\"\n",
    "\n",
    "# import seaborn as sns\n",
    "import matplotlib.style as style\n",
    "\n",
    "from astropy.table import Table\n",
    "from scipy.stats import chi2\n",
    "import numpy as np"
   ]
  },
  {
   "cell_type": "code",
   "execution_count": 2,
   "id": "14441531",
   "metadata": {},
   "outputs": [],
   "source": [
    "# sns.set_theme()\n",
    "# sns.set_style(\"ticks\")\n",
    "# sns.set_color_codes(\"colorblind\")\n",
    "# sns.set_palette(\"colorblind\")"
   ]
  },
  {
   "cell_type": "code",
   "execution_count": 3,
   "id": "0e1f8995",
   "metadata": {},
   "outputs": [],
   "source": [
    "def mjd_to_iso(times):\n",
    "    return Time(times, format=\"mjd\", scale='utc').iso\n",
    "\n",
    "\n",
    "def set_twin_time_axis(ax):\n",
    "    ax2 = ax.twiny()\n",
    "\n",
    "    years = mdates.YearLocator()   # every year\n",
    "    months = mdates.MonthLocator(interval=2)  # every month\n",
    "\n",
    "    # format the ticks\n",
    "    ax2.xaxis.set_major_locator(years)\n",
    "    ax2.xaxis.set_minor_locator(months)\n",
    "\n",
    "    #Manually adjust\n",
    "    datemin = np.datetime64(mjd_to_iso(59150), 'W')\n",
    "    datemax = np.datetime64(mjd_to_iso(59670), 'W')\n",
    "\n",
    "    ax2.set_xlim(datemin, datemax)\n",
    "\n",
    "    ax2.format_xdata = mdates.DateFormatter('%b')\n",
    "\n",
    "    mjdlims = Time([datemin, datemax]).mjd\n",
    "    ax.set_xlim(mjdlims[0], mjdlims[1])\n",
    "    ax2.xaxis.set_major_formatter(mdates.DateFormatter('%Y'))\n",
    "    ax2.xaxis.set_minor_formatter(mdates.DateFormatter('%b'))\n",
    "\n",
    "    ax2.tick_params(axis='x', which='major', pad=13)\n",
    "    ax2.tick_params(axis='x', which='minor', pad=10)\n",
    "\n",
    "    plt.setp(ax.get_xticklabels(), fontsize=20)\n",
    "    plt.setp(ax2.get_xticklabels(which='both'), fontsize=20)\n",
    "    plt.setp(ax.get_yticklabels(which='both'), fontsize=20)\n",
    "    \n",
    "\n",
    "def fit_constant(x, a):\n",
    "    return a * np.ones_like(x)\n",
    "\n",
    "\n",
    "def weighted_average(table, sys_error=0):\n",
    "    val = table[\"flux\"]\n",
    "    uncertainty = np.sqrt((sys_error * table[\"flux\"])**2 + table[\"flux_err\"]**2)\n",
    "    return (val/uncertainty**2).sum() / (1/uncertainty**2).sum(), np.sqrt(1/np.sum(1/uncertainty**2))\n",
    "\n",
    "\n",
    "def calculate_chi2_pvalue(table, sys_error=0):\n",
    "    uncertainty = np.sqrt((sys_error * table[\"flux\"])**2 + table[\"flux_err\"]**2)\n",
    "    flux = table[\"flux\"]\n",
    "    mean_flux = (flux/uncertainty**2).sum() / (1/uncertainty**2).sum()\n",
    "    mean_flux_err = np.sqrt(1/np.sum(1/uncertainty**2))\n",
    "    print(f\"Weighted mean flux: {mean_flux:.3e} +/- {mean_flux_err:.3e} cm-2 s-1\")\n",
    "    \n",
    "    chi2_value = np.sum((table[\"flux\"] - mean_flux)**2/uncertainty**2)\n",
    "    ndf = len(table[\"flux\"]) - 1\n",
    "    pvalue = chi2.sf(x=chi2_value, df=ndf)\n",
    "    print(f\"Chi2: {chi2_value:.1f}, ndf: {ndf}, P-value: {pvalue:.2e}\")\n",
    "    return chi2_value, ndf, pvalue\n",
    "\n",
    "\n",
    "def plot_total_error_bars(sys_uncertainty: float, lightcurve):\n",
    "    time_min = np.hstack(lightcurve[\"time_min\"])\n",
    "    time_max = np.hstack(lightcurve[\"time_max\"])\n",
    "    time_mjd = 0.5 * (time_min + time_max)\n",
    "    flux = np.hstack(lightcurve[\"flux\"])\n",
    "    statistical_err = np.hstack(lightcurve[\"flux_err\"])\n",
    "\n",
    "    sys_err = sys_uncertainty * flux  # sys_uncertainty is the percentage of flux values\n",
    "    total_error = np.sqrt(statistical_err**2 + sys_err**2)  # added in quadrature\n",
    "    ax.errorbar(time_mjd, flux_lst1, yerr=total_error, fmt=\".\", color=\"gray\", alpha=0.5)\n",
    "    \n",
    "\n",
    "def plot_crab_average_flux_band():\n",
    "    plt.axhline(\n",
    "    mean_flux, c='b', ls='-.',\n",
    "    label='Best fit value to a constant flux (LST-1)',\n",
    "    )\n",
    "\n",
    "    plt.axhspan(\n",
    "        mean_flux - mean_flux_err, \n",
    "        mean_flux + mean_flux_err, \n",
    "        alpha=0.2, color='b'\n",
    "    )    "
   ]
  },
  {
   "cell_type": "code",
   "execution_count": 4,
   "id": "9211a280",
   "metadata": {},
   "outputs": [],
   "source": [
    "data_dir = Path(\"/fefs/aswg/workspace/daniel.morcuende/data\")\n",
    "\n",
    "dl3_dir_path = data_dir / \"real/DL3/Crab_performance/AllSkyMC_v0.9.9/intensity80/all_nodes/gh_eff_0.7_th_cont_0.7\"\n",
    "# dl3_dir_path = \"/fefs/aswg/workspace/juan.jimenez/data/lst1_systematics/_dl3\"\n",
    "\n",
    "total_datastore = DataStore.from_dir(dl3_dir_path)\n",
    "\n",
    "observations = total_datastore.get_observations(\n",
    "    required_irf=[\"aeff\", \"edisp\", \"rad_max\"]\n",
    ")"
   ]
  },
  {
   "cell_type": "code",
   "execution_count": 5,
   "id": "756736b0",
   "metadata": {},
   "outputs": [],
   "source": [
    "obs_table = total_datastore.obs_table"
   ]
  },
  {
   "cell_type": "code",
   "execution_count": 6,
   "id": "4cb0c1d3",
   "metadata": {},
   "outputs": [],
   "source": [
    "obs_ids = np.array(obs_table[\"OBS_ID\"])"
   ]
  },
  {
   "cell_type": "code",
   "execution_count": 7,
   "id": "59e80c54",
   "metadata": {},
   "outputs": [
    {
     "name": "stdout",
     "output_type": "stream",
     "text": [
      "Total livetime of observations 34.20 hrs\n"
     ]
    }
   ],
   "source": [
    "print(f'Total livetime of observations {obs_table[\"LIVETIME\"].data.sum()/3600:.2f} hrs')"
   ]
  },
  {
   "cell_type": "code",
   "execution_count": 8,
   "id": "a44e6a21",
   "metadata": {},
   "outputs": [
    {
     "name": "stdout",
     "output_type": "stream",
     "text": [
      "Spectral fit will be done in energy edges:\n",
      " [ 0.15507714  0.2404892   0.37294378  0.57835055  0.89688951  1.39087062\n",
      "  2.15692241  3.34489362  5.18716544  8.04410792 12.47457266 19.34521077\n",
      " 30.        ] TeV\n",
      "LC will be estimated from 0.1 TeV to 30.0 TeV\n"
     ]
    }
   ],
   "source": [
    "e_reco_min = 0.1\n",
    "e_reco_max = 30\n",
    "\n",
    "e_true_min = 0.005\n",
    "e_true_max = 200\n",
    "\n",
    "# Using bins per decade\n",
    "e_reco_bin_p_dec = 5\n",
    "e_true_bin_p_dec = 10\n",
    "\n",
    "energy_axis = MapAxis.from_energy_bounds(\n",
    "    e_reco_min, e_reco_max, \n",
    "    nbin=e_reco_bin_p_dec, per_decade=True, \n",
    "    unit=\"TeV\", name=\"energy\"\n",
    ")\n",
    "energy_axis_true = MapAxis.from_energy_bounds(\n",
    "    e_true_min, e_true_max, \n",
    "    nbin=e_true_bin_p_dec, per_decade=True, \n",
    "    unit=\"TeV\", name=\"energy_true\"\n",
    ")\n",
    "\n",
    "# Select minimum and maximum energy edges for LC and SED, from the energy_axis to be used un the Dataset\n",
    "# Here we use a different minimum energy than energy_axis, but the same energy bins.\n",
    "# For analyzers who do not want energy bins per decade, or some custom bins for energy_axis, \n",
    "# make appropriate changes in each axis.\n",
    "e_fit_min = energy_axis.edges[1].value\n",
    "e_fit_max = energy_axis.edges[-1].value\n",
    "e_fit_bin_p_dec = e_reco_bin_p_dec\n",
    "\n",
    "# Just to have a separate MapAxis for spectral fit energy range\n",
    "energy_fit_edges = MapAxis.from_energy_bounds(\n",
    "    e_fit_min, e_fit_max, \n",
    "    nbin=e_fit_bin_p_dec, per_decade=True, \n",
    "    unit=\"TeV\"\n",
    ").edges\n",
    "\n",
    "e_lc_min = energy_axis.edges[0]\n",
    "e_lc_max = energy_axis.edges[-1]\n",
    "\n",
    "print(\"Spectral fit will be done in energy edges:\\n\", energy_fit_edges)\n",
    "print(f\"LC will be estimated from {e_lc_min:.1f} to {e_lc_max:.1f}\")"
   ]
  },
  {
   "cell_type": "code",
   "execution_count": 9,
   "id": "0ac6ede3",
   "metadata": {},
   "outputs": [],
   "source": [
    "# Calculate & plot Crab reference flux\n",
    "# https://doi.org/10.1016/j.jheap.2015.01.002\n",
    "crab = create_crab_spectral_model(\"magic_lp\")\n",
    "\n",
    "crab.amplitude.error = 0.03e-11 * u.Unit(\"cm-2 s-1 TeV-1\")\n",
    "crab.alpha.error = 0.01\n",
    "crab.beta.error = 0.01/np.log(10)\n",
    "\n",
    "\n",
    "flux_crab = crab.integral(e_lc_min, e_lc_max)\n",
    "flux_crab_error = flux_crab * 0\n",
    "# flux_crab, flux_crab_error = crab.integral_error(e_lc_min, e_lc_max)\n",
    "\n",
    "# print(f\"Flux [{e_lc_min:.1f}, {e_lc_max:.1f}]: {flux_crab:.2e} +- {flux_crab_error:.2e}\")"
   ]
  },
  {
   "cell_type": "code",
   "execution_count": 10,
   "id": "18fcb059",
   "metadata": {},
   "outputs": [],
   "source": [
    "# Get the GTI parameters of each observations to create time intervals for plotting LC\n",
    "t_start  = []\n",
    "t_stop   = []\n",
    "tot_time = []\n",
    "\n",
    "for obs in observations:\n",
    "    gti = obs.gti\n",
    "    \n",
    "    t_start.append( gti.time_start[0])\n",
    "    t_stop.append(  gti.time_stop[0])\n",
    "    tot_time.append(gti.time_sum.value)\n",
    "\n",
    "t_start  = np.sort(np.array(t_start))\n",
    "t_stop   = np.sort(np.array(t_stop))\n",
    "tot_time = np.array(tot_time)\n",
    "\n",
    "t_start = Time(t_start)\n",
    "t_stop  = Time(t_stop)\n",
    "\n",
    "t_day = np.unique(np.rint(t_start.mjd))\n",
    "\n",
    "# To make the range night-wise, keep the MJD range in half integral values\n",
    "t_range = [Time([t-0.5, t+0.5], format=\"mjd\", scale=\"utc\") for t in t_day]"
   ]
  },
  {
   "cell_type": "code",
   "execution_count": 11,
   "id": "1764af82",
   "metadata": {},
   "outputs": [],
   "source": [
    "target_position = SkyCoord.from_name(\"Crab Nebula\", frame='icrs')\n",
    "on_region = PointSkyRegion(target_position)\n",
    "\n",
    "# geometry defining the ON region and SpectrumDataset based on it\n",
    "geom = RegionGeom.create(region=on_region, axes=[energy_axis])\n",
    "\n",
    "dataset_empty = SpectrumDataset.create(\n",
    "    geom=geom, energy_axis_true=energy_axis_true\n",
    ")\n",
    "dataset_maker = SpectrumDatasetMaker(\n",
    "    containment_correction=False,\n",
    "    selection=[\"counts\", \"exposure\", \"edisp\"]\n",
    ")"
   ]
  },
  {
   "cell_type": "code",
   "execution_count": 12,
   "id": "85e7f812",
   "metadata": {},
   "outputs": [],
   "source": [
    "# tell the background maker to use the WobbleRegionsFinder, let us use 1 off\n",
    "region_finder = WobbleRegionsFinder(n_off_regions=1)\n",
    "bkg_maker = ReflectedRegionsBackgroundMaker(region_finder=region_finder)"
   ]
  },
  {
   "cell_type": "code",
   "execution_count": 13,
   "id": "0727f121",
   "metadata": {},
   "outputs": [
    {
     "name": "stdout",
     "output_type": "stream",
     "text": [
      "CPU times: user 2min 27s, sys: 33.2 s, total: 3min\n",
      "Wall time: 3min 33s\n"
     ]
    }
   ],
   "source": [
    "%%time\n",
    "# The final object will be stored as a Datasets object\n",
    "\n",
    "# There will be an error message on use_region_center=False. It is a bug message in gammapy, so just ignore it\n",
    "datasets = Datasets()\n",
    "\n",
    "for observation in observations:\n",
    "    dataset = dataset_maker.run(\n",
    "        dataset_empty.copy(name=str(observation.obs_id)),\n",
    "        observation\n",
    "    )\n",
    "    dataset_on_off = bkg_maker.run(\n",
    "        dataset=dataset, \n",
    "        observation=observation\n",
    "    )\n",
    "    datasets.append(dataset_on_off) "
   ]
  },
  {
   "cell_type": "code",
   "execution_count": 14,
   "id": "cb738635",
   "metadata": {},
   "outputs": [],
   "source": [
    "stacked_dataset = Datasets(datasets).stack_reduce()"
   ]
  },
  {
   "cell_type": "code",
   "execution_count": 15,
   "id": "648fe63c",
   "metadata": {},
   "outputs": [
    {
     "name": "stdout",
     "output_type": "stream",
     "text": [
      "SpectrumDatasetOnOff\n",
      "--------------------\n",
      "\n",
      "  Name                            : lqB-EnJW \n",
      "\n",
      "  Total counts                    : 309844 \n",
      "  Total background counts         : 240122.00\n",
      "  Total excess counts             : 69722.00\n",
      "\n",
      "  Predicted counts                : 274983.00\n",
      "  Predicted background counts     : 274983.00\n",
      "  Predicted excess counts         : nan\n",
      "\n",
      "  Exposure min                    : 8.17e+05 m2 s\n",
      "  Exposure max                    : 2.58e+10 m2 s\n",
      "\n",
      "  Number of total bins            : 13 \n",
      "  Number of fit bins              : 13 \n",
      "\n",
      "  Fit statistic type              : wstat\n",
      "  Fit statistic value (-2 log(L)) : 28753.62\n",
      "\n",
      "  Number of models                : 0 \n",
      "  Number of parameters            : 0\n",
      "  Number of free parameters       : 0\n",
      "\n",
      "  Total counts_off                : 240122 \n",
      "  Acceptance                      : 13 \n",
      "  Acceptance off                  : 13 \n",
      "\n"
     ]
    }
   ],
   "source": [
    "print(stacked_dataset)"
   ]
  },
  {
   "cell_type": "code",
   "execution_count": 18,
   "id": "0bbddd52",
   "metadata": {},
   "outputs": [],
   "source": [
    "model_file = dl3_dir_path / \"analysis_50GeV_30TeV/model_stacked_8bin_r2914_to_r7277_gh_eff_0.7_th_cont_0.7.dat\"\n",
    "# model_file = \"model.dat\""
   ]
  },
  {
   "cell_type": "code",
   "execution_count": null,
   "id": "fea3acae-1b65-42f1-a99c-36654a6f1d66",
   "metadata": {},
   "outputs": [],
   "source": [
    "model_file"
   ]
  },
  {
   "cell_type": "code",
   "execution_count": null,
   "id": "7c17ca89",
   "metadata": {},
   "outputs": [],
   "source": [
    "model_dict = pickle.load(open(model_file,'rb'))"
   ]
  },
  {
   "cell_type": "code",
   "execution_count": 19,
   "id": "c2505c6c-5b61-48bd-9672-c9d22a1e5249",
   "metadata": {},
   "outputs": [],
   "source": [
    "model_dict = {'name': 'xt3bawcX',\n",
    " 'type': 'SkyModel',\n",
    " 'spectral': {'type': 'LogParabolaSpectralModel',\n",
    "  'parameters': [{'name': 'amplitude',\n",
    "    'value': 3.438914194998204e-11,\n",
    "    'unit': 'cm-2 s-1 TeV-1',\n",
    "    'error': 3.691797510120099e-13},\n",
    "   {'name': 'reference', 'value': 1.0, 'unit': 'TeV', 'frozen': True},\n",
    "   {'name': 'alpha',\n",
    "    'value': 2.4638591271474013,\n",
    "    'error': 0.010869189682180749},\n",
    "   {'name': 'beta',\n",
    "    'value': 0.1326598982747347,\n",
    "    'error': 0.007917686529708225}]}}\n",
    "model_dict[\"name\"] = \"crab\"\n",
    "model = SkyModel.from_dict(model_dict)"
   ]
  },
  {
   "cell_type": "code",
   "execution_count": 20,
   "id": "570214ec",
   "metadata": {},
   "outputs": [],
   "source": [
    "model_dict[\"name\"] = \"crab\""
   ]
  },
  {
   "cell_type": "code",
   "execution_count": 21,
   "id": "9c22a694",
   "metadata": {},
   "outputs": [],
   "source": [
    "model = SkyModel.from_dict(model_dict)"
   ]
  },
  {
   "cell_type": "code",
   "execution_count": 22,
   "id": "5918fe0b",
   "metadata": {},
   "outputs": [],
   "source": [
    "model.parameters[\"alpha\"].frozen = True\n",
    "model.parameters[\"beta\"].frozen = True"
   ]
  },
  {
   "cell_type": "code",
   "execution_count": 23,
   "id": "689da07c",
   "metadata": {},
   "outputs": [
    {
     "name": "stdout",
     "output_type": "stream",
     "text": [
      "SkyModel\n",
      "\n",
      "  Name                      : crab\n",
      "  Datasets names            : None\n",
      "  Spectral model type       : LogParabolaSpectralModel\n",
      "  Spatial  model type       : \n",
      "  Temporal model type       : \n",
      "  Parameters:\n",
      "    amplitude                     :   3.44e-11   +/- 3.7e-13 1 / (cm2 s TeV)\n",
      "    reference             (frozen):      1.000       TeV         \n",
      "    alpha                 (frozen):      2.464                   \n",
      "    beta                  (frozen):      0.133                   \n",
      "\n",
      "\n"
     ]
    }
   ],
   "source": [
    "print(model)"
   ]
  },
  {
   "cell_type": "code",
   "execution_count": 24,
   "id": "50d401c4",
   "metadata": {},
   "outputs": [],
   "source": [
    "stacked_dataset.models = model"
   ]
  },
  {
   "cell_type": "code",
   "execution_count": 25,
   "id": "fa230276",
   "metadata": {},
   "outputs": [
    {
     "name": "stdout",
     "output_type": "stream",
     "text": [
      "SpectrumDatasetOnOff\n",
      "--------------------\n",
      "\n",
      "  Name                            : lqB-EnJW \n",
      "\n",
      "  Total counts                    : 309844 \n",
      "  Total background counts         : 240122.00\n",
      "  Total excess counts             : 69722.00\n",
      "\n",
      "  Predicted counts                : 306599.98\n",
      "  Predicted background counts     : 242245.47\n",
      "  Predicted excess counts         : 64354.51\n",
      "\n",
      "  Exposure min                    : 8.17e+05 m2 s\n",
      "  Exposure max                    : 2.58e+10 m2 s\n",
      "\n",
      "  Number of total bins            : 13 \n",
      "  Number of fit bins              : 13 \n",
      "\n",
      "  Fit statistic type              : wstat\n",
      "  Fit statistic value (-2 log(L)) : 87.40\n",
      "\n",
      "  Number of models                : 1 \n",
      "  Number of parameters            : 4\n",
      "  Number of free parameters       : 1\n",
      "\n",
      "  Component 0: SkyModel\n",
      "  \n",
      "    Name                      : crab\n",
      "    Datasets names            : None\n",
      "    Spectral model type       : LogParabolaSpectralModel\n",
      "    Spatial  model type       : \n",
      "    Temporal model type       : \n",
      "    Parameters:\n",
      "      amplitude                     :   3.44e-11   +/- 3.7e-13 1 / (cm2 s TeV)\n",
      "      reference             (frozen):      1.000       TeV         \n",
      "      alpha                 (frozen):      2.464                   \n",
      "      beta                  (frozen):      0.133                   \n",
      "  \n",
      "    Total counts_off                : 240122 \n",
      "  Acceptance                      : 13 \n",
      "  Acceptance off                  : 13 \n",
      "\n"
     ]
    }
   ],
   "source": [
    "print(stacked_dataset)"
   ]
  },
  {
   "cell_type": "code",
   "execution_count": 26,
   "id": "8231816a",
   "metadata": {},
   "outputs": [],
   "source": [
    "# Fitting the model to the dataset\n",
    "fit = Fit()\n",
    "result = fit.run(datasets=stacked_dataset)\n",
    "model_best = model"
   ]
  },
  {
   "cell_type": "code",
   "execution_count": 27,
   "id": "e58424f1",
   "metadata": {},
   "outputs": [
    {
     "name": "stdout",
     "output_type": "stream",
     "text": [
      "LC will be estimated from 0.1 TeV to 30.0 TeV\n"
     ]
    }
   ],
   "source": [
    "print(f\"LC will be estimated from {e_lc_min:.1f} to {e_lc_max:.1f}\")\n",
    "\n",
    "# Create the LC Estimator for each run and for each night\n",
    "lc_maker_1d = LightCurveEstimator(\n",
    "    energy_edges=[e_lc_min, e_lc_max], \n",
    "    reoptimize=False, # Re-optimizing other free model parameters (not belonging to the source)\n",
    "    source=\"crab\", \n",
    "    selection_optional=\"all\" # Estimates asymmetric errors, upper limits and fit statistic profiles\n",
    ")\n",
    "\n",
    "lc_maker_night_wise = LightCurveEstimator(\n",
    "    energy_edges=[e_lc_min, e_lc_max], \n",
    "    time_intervals=t_range,\n",
    "    reoptimize=False, \n",
    "    source=\"crab\",\n",
    "    selection_optional=\"all\"\n",
    ")\n",
    "\n",
    "# Assigning the best fit model for each dataset\n",
    "for data in datasets:\n",
    "    data.models = model"
   ]
  },
  {
   "cell_type": "code",
   "execution_count": 28,
   "id": "e901fb17",
   "metadata": {},
   "outputs": [],
   "source": [
    "lc_night = lc_maker_night_wise.run(datasets)"
   ]
  },
  {
   "cell_type": "code",
   "execution_count": 29,
   "id": "25baf796",
   "metadata": {},
   "outputs": [],
   "source": [
    "lc_night_runwise = lc_maker_1d.run(datasets)"
   ]
  },
  {
   "cell_type": "code",
   "execution_count": 30,
   "id": "716ef4f3",
   "metadata": {
    "scrolled": true
   },
   "outputs": [],
   "source": [
    "lightcurve = lc_night_runwise.to_table(sed_type=\"flux\", format=\"lightcurve\")"
   ]
  },
  {
   "cell_type": "code",
   "execution_count": 31,
   "id": "901e8872",
   "metadata": {},
   "outputs": [
    {
     "data": {
      "text/plain": [
       "(4.813740458164947e-10, 2.9911701506255963e-12)"
      ]
     },
     "execution_count": 31,
     "metadata": {},
     "output_type": "execute_result"
    }
   ],
   "source": [
    "mean_flux, mean_flux_err = weighted_average(lightcurve)\n",
    "mean_flux, mean_flux_err"
   ]
  },
  {
   "cell_type": "code",
   "execution_count": 32,
   "id": "7e3ad385",
   "metadata": {},
   "outputs": [
    {
     "name": "stdout",
     "output_type": "stream",
     "text": [
      "Weighted mean flux: 4.814e-10 +/- 2.991e-12 cm-2 s-1\n",
      "Chi2: 269.6, ndf: 116, P-value: 3.00e-14\n"
     ]
    }
   ],
   "source": [
    "calculate_chi2_pvalue(lightcurve, sys_error=0.0);"
   ]
  },
  {
   "cell_type": "code",
   "execution_count": 33,
   "id": "398771ea",
   "metadata": {},
   "outputs": [
    {
     "name": "stdout",
     "output_type": "stream",
     "text": [
      "Weighted mean flux: 4.778e-10 +/- 4.497e-12 cm-2 s-1\n",
      "Chi2: 116.7, ndf: 116, P-value: 4.63e-01\n"
     ]
    }
   ],
   "source": [
    "calculate_chi2_pvalue(lightcurve, sys_error=0.075);"
   ]
  },
  {
   "cell_type": "code",
   "execution_count": 34,
   "id": "e43af41b",
   "metadata": {},
   "outputs": [],
   "source": [
    "time_min = np.hstack(lightcurve[\"time_min\"])\n",
    "time_max = np.hstack(lightcurve[\"time_max\"])\n",
    "time_mjd = 0.5 * (time_min + time_max)\n",
    "flux_lst1 = np.hstack(lightcurve[\"flux\"])\n",
    "flux_stat_err_lst1 = np.hstack(lightcurve[\"flux_err\"])"
   ]
  },
  {
   "cell_type": "code",
   "execution_count": null,
   "id": "213259c2",
   "metadata": {},
   "outputs": [],
   "source": []
  },
  {
   "cell_type": "code",
   "execution_count": 35,
   "id": "5662fa84",
   "metadata": {},
   "outputs": [
    {
     "name": "stderr",
     "output_type": "stream",
     "text": [
      "No artists with labels found to put in legend.  Note that artists whose label start with an underscore are ignored when legend() is called with no argument.\n"
     ]
    },
    {
     "data": {
      "image/png": "[encoded data removed]",
      "text/plain": [
       "<Figure size 1200x1000 with 2 Axes>"
      ]
     },
     "metadata": {},
     "output_type": "display_data"
    }
   ],
   "source": [
    "plt.figure(figsize=(12, 10))\n",
    "\n",
    "TimeMapAxis.time_format = \"mjd\"\n",
    "\n",
    "plt.axhline(\n",
    "    mean_flux, c='b', ls='-.',\n",
    "    label='Best fit value to a constant flux (LST-1)',\n",
    ")\n",
    "\n",
    "plt.axhspan(\n",
    "    mean_flux - mean_flux_err, \n",
    "    mean_flux + mean_flux_err, \n",
    "    alpha=0.2, color='b'\n",
    ")\n",
    "\n",
    "# Plot Crab MAGIC reference\n",
    "plt.axhline(\n",
    "        flux_crab.to_value(\"cm-2 s-1\"), \n",
    "        c='tab:orange',\n",
    "        ls='--', \n",
    "        label='MAGIC (Aleksić et al. 2015)',\n",
    ")\n",
    "plt.axhspan(\n",
    "        (flux_crab - flux_crab_error).to_value(\"cm-2 s-1\"), \n",
    "        (flux_crab + flux_crab_error).to_value(\"cm-2 s-1\"), \n",
    "        alpha=0.2, color='tab:orange'\n",
    ")\n",
    "\n",
    "ax = plt.gca()\n",
    "set_twin_time_axis(ax)\n",
    "\n",
    "plot_total_error_bars(0.075, lightcurve)\n",
    "\n",
    "lc_night_runwise.plot(\n",
    "    ax = ax,\n",
    "    sed_type=\"flux\", \n",
    "    marker = \"o\",\n",
    "    color='black',\n",
    "    label='LST-1 (src-independent)',\n",
    ")\n",
    "\n",
    "ax.set_xlabel(\"MJD\", fontsize=20)\n",
    "ax.set_ylabel(r\"Flux$_{E > 100 \\rm{~GeV}}$ (cm$^{-2}$ s$^{-1}$)\", fontsize=20)\n",
    "ax.yaxis.get_offset_text().set_fontsize(20)\n",
    "plt.yscale('linear')\n",
    "plt.ylim(0, 8e-10)\n",
    "\n",
    "# Reorder labels in the legend\n",
    "handles, labels = ax.get_legend_handles_labels()\n",
    "order = [2, 0, 1]\n",
    "plt.legend(\n",
    "    [handles[idx] for idx in order], [labels[idx] for idx in order], \n",
    "    loc=\"lower left\",\n",
    "    fontsize=20\n",
    ")\n",
    "\n",
    "plt.savefig(\"LC_crab_src-indep_100GeV_30TeV_v0.9.9_runwise.pdf\", bbox_inches='tight')"
   ]
  },
  {
   "cell_type": "code",
   "execution_count": null,
   "id": "d9139afc",
   "metadata": {},
   "outputs": [],
   "source": []
  },
  {
   "cell_type": "code",
   "execution_count": null,
   "id": "8c9215e0-0531-490c-9a5b-5ca0aa1724ab",
   "metadata": {},
   "outputs": [],
   "source": []
  },
  {
   "cell_type": "code",
   "execution_count": null,
   "id": "cae058c6-dc25-454f-aafa-49134b2d04e2",
   "metadata": {},
   "outputs": [],
   "source": []
  },
  {
   "cell_type": "code",
   "execution_count": null,
   "id": "44653f4a-7e78-431c-b05c-a68f9fbdd8c6",
   "metadata": {},
   "outputs": [],
   "source": []
  }
 ],
 "metadata": {
  "kernelspec": {
   "display_name": "Python 3 (ipykernel)",
   "language": "python",
   "name": "python3"
  },
  "language_info": {
   "codemirror_mode": {
    "name": "ipython",
    "version": 3
   },
   "file_extension": ".py",
   "mimetype": "text/x-python",
   "name": "python",
   "nbconvert_exporter": "python",
   "pygments_lexer": "ipython3",
   "version": "3.9.16"
  }
 },
 "nbformat": 4,
 "nbformat_minor": 5
}
