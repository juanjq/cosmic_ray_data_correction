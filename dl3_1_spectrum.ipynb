{
 "cells": [
  {
   "cell_type": "markdown",
   "id": "5c06d147-c1a4-4b4f-8395-2b18ed5f4b36",
   "metadata": {},
   "source": [
    "### Imports and definitions"
   ]
  },
  {
   "cell_type": "code",
   "execution_count": 1,
   "id": "aa942be9-ac39-4184-bd2e-4ff583ab57b3",
   "metadata": {},
   "outputs": [
    {
     "data": {
      "text/html": [
       "<style>.container { width:100% !important; }</style>"
      ],
      "text/plain": [
       "<IPython.core.display.HTML object>"
      ]
     },
     "metadata": {},
     "output_type": "display_data"
    }
   ],
   "source": [
    "import matplotlib.pyplot as plt\n",
    "import numpy as np\n",
    "from datetime import datetime\n",
    "import pickle, sys, os, json\n",
    "import pandas as pd\n",
    "pd.set_option(\"display.max_columns\", None)\n",
    "\n",
    "import astropy.units as u\n",
    "from astropy.coordinates import SkyCoord\n",
    "from regions             import PointSkyRegion\n",
    "from astropy.time        import Time\n",
    "from scipy.stats         import chi2\n",
    "from IPython.display     import display, HTML\n",
    "display(HTML(\"<style>.container { width:100% !important; }</style>\"))\n",
    "\n",
    "from gammapy.modeling.models import create_crab_spectral_model, SkyModel, LogParabolaSpectralModel\n",
    "from gammapy.estimators      import FluxPointsEstimator, LightCurveEstimator\n",
    "from gammapy.modeling        import Fit\n",
    "from gammapy.datasets        import Datasets, SpectrumDataset\n",
    "from gammapy.makers          import SpectrumDatasetMaker, WobbleRegionsFinder, ReflectedRegionsBackgroundMaker, SafeMaskMaker\n",
    "from gammapy.maps            import MapAxis, RegionGeom, Map, TimeMapAxis\n",
    "from gammapy.data            import DataStore\n",
    "\n",
    "# import scripts\n",
    "sys.path.insert(0, os.path.join(\"/fefs/aswg/workspace/juan.jimenez/lst1_systematics/scripts\"))\n",
    "import auxiliar  as aux\n",
    "import documents as docs\n",
    "\n",
    "# ============================ #\n",
    "# dl3 path where dl3 and index files are\n",
    "# dl3_dir = \"/fefs/aswg/workspace/daniel.morcuende/data/real/DL3/Crab_performance/AllSkyMC_v0.9.9/intensity80/all_nodes/gh_eff_0.7_th_cont_0.7\"\n",
    "dl3_dir = \"/fefs/aswg/workspace/juan.jimenez/data/lst1_systematics/dl3\"\n",
    "\n",
    "fname_dict = \"objects/dict_spectrum_HIGH.pkl\"\n",
    "# ============================ #"
   ]
  },
  {
   "cell_type": "markdown",
   "id": "a163d520-9469-4c5e-9c0b-c7d0f961153d",
   "metadata": {},
   "source": [
    "### Loading configuration files"
   ]
  },
  {
   "cell_type": "code",
   "execution_count": 2,
   "id": "028a1ca5-5eac-471e-85cd-cd16f29a954a",
   "metadata": {},
   "outputs": [
    {
     "name": "stdout",
     "output_type": "stream",
     "text": [
      "Gammapy analysis configuration:\n",
      "\n"
     ]
    },
    {
     "data": {
      "text/plain": [
       "{'target_name': 'crab',\n",
       " 'n_off_regions': 1,\n",
       " 'e_reco': {'min': 0.5, 'max': 100, 'bins_p_dec': 5},\n",
       " 'e_true': {'min': 0.2, 'max': 200, 'bins_p_dec': 10}}"
      ]
     },
     "metadata": {},
     "output_type": "display_data"
    }
   ],
   "source": [
    "# reading the configuration from the gammapy configuration file\n",
    "target_name, n_off_regions, _e_reco, _e_true = docs.load_gammapy_analysis_configuration()\n",
    "\n",
    "e_reco_min, e_reco_max, e_reco_bin_p_dec = _e_reco[\"min\"], _e_reco[\"max\"], _e_reco[\"bins_p_dec\"]\n",
    "e_true_min, e_true_max, e_true_bin_p_dec = _e_true[\"min\"], _e_true[\"max\"], _e_true[\"bins_p_dec\"]\n"
   ]
  },
  {
   "cell_type": "markdown",
   "id": "faa354a1-2aa6-45ea-83dd-9dea4cdedec0",
   "metadata": {},
   "source": [
    "### Loading full datasets"
   ]
  },
  {
   "cell_type": "code",
   "execution_count": 3,
   "id": "d2d77300-170c-462b-bf2c-7bffdec939bf",
   "metadata": {},
   "outputs": [
    {
     "name": "stdout",
     "output_type": "stream",
     "text": [
      "Total livetime of observations 34.20 h\n"
     ]
    },
    {
     "data": {
      "text/html": [
       "<div><i>ObservationTable length=5</i>\n",
       "<table id=\"table140713583181632\" class=\"table-striped table-bordered table-condensed\">\n",
       "<thead><tr><th>OBS_ID</th><th>DATE-OBS</th><th>TIME-OBS</th><th>DATE-END</th><th>TIME-END</th><th>RA_PNT</th><th>DEC_PNT</th><th>ZEN_PNT</th><th>ALT_PNT</th><th>AZ_PNT</th><th>RA_OBJ</th><th>DEC_OBJ</th><th>TSTART</th><th>TSTOP</th><th>ONTIME</th><th>TELAPSE</th><th>LIVETIME</th><th>DEADC</th><th>OBJECT</th><th>OBS_MODE</th><th>N_TELS</th><th>TELLIST</th><th>INSTRUME</th></tr></thead>\n",
       "<thead><tr><th></th><th></th><th></th><th></th><th></th><th>deg</th><th>deg</th><th>deg</th><th>deg</th><th>deg</th><th>deg</th><th>deg</th><th>s</th><th>s</th><th>s</th><th>s</th><th>s</th><th></th><th></th><th></th><th></th><th></th><th></th></tr></thead>\n",
       "<thead><tr><th>int64</th><th>bytes10</th><th>bytes12</th><th>bytes10</th><th>bytes12</th><th>float64</th><th>float64</th><th>float64</th><th>float64</th><th>float64</th><th>float64</th><th>float64</th><th>float64</th><th>float64</th><th>float64</th><th>float64</th><th>float64</th><th>float64</th><th>bytes4</th><th>bytes6</th><th>int64</th><th>bytes5</th><th>bytes5</th></tr></thead>\n",
       "<tr><td>2914</td><td>2020-11-18</td><td>03:43:34.195</td><td>2020-11-18</td><td>04:02:52.571</td><td>83.28333273835389</td><td>21.78656763343963</td><td>14.833854078422519</td><td>75.16614592157748</td><td>245.1184558734964</td><td>83.6333</td><td>22.0133</td><td>67319014.19521403</td><td>67320172.57145381</td><td>1158.378688097</td><td>1158.376239776611</td><td>1110.755623268583</td><td>0.9588881724795433</td><td>Crab</td><td>WOBBLE</td><td>1</td><td>LST-1</td><td>LST-1</td></tr>\n",
       "<tr><td>2929</td><td>2020-11-19</td><td>01:41:13.092</td><td>2020-11-19</td><td>01:59:21.736</td><td>83.97361170669024</td><td>22.24478461554191</td><td>15.851370353506994</td><td>74.148629646493</td><td>110.69714313166</td><td>83.6333</td><td>22.0133</td><td>67398073.0916512</td><td>67399161.73551226</td><td>1088.646086215973</td><td>1088.643861055374</td><td>1006.045014654632</td><td>0.9241249542829353</td><td>Crab</td><td>WOBBLE</td><td>1</td><td>LST-1</td><td>LST-1</td></tr>\n",
       "<tr><td>2930</td><td>2020-11-19</td><td>02:02:55.113</td><td>2020-11-19</td><td>02:22:43.858</td><td>83.26877531593242</td><td>21.78654578922968</td><td>11.225003496450213</td><td>78.77499650354979</td><td>126.6188631816417</td><td>83.6333</td><td>22.0133</td><td>67399375.11259389</td><td>67400563.8584733</td><td>1187.748401165009</td><td>1188.745879411697</td><td>1107.370648277967</td><td>0.9323276269551675</td><td>Crab</td><td>WOBBLE</td><td>1</td><td>LST-1</td><td>LST-1</td></tr>\n",
       "<tr><td>2931</td><td>2020-11-19</td><td>02:24:41.948</td><td>2020-11-19</td><td>02:44:15.865</td><td>83.97560985781382</td><td>22.24446090923748</td><td>7.970256129037551</td><td>82.02974387096245</td><td>144.9828160578438</td><td>83.6333</td><td>22.0133</td><td>67400681.94754553</td><td>67401855.86502647</td><td>1172.932846069336</td><td>1173.917480945587</td><td>1097.560117693711</td><td>0.9357399457025957</td><td>Crab</td><td>WOBBLE</td><td>1</td><td>LST-1</td><td>LST-1</td></tr>\n",
       "<tr><td>2932</td><td>2020-11-19</td><td>02:46:09.185</td><td>2020-11-19</td><td>03:05:51.191</td><td>83.27280949215712</td><td>21.77667796720452</td><td>7.156094817087634</td><td>82.84390518291237</td><td>188.4886603553226</td><td>83.6333</td><td>22.0133</td><td>67401969.18531418</td><td>67403151.19075465</td><td>1181.100458621979</td><td>1182.005440473557</td><td>1102.793449016734</td><td>0.9336999583451118</td><td>Crab</td><td>WOBBLE</td><td>1</td><td>LST-1</td><td>LST-1</td></tr>\n",
       "</table></div>"
      ],
      "text/plain": [
       "<ObservationTable length=5>\n",
       "OBS_ID  DATE-OBS    TIME-OBS    DATE-END  ... OBS_MODE N_TELS TELLIST INSTRUME\n",
       "                                          ...                                 \n",
       "int64   bytes10     bytes12     bytes10   ...  bytes6  int64   bytes5  bytes5 \n",
       "------ ---------- ------------ ---------- ... -------- ------ ------- --------\n",
       "  2914 2020-11-18 03:43:34.195 2020-11-18 ...   WOBBLE      1   LST-1    LST-1\n",
       "  2929 2020-11-19 01:41:13.092 2020-11-19 ...   WOBBLE      1   LST-1    LST-1\n",
       "  2930 2020-11-19 02:02:55.113 2020-11-19 ...   WOBBLE      1   LST-1    LST-1\n",
       "  2931 2020-11-19 02:24:41.948 2020-11-19 ...   WOBBLE      1   LST-1    LST-1\n",
       "  2932 2020-11-19 02:46:09.185 2020-11-19 ...   WOBBLE      1   LST-1    LST-1"
      ]
     },
     "metadata": {},
     "output_type": "display_data"
    }
   ],
   "source": [
    "# Opening all the dl3 data in a path\n",
    "total_data_store = DataStore.from_dir(dl3_dir)\n",
    "\n",
    "# Taking obs ids\n",
    "obs_ids = total_data_store.obs_table[\"OBS_ID\"].data\n",
    "obs_ids = obs_ids[:]\n",
    "\n",
    "# Then we get the observation information from the total data store\n",
    "observations = total_data_store.get_observations(\n",
    "    obs_ids,\n",
    "    required_irf=[\"aeff\", \"edisp\", \"rad_max\"]\n",
    ")\n",
    "\n",
    "# Defining target position and ON reion\n",
    "target_position = SkyCoord.from_name(target_name, frame='icrs')\n",
    "on_region = PointSkyRegion(target_position)\n",
    "\n",
    "print(f'Total livetime of observations {total_data_store.obs_table[\"LIVETIME\"].data.sum()/3600:.2f} h')\n",
    "display(total_data_store.obs_table[:5])"
   ]
  },
  {
   "cell_type": "markdown",
   "id": "6e287538-e24e-406a-9c51-80fa90658e50",
   "metadata": {},
   "source": [
    "### Defining all the energy axes"
   ]
  },
  {
   "cell_type": "code",
   "execution_count": 4,
   "id": "55dc148f-7dec-4460-ba3f-15be1daf9d61",
   "metadata": {},
   "outputs": [
    {
     "name": "stdout",
     "output_type": "stream",
     "text": [
      "Spectral fit will be done in energy edges:\n",
      " [  0.77753958   1.20913559   1.88030155   2.92401774   4.54707903\n",
      "   7.07106781  10.99607015  17.09975947  26.59147948  41.35185542\n",
      "  64.30540834 100.        ] TeV\n",
      "\n",
      "LC will be estimated from 0.5 TeV to 100.0 TeV\n"
     ]
    }
   ],
   "source": [
    "# ============================ #\n",
    "# estimated energy axes\n",
    "energy_axis = MapAxis.from_energy_bounds(\n",
    "    e_reco_min, e_reco_max, \n",
    "    nbin=e_reco_bin_p_dec, per_decade=True, \n",
    "    unit=\"TeV\", name=\"energy\"\n",
    ")\n",
    "# ============================ #\n",
    "# estimated energy axes\n",
    "energy_axis_true = MapAxis.from_energy_bounds(\n",
    "    e_true_min, e_true_max, \n",
    "    nbin=e_true_bin_p_dec, per_decade=True, \n",
    "    unit=\"TeV\", name=\"energy_true\"\n",
    ")\n",
    "# ============================ #\n",
    "# Energy for the spectrum\n",
    "e_fit_min = energy_axis.edges[1].value\n",
    "e_fit_max = energy_axis.edges[-1].value\n",
    "e_fit_bin_p_dec = e_reco_bin_p_dec\n",
    "\n",
    "# Just to have a separate MapAxis for spectral fit energy range\n",
    "energy_fit_edges = MapAxis.from_energy_bounds(\n",
    "    e_fit_min, e_fit_max, \n",
    "    nbin=e_fit_bin_p_dec, per_decade=True, \n",
    "    unit=\"TeV\"\n",
    ").edges\n",
    "\n",
    "# ============================ #\n",
    "# Energy for the lightcurve\n",
    "e_lc_min = energy_axis.edges[0]\n",
    "e_lc_max = energy_axis.edges[-1]\n",
    "\n",
    "print(\"Spectral fit will be done in energy edges:\\n\", energy_fit_edges)\n",
    "print(f\"\\nLC will be estimated from {e_lc_min:.1f} to {e_lc_max:.1f}\")"
   ]
  },
  {
   "cell_type": "markdown",
   "id": "136ae4ca-692e-4bfc-899d-d0bdfb287099",
   "metadata": {},
   "source": [
    "### Getting time parameters"
   ]
  },
  {
   "cell_type": "code",
   "execution_count": 5,
   "id": "af0eade5-d306-4034-9be9-0feac9c4a216",
   "metadata": {},
   "outputs": [],
   "source": [
    "# Get the GTI parameters of each observations to create time intervals for plotting LC\n",
    "t_start  = []\n",
    "t_stop   = []\n",
    "tot_time = []\n",
    "\n",
    "for obs in observations:\n",
    "    gti = obs.gti\n",
    "    \n",
    "    t_start.append( gti.time_start[0])\n",
    "    t_stop.append(  gti.time_stop[0])\n",
    "    tot_time.append(gti.time_sum.value)\n",
    "\n",
    "t_start  = np.sort(np.array(t_start))\n",
    "t_stop   = np.sort(np.array(t_stop))\n",
    "tot_time = np.array(tot_time)\n",
    "\n",
    "t_start = Time(t_start)\n",
    "t_stop  = Time(t_stop)\n",
    "\n",
    "t_day = np.unique(np.rint(t_start.mjd))\n",
    "\n",
    "# To make the range night-wise, keep the MJD range in half integral values\n",
    "t_range = [Time([t-0.5, t+0.5], format=\"mjd\", scale=\"utc\") for t in t_day]"
   ]
  },
  {
   "cell_type": "markdown",
   "id": "35686077-d04f-4885-ba22-c9d739998641",
   "metadata": {},
   "source": [
    "### We define the geometry regions in te sky and prepare the empty datasets and makers"
   ]
  },
  {
   "cell_type": "code",
   "execution_count": 6,
   "id": "1e4b1f96-2ae4-4ed6-8f30-c5d812aa60ba",
   "metadata": {},
   "outputs": [],
   "source": [
    "# geometry defining the ON region and SpectrumDataset based on it\n",
    "geom = RegionGeom.create(\n",
    "    region=on_region, \n",
    "    axes=[energy_axis]\n",
    ")\n",
    "\n",
    "# creating an empty dataset\n",
    "dataset_empty = SpectrumDataset.create(\n",
    "    geom=geom, \n",
    "    energy_axis_true=energy_axis_true\n",
    ")\n",
    "dataset_maker = SpectrumDatasetMaker(\n",
    "    containment_correction=False,\n",
    "    selection=[\"counts\", \"exposure\", \"edisp\"]\n",
    ")\n",
    "\n",
    "# tell the background maker to use the WobbleRegionsFinder\n",
    "region_finder = WobbleRegionsFinder(n_off_regions=n_off_regions)\n",
    "bkg_maker = ReflectedRegionsBackgroundMaker(region_finder=region_finder)"
   ]
  },
  {
   "cell_type": "markdown",
   "id": "84d22616-6e73-4e0f-a95b-482bee1176c8",
   "metadata": {},
   "source": [
    "### Now we analize the ON and OFF regions in the dataset and we store them in `datasets`, then the datasets can be stacked in a unique one"
   ]
  },
  {
   "cell_type": "code",
   "execution_count": null,
   "id": "5a23ba7c-9963-4aeb-b833-eccc15664fb5",
   "metadata": {},
   "outputs": [],
   "source": [
    "%%time\n",
    "# The final object will be stored as a Datasets object\n",
    "datasets = Datasets()\n",
    "\n",
    "for observation in observations:\n",
    "    dataset = dataset_maker.run(\n",
    "        dataset=dataset_empty.copy(name=str(observation.obs_id)),\n",
    "        observation=observation\n",
    "    )\n",
    "    dataset_on_off = bkg_maker.run(\n",
    "        dataset=dataset, \n",
    "        observation=observation\n",
    "    )\n",
    "    datasets.append(dataset_on_off) \n",
    "\n",
    "# Stacking all the datasets in one\n",
    "stacked_dataset = Datasets(datasets).stack_reduce()\n",
    "print(stacked_dataset)"
   ]
  },
  {
   "cell_type": "markdown",
   "id": "8407286a-7e1a-41f9-a2d6-d7d798e5538b",
   "metadata": {},
   "source": [
    "### Then we define the model and set inside the dataset"
   ]
  },
  {
   "cell_type": "code",
   "execution_count": null,
   "id": "fd0bca34-b9e7-43bb-a3ac-56b65fc52bc7",
   "metadata": {},
   "outputs": [],
   "source": [
    "# defining the model we want to fit and the starting values\n",
    "spectral_model = LogParabolaSpectralModel(\n",
    "    amplitude=1e-12 * u.Unit(\"cm-2 s-1 TeV-1\"),\n",
    "    alpha=2,\n",
    "    beta=0.1,\n",
    "    reference=1 * u.TeV,\n",
    ")\n",
    "# we will use the crab model in general\n",
    "model = SkyModel(\n",
    "    spectral_model=spectral_model, \n",
    "    name=\"crab\"\n",
    ")\n",
    "\n",
    "# model.parameters[\"alpha\"].frozen = True\n",
    "# model.parameters[\"beta\"].frozen  = True\n",
    "\n",
    "# We set the model of all datasets to log parabola\n",
    "stacked_dataset.models = model"
   ]
  },
  {
   "cell_type": "code",
   "execution_count": null,
   "id": "695148b7-e285-4fac-a9ff-7094988b47db",
   "metadata": {},
   "outputs": [],
   "source": [
    "%%time\n",
    "# Now we run the fit to extract the parameters of the model\n",
    "fit = Fit()\n",
    "result = fit.run(datasets=stacked_dataset)\n",
    "best_fit_model = model.copy()\n",
    "\n",
    "display(stacked_dataset.models.to_parameters_table())"
   ]
  },
  {
   "cell_type": "code",
   "execution_count": null,
   "id": "61b1fd7e-2228-4ccd-ae99-c0992bf28228",
   "metadata": {},
   "outputs": [],
   "source": [
    "%%time \n",
    "# then extracting the flux points from the data\n",
    "fpe = FluxPointsEstimator(\n",
    "    energy_edges=energy_fit_edges, \n",
    "    source=target_name, \n",
    "    selection_optional=\"all\"\n",
    ")\n",
    "\n",
    "# We apply the flux point estiation from the datasets\n",
    "flux_points = fpe.run(datasets=stacked_dataset)\n",
    "flux_points.to_table(sed_type=\"dnde\", formatted=True)[:5]"
   ]
  },
  {
   "cell_type": "markdown",
   "id": "51809436-e823-4321-8094-ecdb47e0c9c0",
   "metadata": {},
   "source": [
    "### Then we can plot the SED"
   ]
  },
  {
   "cell_type": "code",
   "execution_count": null,
   "id": "f1305bcb-6268-45ed-954b-12ceeca5f3be",
   "metadata": {},
   "outputs": [],
   "source": [
    "plot_kwargs = {\n",
    "    \"energy_bounds\": [0.08, 40] * u.TeV,\n",
    "    \"sed_type\": \"e2dnde\",\n",
    "    \"yunits\": u.Unit(\"TeV cm-2 s-1\"),\n",
    "    \"xunits\": u.TeV,\n",
    "}\n",
    "\n",
    "plt.figure(figsize=(10,5))\n",
    "\n",
    "crab_magic_lp = create_crab_spectral_model(\"magic_lp\")\n",
    "\n",
    "best_fit_model.spectral_model.plot(\n",
    "    ls=\"-\", lw=1.5, color=\"k\", label=\"best fit\", **plot_kwargs\n",
    ")\n",
    "best_fit_model.spectral_model.plot_error(\n",
    "    facecolor=\"k\", alpha=0.2, **plot_kwargs\n",
    ")\n",
    "crab_magic_lp.plot(\n",
    "    ls=\"--\", lw=1.5, color=\"crimson\", label=\"MAGIC reference\", **plot_kwargs\n",
    ")\n",
    "\n",
    "flux_points.plot(sed_type=\"e2dnde\", color=\"k\", label=\"Flux points\")\n",
    "flux_points.plot_ts_profiles(sed_type=\"e2dnde\")\n",
    "\n",
    "plt.legend(loc=3)\n",
    "plt.ylim([1e-13, 1e-10])\n",
    "plt.grid(which=\"both\", alpha=0.5)\n",
    "plt.show()"
   ]
  },
  {
   "cell_type": "markdown",
   "id": "6dc25646-b623-44ff-b85a-3bcf11e21a36",
   "metadata": {},
   "source": [
    "### Then once we have found the SED model we fix the alpha and beta parameters and let the amplitude as a free parameter"
   ]
  },
  {
   "cell_type": "code",
   "execution_count": null,
   "id": "f6a8d703-6c1f-4725-8f09-988867d28070",
   "metadata": {},
   "outputs": [],
   "source": [
    "model.parameters[\"alpha\"].frozen = True\n",
    "model.parameters[\"beta\"].frozen  = True\n",
    "\n",
    "# Create the LC Estimator for each run\n",
    "lc_maker_1d = LightCurveEstimator(\n",
    "    energy_edges=[e_lc_min, e_lc_max], \n",
    "    reoptimize=False, # Re-optimizing other free model parameters (not belonging to the source)\n",
    "    source=\"crab\", \n",
    "    selection_optional=\"all\" # Estimates asymmetric errors, upper limits and fit statistic profiles\n",
    ")\n",
    "\n",
    "# Assigning the fixed parameters model to each dataset\n",
    "for data in datasets:\n",
    "    data.models = model"
   ]
  },
  {
   "cell_type": "markdown",
   "id": "780728b6-381a-41d4-985b-0d1cf391d36d",
   "metadata": {},
   "source": [
    "### Then we run the lightcurve maker run-wise"
   ]
  },
  {
   "cell_type": "code",
   "execution_count": null,
   "id": "2c871fec-70be-4b0e-99f0-d41b6c963be7",
   "metadata": {},
   "outputs": [],
   "source": [
    "%%time\n",
    "print(f\"LC will be estimated from {e_lc_min:.1f} to {e_lc_max:.1f}\")\n",
    "\n",
    "lc_runwise = lc_maker_1d.run(datasets)\n",
    "lightcurve = lc_runwise.to_table(sed_type=\"flux\", format=\"lightcurve\")"
   ]
  },
  {
   "cell_type": "code",
   "execution_count": null,
   "id": "36fe6d8e-2789-436d-a27b-65e4089ee21b",
   "metadata": {},
   "outputs": [],
   "source": [
    "def weighted_average(table, sys_error=0):\n",
    "    val = table[\"flux\"]\n",
    "    uncertainty = np.sqrt((sys_error * table[\"flux\"])**2 + table[\"flux_err\"]**2)\n",
    "    return (val/uncertainty**2).sum() / (1/uncertainty**2).sum(), np.sqrt(1/np.sum(1/uncertainty**2))\n",
    "\n",
    "\n",
    "mean_flux, mean_flux_err = weighted_average(lightcurve)\n",
    "mean_flux, mean_flux_err"
   ]
  },
  {
   "cell_type": "code",
   "execution_count": null,
   "id": "cf3c80d0-5ba2-4971-a7a6-ee0c0c016176",
   "metadata": {},
   "outputs": [],
   "source": [
    "def calculate_chi2_pvalue(table, sys_error=0):\n",
    "    uncertainty = np.sqrt((sys_error * table[\"flux\"])**2 + table[\"flux_err\"]**2)\n",
    "    flux = table[\"flux\"]\n",
    "    mean_flux = (flux/uncertainty**2).sum() / (1/uncertainty**2).sum()\n",
    "    mean_flux_err = np.sqrt(1/np.sum(1/uncertainty**2))\n",
    "    print(f\"Weighted mean flux: {mean_flux:.3e} +/- {mean_flux_err:.3e} cm-2 s-1\")\n",
    "    \n",
    "    chi2_value = np.sum((table[\"flux\"] - mean_flux)**2/uncertainty**2)\n",
    "    ndf = len(table[\"flux\"]) - 1\n",
    "    pvalue = chi2.sf(x=chi2_value, df=ndf)\n",
    "    print(f\"Chi2: {chi2_value:.1f}, ndf: {ndf}, P-value: {pvalue:.2e}\")\n",
    "    return chi2_value, ndf, pvalue\n",
    "    \n",
    "calculate_chi2_pvalue(lightcurve, sys_error=0.0);\n",
    "calculate_chi2_pvalue(lightcurve, sys_error=0.075);"
   ]
  },
  {
   "cell_type": "code",
   "execution_count": null,
   "id": "db199fb7-3cd2-4e47-9c7b-847732a6eb3d",
   "metadata": {},
   "outputs": [],
   "source": [
    "time_min = np.hstack(lightcurve[\"time_min\"])\n",
    "time_max = np.hstack(lightcurve[\"time_max\"])\n",
    "time_mjd = 0.5 * (time_min + time_max)\n",
    "flux_lst1 = np.hstack(lightcurve[\"flux\"])\n",
    "flux_stat_err_lst1 = np.hstack(lightcurve[\"flux_err\"])"
   ]
  },
  {
   "cell_type": "code",
   "execution_count": null,
   "id": "11909347-a4dc-42ed-802e-4b0a22665232",
   "metadata": {},
   "outputs": [],
   "source": [
    "crab = create_crab_spectral_model(\"magic_lp\")\n",
    "\n",
    "crab.amplitude.error = 0.03e-11 * u.Unit(\"cm-2 s-1 TeV-1\")\n",
    "crab.alpha.error = 0.01\n",
    "crab.beta.error = 0.01/np.log(10)\n",
    "\n",
    "\n",
    "flux_crab = crab.integral(e_lc_min, e_lc_max)\n",
    "flux_crab_error = flux_crab * 0"
   ]
  },
  {
   "cell_type": "code",
   "execution_count": null,
   "id": "c5f809d4-71c1-4729-8e7a-95b13285916e",
   "metadata": {},
   "outputs": [],
   "source": [
    "plt.figure(figsize=(12, 10))\n",
    "\n",
    "TimeMapAxis.time_format = \"mjd\"\n",
    "\n",
    "plt.axhline(\n",
    "    mean_flux, c='b', ls='-.',\n",
    "    label='Best fit value to a constant flux (LST-1)',\n",
    ")\n",
    "\n",
    "plt.axhspan(\n",
    "    mean_flux - mean_flux_err, \n",
    "    mean_flux + mean_flux_err, \n",
    "    alpha=0.2, color='b'\n",
    ")\n",
    "\n",
    "# Plot Crab MAGIC reference\n",
    "plt.axhline(\n",
    "        flux_crab.to_value(\"cm-2 s-1\"), \n",
    "        c='tab:orange',\n",
    "        ls='--', \n",
    "        label='MAGIC (Aleksić et al. 2015)',\n",
    ")\n",
    "plt.axhspan(\n",
    "        (flux_crab - flux_crab_error).to_value(\"cm-2 s-1\"), \n",
    "        (flux_crab + flux_crab_error).to_value(\"cm-2 s-1\"), \n",
    "        alpha=0.2, color='tab:orange'\n",
    ")\n",
    "\n",
    "ax = plt.gca()\n",
    "\n",
    "lc_runwise.plot(\n",
    "    ax = ax,\n",
    "    sed_type=\"flux\", \n",
    "    marker = \"o\",\n",
    "    color='black',\n",
    "    label='LST-1 (src-independent)',\n",
    ")\n",
    "\n",
    "ax.set_xlabel(\"MJD\", fontsize=20)\n",
    "ax.set_ylabel(r\"Flux$_{E > 100 \\rm{~GeV}}$ (cm$^{-2}$ s$^{-1}$)\", fontsize=20)\n",
    "ax.yaxis.get_offset_text().set_fontsize(20)\n",
    "plt.yscale('linear')\n",
    "plt.ylim(0, 8e-10)\n",
    "\n",
    "# Reorder labels in the legend\n",
    "handles, labels = ax.get_legend_handles_labels()\n",
    "order = [2, 0, 1]\n",
    "plt.legend(\n",
    "    [handles[idx] for idx in order], [labels[idx] for idx in order], \n",
    "    loc=\"lower left\",\n",
    "    fontsize=20\n",
    ")"
   ]
  },
  {
   "cell_type": "code",
   "execution_count": null,
   "id": "7a6c6304",
   "metadata": {},
   "outputs": [],
   "source": [
    "def unpack(data):\n",
    "    return np.array([d[0][0][0] for d in data])\n",
    "    \n",
    "flux = (unpack(lc_runwise.flux.data) * lc_runwise.flux.unit).to(\"TeV / (cm2 s TeV)\")\n",
    "flux_err = (unpack(lc_runwise.flux_err.data) * lc_runwise.flux_err.unit).to(\"TeV / (cm2 s TeV)\")\n",
    "run_num = [(n) for n in observations.ids]"
   ]
  },
  {
   "cell_type": "code",
   "execution_count": null,
   "id": "04c631a2",
   "metadata": {},
   "outputs": [],
   "source": [
    "fig, ax = plt.subplots(figsize=(17,3))\n",
    "\n",
    "ax.axhline(flux_crab.to_value(\"cm-2 s-1\"), c='red', ls='--', label='Crab (MAGIC, JHEAp 2015)')\n",
    "\n",
    "ax.errorbar(np.arange(len(flux)), flux, yerr=flux_err, ls=\"\", marker=\"o\", color=\"k\", label=\"Flux points\")\n",
    "# ax.errorbar(run_num, flux, yerr=flux_err, ls=\"\", marker=\"o\", color=\"k\", label=\"Flux points\")\n",
    "plt.xticks(rotation=90)\n",
    "ax.legend()\n",
    "ax.set_xlabel(f\"Run #\")\n",
    "ax.set_ylabel(f\"{flux.unit}\")\n",
    "ax.set_title(f\"{e_lc_min} < E < {e_lc_max}\")\n",
    "plt.show()"
   ]
  },
  {
   "cell_type": "code",
   "execution_count": null,
   "id": "f143b5ec",
   "metadata": {},
   "outputs": [],
   "source": [
    "dict_LC = {\n",
    "    \"run_number\" : run_num,\n",
    "    \"flux\" : flux,\n",
    "    \"e_flux\" : flux_err,\n",
    "}\n",
    "\n",
    "obstable = total_data_store.obs_table.to_pandas()"
   ]
  },
  {
   "cell_type": "code",
   "execution_count": null,
   "id": "aa5e6d32",
   "metadata": {},
   "outputs": [],
   "source": [
    "time_start, time_stop, timedelta = [], [], []\n",
    "zd, az = [], []\n",
    "for run in dict_LC[\"run_number\"]:\n",
    "    _tab = obstable[obstable[\"OBS_ID\"] == int(run)]\n",
    "    tstart = datetime.fromisoformat(str(np.array(_tab[\"DATE-OBS\"])[0] + b\"T\" + np.array(_tab[\"TIME-OBS\"])[0])[2:-1])\n",
    "    tstop  = datetime.fromisoformat(str(np.array(_tab[\"DATE-END\"])[0] + b\"T\" + np.array(_tab[\"TIME-END\"])[0])[2:-1])   \n",
    "    time_start.append(tstart)\n",
    "    time_stop.append(tstop)\n",
    "    timedelta.append(tstop - tstart)\n",
    "    zd.append(np.array(_tab[\"ZEN_PNT\"])[0])\n",
    "    az.append(np.array(_tab[\"AZ_PNT\"])[0])\n",
    "    \n",
    "dict_LC[\"timestamp\"] = np.array(time_start)\n",
    "dict_LC[\"duration\"]  = np.array(timedelta)\n",
    "dict_LC[\"zd\"] = np.array(zd) * u.deg\n",
    "dict_LC[\"az\"] = np.array(az) * u.deg"
   ]
  },
  {
   "cell_type": "code",
   "execution_count": null,
   "id": "4b685ce4",
   "metadata": {},
   "outputs": [],
   "source": [
    "##################################\n",
    "# save in a object\n",
    "\n",
    "# Saving the objects\n",
    "with open(fname_dict, 'wb') as f:\n",
    "    pickle.dump(dict_LC, f, pickle.HIGHEST_PROTOCOL)"
   ]
  },
  {
   "cell_type": "code",
   "execution_count": null,
   "id": "b788d0b0",
   "metadata": {},
   "outputs": [],
   "source": []
  },
  {
   "cell_type": "code",
   "execution_count": null,
   "id": "0e42c79b",
   "metadata": {},
   "outputs": [],
   "source": []
  }
 ],
 "metadata": {
  "kernelspec": {
   "display_name": "Python 3 (ipykernel)",
   "language": "python",
   "name": "python3"
  },
  "language_info": {
   "codemirror_mode": {
    "name": "ipython",
    "version": 3
   },
   "file_extension": ".py",
   "mimetype": "text/x-python",
   "name": "python",
   "nbconvert_exporter": "python",
   "pygments_lexer": "ipython3",
   "version": "3.9.16"
  }
 },
 "nbformat": 4,
 "nbformat_minor": 5
}
