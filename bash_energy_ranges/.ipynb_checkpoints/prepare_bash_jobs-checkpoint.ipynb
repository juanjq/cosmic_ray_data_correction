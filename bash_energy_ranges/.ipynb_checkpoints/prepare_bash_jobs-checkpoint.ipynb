{
 "cells": [
  {
   "cell_type": "code",
   "execution_count": null,
   "id": "d7df4798",
   "metadata": {},
   "outputs": [],
   "source": [
    "import numpy as np\n",
    "import pickle, sys, os, json\n",
    "\n",
    "from IPython.display import display, HTML\n",
    "display(HTML(\"<style>.container { width:100% !important; }</style>\"))"
   ]
  },
  {
   "cell_type": "code",
   "execution_count": null,
   "id": "d7a34d33",
   "metadata": {},
   "outputs": [],
   "source": [
    "fname_txt = \"jobs_information.txt\"\n",
    "N = 50\n",
    "\n",
    "energy_min = np.logspace(np.log10(0.05), np.log10(10), N)\n",
    "energy_max = 50"
   ]
  },
  {
   "cell_type": "code",
   "execution_count": null,
   "id": "617529ec",
   "metadata": {},
   "outputs": [],
   "source": [
    "data = list(zip(energy_min, [energy_max] * len(energy_min)))\n",
    "\n",
    "# Write the data to a text file\n",
    "with open(fname_txt, 'w') as file:\n",
    "    file.write(\"# Integrating range for the LC and SED\\n# Energy_min, Energy_max\\n\")\n",
    "    for row in data:\n",
    "        file.write(f\"{row[0]},{row[1]}\\n\")"
   ]
  }
 ],
 "metadata": {
  "kernelspec": {
   "display_name": "Python 3 (ipykernel)",
   "language": "python",
   "name": "python3"
  },
  "language_info": {
   "codemirror_mode": {
    "name": "ipython",
    "version": 3
   },
   "file_extension": ".py",
   "mimetype": "text/x-python",
   "name": "python",
   "nbconvert_exporter": "python",
   "pygments_lexer": "ipython3",
   "version": "3.9.16"
  }
 },
 "nbformat": 4,
 "nbformat_minor": 5
}
