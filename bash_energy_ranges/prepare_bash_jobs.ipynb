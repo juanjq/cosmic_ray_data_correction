{
 "cells": [
  {
   "cell_type": "code",
   "execution_count": 1,
   "id": "d7df4798",
   "metadata": {},
   "outputs": [
    {
     "data": {
      "text/html": [
       "<style>.container { width:100% !important; }</style>"
      ],
      "text/plain": [
       "<IPython.core.display.HTML object>"
      ]
     },
     "metadata": {},
     "output_type": "display_data"
    }
   ],
   "source": [
    "import numpy as np\n",
    "import pickle, sys, os, json\n",
    "\n",
    "from IPython.display import display, HTML\n",
    "display(HTML(\"<style>.container { width:100% !important; }</style>\"))"
   ]
  },
  {
   "cell_type": "code",
   "execution_count": 2,
   "id": "d7a34d33",
   "metadata": {},
   "outputs": [],
   "source": [
    "fname_txt = \"jobs_information.txt\"\n",
    "N = 50\n",
    "\n",
    "energy_min = np.logspace(np.log10(0.05), np.log10(10), N)\n",
    "energy_max = 50"
   ]
  },
  {
   "cell_type": "code",
   "execution_count": 3,
   "id": "617529ec",
   "metadata": {},
   "outputs": [],
   "source": [
    "data = list(zip(energy_min, [energy_max] * len(energy_min)))\n",
    "\n",
    "# Write the data to a text file\n",
    "with open(fname_txt, 'w') as file:\n",
    "    file.write(\"# Integrating range for the LC and SED\\n# Energy_min, Energy_max\\n\")\n",
    "    for row in data:\n",
    "        file.write(f\"{row[0]},{row[1]}\\n\")"
   ]
  },
  {
   "cell_type": "code",
   "execution_count": 4,
   "id": "29d9a9d4",
   "metadata": {},
   "outputs": [],
   "source": [
    "import script_compute_lc as sc"
   ]
  },
  {
   "cell_type": "code",
   "execution_count": 5,
   "id": "a84dd171",
   "metadata": {},
   "outputs": [
    {
     "name": "stdout",
     "output_type": "stream",
     "text": [
      "Spectral fit will be done in energy edges:\n",
      " [ 0.1         0.15587755  0.24297811  0.37874832  0.5903836   0.9202755\n",
      "  1.4345029   2.23606798  3.48552798  5.43315563  8.4690699  13.20137869\n",
      " 20.57798569 32.07645997 50.        ] TeV\n",
      "\n",
      "LC will be estimated from 0.1 TeV to 50.0 TeV\n",
      "Stacking datasets\n",
      "\n",
      "The model used:\n",
      " {'name': 'crab', 'type': 'SkyModel', 'spectral': {'type': 'LogParabolaSpectralModel', 'parameters': [{'name': 'amplitude', 'value': 1e-12, 'unit': 'cm-2 s-1 TeV-1'}, {'name': 'reference', 'value': 1.0, 'unit': 'TeV'}, {'name': 'alpha', 'value': 2.0}, {'name': 'beta', 'value': 0.1}]}}\n",
      "\n",
      "\n",
      "Extracting flux points\n",
      "\n",
      "Running the LC estimator over all runs\n",
      "\n",
      "Extracting variables\n",
      "\n",
      "Creating dict\n",
      "Writing object to disk\n",
      "Finished -->  objects/dicts_sed_and_lc/dict_0.100_50.pkl\n"
     ]
    }
   ],
   "source": [
    "sc.compute(\"0.1,50\")"
   ]
  }
 ],
 "metadata": {
  "kernelspec": {
   "display_name": "Python 3 (ipykernel)",
   "language": "python",
   "name": "python3"
  },
  "language_info": {
   "codemirror_mode": {
    "name": "ipython",
    "version": 3
   },
   "file_extension": ".py",
   "mimetype": "text/x-python",
   "name": "python",
   "nbconvert_exporter": "python",
   "pygments_lexer": "ipython3",
   "version": "3.9.16"
  }
 },
 "nbformat": 4,
 "nbformat_minor": 5
}
