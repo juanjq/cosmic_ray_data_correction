{
 "cells": [
  {
   "cell_type": "markdown",
   "id": "4152cd21",
   "metadata": {},
   "source": [
    "# Convert dl2 to dl3\n",
    "\n",
    "First of all we import packages and create the logger"
   ]
  },
  {
   "cell_type": "code",
   "execution_count": 1,
   "id": "cf44c3a4",
   "metadata": {},
   "outputs": [
    {
     "data": {
      "text/html": [
       "<style>.container { width:100% !important; }</style>"
      ],
      "text/plain": [
       "<IPython.core.display.HTML object>"
      ]
     },
     "metadata": {},
     "output_type": "display_data"
    }
   ],
   "source": [
    "# packages\n",
    "import numpy as np \n",
    "import matplotlib.pyplot as plt\n",
    "import os, sys, json, glob, logging\n",
    "\n",
    "from traitlets.config.loader import Config\n",
    "from lstchain.io.config import read_configuration_file\n",
    "from astropy.coordinates import SkyCoord\n",
    "from astropy import units as u\n",
    "\n",
    "from IPython.display import display, HTML\n",
    "display(HTML(\"<style>.container { width:100% !important; }</style>\"))\n",
    "\n",
    "# import scripts\n",
    "sys.path.insert(0, os.path.join(\"/fefs/aswg/workspace/juan.jimenez/cosmic_ray_data_correction/scripts\"))\n",
    "import auxiliar as aux\n",
    "\n",
    "# logging definition\n",
    "try:\n",
    "    logger\n",
    "except NameError:\n",
    "    logger = logging.getLogger(__name__)\n",
    "    logger.addHandler(logging.StreamHandler())\n",
    "    logger.setLevel(logging.INFO)"
   ]
  },
  {
   "cell_type": "markdown",
   "id": "53e980ce",
   "metadata": {},
   "source": [
    "Defining all paths and variables"
   ]
  },
  {
   "cell_type": "code",
   "execution_count": 2,
   "id": "8b224744",
   "metadata": {},
   "outputs": [
    {
     "data": {
      "text/plain": [
       "{'EventSelector': {'filters': {'intensity': [80, inf],\n",
       "   'width': [0, inf],\n",
       "   'length': [0, inf],\n",
       "   'r': [0, 1],\n",
       "   'wl': [0, 1],\n",
       "   'leakage_intensity_width_2': [0, 1],\n",
       "   'event_type': [32, 32]}},\n",
       " 'DL3Cuts': {'min_event_p_en_bin': 100,\n",
       "  'min_gh_cut': 0.1,\n",
       "  'max_gh_cut': 0.95,\n",
       "  'min_theta_cut': 0.05,\n",
       "  'max_theta_cut': 0.32,\n",
       "  'fill_theta_cut': 0.32,\n",
       "  'allowed_tels': [1]},\n",
       " 'DataBinning': {'true_energy_min': 0.002,\n",
       "  'true_energy_max': 200,\n",
       "  'true_energy_n_bins_per_decade': 5,\n",
       "  'reco_energy_min': 0.002,\n",
       "  'reco_energy_max': 200,\n",
       "  'reco_energy_n_bins_per_decade': 5,\n",
       "  'energy_migration_min': 0.2,\n",
       "  'energy_migration_max': 5,\n",
       "  'energy_migration_n_bins': 31,\n",
       "  'fov_offset_min': 0.1,\n",
       "  'fov_offset_max': 1.1,\n",
       "  'fov_offset_n_edges': 9,\n",
       "  'bkg_fov_offset_min': 0,\n",
       "  'bkg_fov_offset_max': 10,\n",
       "  'bkg_fov_offset_n_edges': 21,\n",
       "  'source_offset_min': 0.0001,\n",
       "  'source_offset_max': 1.0001,\n",
       "  'source_offset_n_edges': 1000}}"
      ]
     },
     "execution_count": 2,
     "metadata": {},
     "output_type": "execute_result"
    }
   ],
   "source": [
    "######################################\n",
    "# Paths and directories\n",
    "root_dl2 = \"/fefs/aswg/workspace/abelardo.moralejo/Crab_performance_paper/data_v0.9.9/DL2/\"\n",
    "root_mc  = \"/fefs/aswg/data/mc/DL2/AllSky/20221027_v0.9.9_crab_tuned/TestingDataset/dec_2276/\"\n",
    "\n",
    "path_irf = \"/fefs/aswg/workspace/juan.jimenez/data/cosmic_ray_data_correction/performance_paper_data/irfs\"\n",
    "path_dl3 = \"/fefs/aswg/workspace/juan.jimenez/data/cosmic_ray_data_correction/performance_paper_data/dl3\"\n",
    "\n",
    "config_file = \"/fefs/aswg/workspace/juan.jimenez/cosmic_ray_data_correction/analysis_first_corrections/config/dl2_dl3_config.json\"\n",
    "\n",
    "# output name\n",
    "fname_dict = \"objects/dict_dl2_dl3_MCs.json\"\n",
    "\n",
    "\n",
    "######################################\n",
    "# Avoid repeating long processes\n",
    "compute_irf = False\n",
    "compute_dl3 = False\n",
    "\n",
    "######################################\n",
    "# Source info\n",
    "source_name = \"Crab\"\n",
    "\n",
    "######################################\n",
    "# Reading the configuration file\n",
    "config = Config(read_configuration_file(config_file))\n",
    "config"
   ]
  },
  {
   "cell_type": "markdown",
   "id": "287b58b5",
   "metadata": {},
   "source": [
    "Creating a dictionary with all runs and the dl2 directory, and theta and az of the MC used."
   ]
  },
  {
   "cell_type": "code",
   "execution_count": 3,
   "id": "a3b22d01",
   "metadata": {},
   "outputs": [
    {
     "name": "stderr",
     "output_type": "stream",
     "text": [
      "Searching for DL2 files at:\n",
      "/fefs/aswg/workspace/abelardo.moralejo/Crab_performance_paper/data_v0.9.9/DL2/\n",
      "\n",
      "Found 6 folders i.e. 6 different MC used\n"
     ]
    }
   ],
   "source": [
    "# Create folders if do not exist\n",
    "aux.createdir(path_irf)\n",
    "aux.createdir(path_dl3)\n",
    "\n",
    "# --- Opening all files in the root path filtering that contain the words \"process\" in the dir --- #\n",
    "items_in_root = os.listdir(root_dl2)\n",
    "dirs_dl2 = [item for item in items_in_root if os.path.isdir(os.path.join(root_dl2, item)) if \"process\" in item]\n",
    "dirs_dl2 = np.sort([os.path.join(root_dl2, d) for d in dirs_dl2])\n",
    "\n",
    "logger.info(f\"Searching for DL2 files at:\\n{root_dl2}\\n\\nFound {len(dirs_dl2)} folders i.e. {len(dirs_dl2)} different MC used\")\n",
    "\n",
    "dict_runs = {}\n",
    "# Looping over all folders\n",
    "for i in range(len(dirs_dl2)):\n",
    "        \n",
    "        # Now we find the files inside each folder and keep only \".h5\" files\n",
    "        _files_ = os.listdir(dirs_dl2[i])\n",
    "        _files_ = [os.path.join(dirs_dl2[i], f.decode('utf-8')) for f in _files_ if \".h5\" in str(f)]\n",
    "        # Extract run numbers\n",
    "        run_nums = [int(f[-8:-3]) for f in _files_]    \n",
    "        \n",
    "        # Iterate over all files in each directory\n",
    "        for j in range(len(_files_)):\n",
    "            \n",
    "            # Creating a sub-dict for each run\n",
    "            tmp_dict = {}\n",
    "            tmp_dict[\"dl2\"] = _files_[j]\n",
    "            tmp_dict[\"irf\"] = os.path.join(path_irf, f\"irf_{os.path.basename(dirs_dl2[i])[13:]}.fits.gz\")\n",
    "            \n",
    "            dict_runs[int(run_nums[j])] = tmp_dict"
   ]
  },
  {
   "cell_type": "markdown",
   "id": "b22799a2",
   "metadata": {},
   "source": [
    "Now we need to create the IRFs for all the MC files in the MC directory"
   ]
  },
  {
   "cell_type": "code",
   "execution_count": 4,
   "id": "ca4970f3",
   "metadata": {
    "scrolled": true
   },
   "outputs": [
    {
     "name": "stderr",
     "output_type": "stream",
     "text": [
      "Creating IRF for mc_theta_10.0_az_102.199\n"
     ]
    },
    {
     "name": "stdout",
     "output_type": "stream",
     "text": [
      "2023-11-07 17:36:45,130 \u001b[1;33mWARNING\u001b[0m [ctapipe.IRFFITSWriter] (lstchain_create_irf_files.setup): Overwriting /fefs/aswg/workspace/juan.jimenez/data/lst1_systematics/_irf/irf_mc_theta_10.0_az_102.199.fits.gz\n",
      "\u001b[0m"
     ]
    },
    {
     "name": "stderr",
     "output_type": "stream",
     "text": [
      "Creating IRF for mc_theta_10.0_az_248.117\n"
     ]
    },
    {
     "name": "stdout",
     "output_type": "stream",
     "text": [
      "\u001b[0m"
     ]
    },
    {
     "name": "stderr",
     "output_type": "stream",
     "text": [
      "Creating IRF for mc_theta_23.63_az_100.758\n"
     ]
    },
    {
     "name": "stdout",
     "output_type": "stream",
     "text": [
      "\u001b[0m"
     ]
    },
    {
     "name": "stderr",
     "output_type": "stream",
     "text": [
      "Creating IRF for mc_theta_23.63_az_259.265\n"
     ]
    },
    {
     "name": "stdout",
     "output_type": "stream",
     "text": [
      "\u001b[0m"
     ]
    },
    {
     "name": "stderr",
     "output_type": "stream",
     "text": [
      "Creating IRF for mc_theta_32.059_az_102.217\n"
     ]
    },
    {
     "name": "stdout",
     "output_type": "stream",
     "text": [
      "\u001b[0m"
     ]
    },
    {
     "name": "stderr",
     "output_type": "stream",
     "text": [
      "Creating IRF for mc_theta_32.059_az_248.099\n"
     ]
    },
    {
     "name": "stdout",
     "output_type": "stream",
     "text": [
      "\u001b[0mCPU times: user 2.6 s, sys: 542 ms, total: 3.14 s\n",
      "Wall time: 2min 29s\n"
     ]
    }
   ],
   "source": [
    "%%time\n",
    "# Correspondence between MC folder and MC file\n",
    "dict_dirs_mc = {\n",
    "    \"process_with_mc_theta_10.0_az_102.199\"   : \"node_theta_10.0_az_102.199_/dl2_20221027_v0.9.9_crab_tuned_node_theta_10.0_az_102.199__merged.h5\",\n",
    "    \"process_with_mc_theta_10.0_az_248.117\"   : \"node_theta_10.0_az_248.117_/dl2_20221027_v0.9.9_crab_tuned_node_theta_10.0_az_248.117__merged.h5\",\n",
    "    \"process_with_mc_theta_23.63_az_100.758\"  : \"node_theta_23.630_az_100.758_/dl2_20221027_v0.9.9_crab_tuned_node_theta_23.630_az_100.758__merged.h5\",\n",
    "    \"process_with_mc_theta_23.63_az_259.265\"  : \"node_theta_23.630_az_259.265_/dl2_20221027_v0.9.9_crab_tuned_node_theta_23.630_az_259.265__merged.h5\",\n",
    "    \"process_with_mc_theta_32.059_az_102.217\" : \"node_theta_32.059_az_102.217_/dl2_20221027_v0.9.9_crab_tuned_node_theta_32.059_az_102.217__merged.h5\",\n",
    "    \"process_with_mc_theta_32.059_az_248.099\" : \"node_theta_32.059_az_248.099_/dl2_20221027_v0.9.9_crab_tuned_node_theta_32.059_az_248.099__merged.h5\",\n",
    "}\n",
    "\n",
    "\n",
    "for key in dict_dirs_mc.keys():\n",
    "    \n",
    "    logger.info(f\"Creating IRF for {key[13:]}\")\n",
    "    \n",
    "    mc_input   = os.path.join(root_mc, dict_dirs_mc[key])\n",
    "    irf_output = os.path.join(path_irf, f\"irf_{key[13:]}.fits.gz\")\n",
    "    logger.debug(f\"\\n{os.path.basename(mc_input)} --> {os.path.basename(irf_output)}\")\n",
    "    \n",
    "    if compute_irf:\n",
    "                \n",
    "        # Creating the IRF\n",
    "        !lstchain_create_irf_files \\\n",
    "        --input-gamma-dl2 $mc_input \\\n",
    "        --output-irf-file $irf_output \\\n",
    "        --point-like \\\n",
    "        --energy-dependent-gh \\\n",
    "        --energy-dependent-theta \\\n",
    "        --overwrite    "
   ]
  },
  {
   "cell_type": "markdown",
   "id": "5b06841f",
   "metadata": {},
   "source": [
    "At the end we create the dl3 file from the dl2 file and the corresponding irf"
   ]
  },
  {
   "cell_type": "code",
   "execution_count": 5,
   "id": "13894191",
   "metadata": {},
   "outputs": [
    {
     "name": "stderr",
     "output_type": "stream",
     "text": [
      "Computing dl3 for Run3319,  0.0%...\n"
     ]
    },
    {
     "name": "stdout",
     "output_type": "stream",
     "text": [
      "\u001b[0m"
     ]
    },
    {
     "name": "stderr",
     "output_type": "stream",
     "text": [
      "Computing dl3 for Run3096,  0.9%...\n"
     ]
    },
    {
     "name": "stdout",
     "output_type": "stream",
     "text": [
      "\u001b[0m"
     ]
    },
    {
     "name": "stderr",
     "output_type": "stream",
     "text": [
      "Computing dl3 for Run2950,  1.7%...\n"
     ]
    },
    {
     "name": "stdout",
     "output_type": "stream",
     "text": [
      "\u001b[0m"
     ]
    },
    {
     "name": "stderr",
     "output_type": "stream",
     "text": [
      "Computing dl3 for Run2973,  2.6%...\n"
     ]
    },
    {
     "name": "stdout",
     "output_type": "stream",
     "text": [
      "\u001b[0m"
     ]
    },
    {
     "name": "stderr",
     "output_type": "stream",
     "text": [
      "Computing dl3 for Run3338,  3.4%...\n"
     ]
    },
    {
     "name": "stdout",
     "output_type": "stream",
     "text": [
      "\u001b[0m"
     ]
    },
    {
     "name": "stderr",
     "output_type": "stream",
     "text": [
      "Computing dl3 for Run2929,  4.3%...\n"
     ]
    },
    {
     "name": "stdout",
     "output_type": "stream",
     "text": [
      "\u001b[0m"
     ]
    },
    {
     "name": "stderr",
     "output_type": "stream",
     "text": [
      "Computing dl3 for Run2972,  5.1%...\n"
     ]
    },
    {
     "name": "stdout",
     "output_type": "stream",
     "text": [
      "\u001b[0m"
     ]
    },
    {
     "name": "stderr",
     "output_type": "stream",
     "text": [
      "Computing dl3 for Run2988,  6.0%...\n"
     ]
    },
    {
     "name": "stdout",
     "output_type": "stream",
     "text": [
      "\u001b[0m"
     ]
    },
    {
     "name": "stderr",
     "output_type": "stream",
     "text": [
      "Computing dl3 for Run3273,  6.8%...\n"
     ]
    },
    {
     "name": "stdout",
     "output_type": "stream",
     "text": [
      "\u001b[0m"
     ]
    },
    {
     "name": "stderr",
     "output_type": "stream",
     "text": [
      "Computing dl3 for Run2970,  7.7%...\n"
     ]
    },
    {
     "name": "stdout",
     "output_type": "stream",
     "text": [
      "\u001b[0m"
     ]
    },
    {
     "name": "stderr",
     "output_type": "stream",
     "text": [
      "Computing dl3 for Run3318,  8.5%...\n"
     ]
    },
    {
     "name": "stdout",
     "output_type": "stream",
     "text": [
      "\u001b[0m"
     ]
    },
    {
     "name": "stderr",
     "output_type": "stream",
     "text": [
      "Computing dl3 for Run2930,  9.4%...\n"
     ]
    },
    {
     "name": "stdout",
     "output_type": "stream",
     "text": [
      "\u001b[0m"
     ]
    },
    {
     "name": "stderr",
     "output_type": "stream",
     "text": [
      "Computing dl3 for Run2931,  10.3%...\n"
     ]
    },
    {
     "name": "stdout",
     "output_type": "stream",
     "text": [
      "\u001b[0m"
     ]
    },
    {
     "name": "stderr",
     "output_type": "stream",
     "text": [
      "Computing dl3 for Run2971,  11.1%...\n"
     ]
    },
    {
     "name": "stdout",
     "output_type": "stream",
     "text": [
      "\u001b[0m"
     ]
    },
    {
     "name": "stderr",
     "output_type": "stream",
     "text": [
      "Computing dl3 for Run3275,  12.0%...\n"
     ]
    },
    {
     "name": "stdout",
     "output_type": "stream",
     "text": [
      "\u001b[0m"
     ]
    },
    {
     "name": "stderr",
     "output_type": "stream",
     "text": [
      "Computing dl3 for Run3320,  12.8%...\n"
     ]
    },
    {
     "name": "stdout",
     "output_type": "stream",
     "text": [
      "\u001b[0m"
     ]
    },
    {
     "name": "stderr",
     "output_type": "stream",
     "text": [
      "Computing dl3 for Run3274,  13.7%...\n"
     ]
    },
    {
     "name": "stdout",
     "output_type": "stream",
     "text": [
      "\u001b[0m"
     ]
    },
    {
     "name": "stderr",
     "output_type": "stream",
     "text": [
      "Computing dl3 for Run3095,  14.5%...\n"
     ]
    },
    {
     "name": "stdout",
     "output_type": "stream",
     "text": [
      "\u001b[0m"
     ]
    },
    {
     "name": "stderr",
     "output_type": "stream",
     "text": [
      "Computing dl3 for Run2933,  15.4%...\n"
     ]
    },
    {
     "name": "stdout",
     "output_type": "stream",
     "text": [
      "\u001b[0m"
     ]
    },
    {
     "name": "stderr",
     "output_type": "stream",
     "text": [
      "Computing dl3 for Run3321,  16.2%...\n"
     ]
    },
    {
     "name": "stdout",
     "output_type": "stream",
     "text": [
      "\u001b[0m"
     ]
    },
    {
     "name": "stderr",
     "output_type": "stream",
     "text": [
      "Computing dl3 for Run3356,  17.1%...\n"
     ]
    },
    {
     "name": "stdout",
     "output_type": "stream",
     "text": [
      "\u001b[0m"
     ]
    },
    {
     "name": "stderr",
     "output_type": "stream",
     "text": [
      "Computing dl3 for Run3276,  17.9%...\n"
     ]
    },
    {
     "name": "stdout",
     "output_type": "stream",
     "text": [
      "\u001b[0m"
     ]
    },
    {
     "name": "stderr",
     "output_type": "stream",
     "text": [
      "Computing dl3 for Run3339,  18.8%...\n"
     ]
    },
    {
     "name": "stdout",
     "output_type": "stream",
     "text": [
      "\u001b[0m"
     ]
    },
    {
     "name": "stderr",
     "output_type": "stream",
     "text": [
      "Computing dl3 for Run6893,  19.7%...\n"
     ]
    },
    {
     "name": "stdout",
     "output_type": "stream",
     "text": [
      "\u001b[0m"
     ]
    },
    {
     "name": "stderr",
     "output_type": "stream",
     "text": [
      "Computing dl3 for Run3279,  20.5%...\n"
     ]
    },
    {
     "name": "stdout",
     "output_type": "stream",
     "text": [
      "\u001b[0m"
     ]
    },
    {
     "name": "stderr",
     "output_type": "stream",
     "text": [
      "Computing dl3 for Run2914,  21.4%...\n"
     ]
    },
    {
     "name": "stdout",
     "output_type": "stream",
     "text": [
      "\u001b[0m"
     ]
    },
    {
     "name": "stderr",
     "output_type": "stream",
     "text": [
      "Computing dl3 for Run3329,  22.2%...\n"
     ]
    },
    {
     "name": "stdout",
     "output_type": "stream",
     "text": [
      "\u001b[0m"
     ]
    },
    {
     "name": "stderr",
     "output_type": "stream",
     "text": [
      "Computing dl3 for Run6892,  23.1%...\n"
     ]
    },
    {
     "name": "stdout",
     "output_type": "stream",
     "text": [
      "\u001b[0m"
     ]
    },
    {
     "name": "stderr",
     "output_type": "stream",
     "text": [
      "Computing dl3 for Run7161,  23.9%...\n"
     ]
    },
    {
     "name": "stdout",
     "output_type": "stream",
     "text": [
      "\u001b[0m"
     ]
    },
    {
     "name": "stderr",
     "output_type": "stream",
     "text": [
      "Computing dl3 for Run2975,  24.8%...\n"
     ]
    },
    {
     "name": "stdout",
     "output_type": "stream",
     "text": [
      "\u001b[0m"
     ]
    },
    {
     "name": "stderr",
     "output_type": "stream",
     "text": [
      "Computing dl3 for Run6872,  25.6%...\n"
     ]
    },
    {
     "name": "stdout",
     "output_type": "stream",
     "text": [
      "\u001b[0m"
     ]
    },
    {
     "name": "stderr",
     "output_type": "stream",
     "text": [
      "Computing dl3 for Run3672,  26.5%...\n"
     ]
    },
    {
     "name": "stdout",
     "output_type": "stream",
     "text": [
      "\u001b[0m"
     ]
    },
    {
     "name": "stderr",
     "output_type": "stream",
     "text": [
      "Computing dl3 for Run3674,  27.4%...\n"
     ]
    },
    {
     "name": "stdout",
     "output_type": "stream",
     "text": [
      "\u001b[0m"
     ]
    },
    {
     "name": "stderr",
     "output_type": "stream",
     "text": [
      "Computing dl3 for Run3340,  28.2%...\n"
     ]
    },
    {
     "name": "stdout",
     "output_type": "stream",
     "text": [
      "\u001b[0m"
     ]
    },
    {
     "name": "stderr",
     "output_type": "stream",
     "text": [
      "Computing dl3 for Run2976,  29.1%...\n"
     ]
    },
    {
     "name": "stdout",
     "output_type": "stream",
     "text": [
      "\u001b[0m"
     ]
    },
    {
     "name": "stderr",
     "output_type": "stream",
     "text": [
      "Computing dl3 for Run2934,  29.9%...\n"
     ]
    },
    {
     "name": "stdout",
     "output_type": "stream",
     "text": [
      "\u001b[0m"
     ]
    },
    {
     "name": "stderr",
     "output_type": "stream",
     "text": [
      "Computing dl3 for Run3598,  30.8%...\n"
     ]
    },
    {
     "name": "stdout",
     "output_type": "stream",
     "text": [
      "\u001b[0m"
     ]
    },
    {
     "name": "stderr",
     "output_type": "stream",
     "text": [
      "Computing dl3 for Run3328,  31.6%...\n"
     ]
    },
    {
     "name": "stdout",
     "output_type": "stream",
     "text": [
      "\u001b[0m"
     ]
    },
    {
     "name": "stderr",
     "output_type": "stream",
     "text": [
      "Computing dl3 for Run3004,  32.5%...\n"
     ]
    },
    {
     "name": "stdout",
     "output_type": "stream",
     "text": [
      "\u001b[0m"
     ]
    },
    {
     "name": "stderr",
     "output_type": "stream",
     "text": [
      "Computing dl3 for Run7197,  33.3%...\n"
     ]
    },
    {
     "name": "stdout",
     "output_type": "stream",
     "text": [
      "\u001b[0m"
     ]
    },
    {
     "name": "stderr",
     "output_type": "stream",
     "text": [
      "Computing dl3 for Run7253,  34.2%...\n"
     ]
    },
    {
     "name": "stdout",
     "output_type": "stream",
     "text": [
      "\u001b[0m"
     ]
    },
    {
     "name": "stderr",
     "output_type": "stream",
     "text": [
      "Computing dl3 for Run3675,  35.0%...\n"
     ]
    },
    {
     "name": "stdout",
     "output_type": "stream",
     "text": [
      "\u001b[0m"
     ]
    },
    {
     "name": "stderr",
     "output_type": "stream",
     "text": [
      "Computing dl3 for Run6874,  35.9%...\n"
     ]
    },
    {
     "name": "stdout",
     "output_type": "stream",
     "text": [
      "\u001b[0m"
     ]
    },
    {
     "name": "stderr",
     "output_type": "stream",
     "text": [
      "Computing dl3 for Run2974,  36.8%...\n"
     ]
    },
    {
     "name": "stdout",
     "output_type": "stream",
     "text": [
      "\u001b[0m"
     ]
    },
    {
     "name": "stderr",
     "output_type": "stream",
     "text": [
      "Computing dl3 for Run2991,  37.6%...\n"
     ]
    },
    {
     "name": "stdout",
     "output_type": "stream",
     "text": [
      "\u001b[0m"
     ]
    },
    {
     "name": "stderr",
     "output_type": "stream",
     "text": [
      "Computing dl3 for Run3632,  38.5%...\n"
     ]
    },
    {
     "name": "stdout",
     "output_type": "stream",
     "text": [
      "\u001b[0m"
     ]
    },
    {
     "name": "stderr",
     "output_type": "stream",
     "text": [
      "Computing dl3 for Run3006,  39.3%...\n"
     ]
    },
    {
     "name": "stdout",
     "output_type": "stream",
     "text": [
      "\u001b[0m"
     ]
    },
    {
     "name": "stderr",
     "output_type": "stream",
     "text": [
      "Computing dl3 for Run7274,  40.2%...\n"
     ]
    },
    {
     "name": "stdout",
     "output_type": "stream",
     "text": [
      "\u001b[0m"
     ]
    },
    {
     "name": "stderr",
     "output_type": "stream",
     "text": [
      "Computing dl3 for Run6873,  41.0%...\n"
     ]
    },
    {
     "name": "stdout",
     "output_type": "stream",
     "text": [
      "\u001b[0m"
     ]
    },
    {
     "name": "stderr",
     "output_type": "stream",
     "text": [
      "Computing dl3 for Run3005,  41.9%...\n"
     ]
    },
    {
     "name": "stdout",
     "output_type": "stream",
     "text": [
      "\u001b[0m"
     ]
    },
    {
     "name": "stderr",
     "output_type": "stream",
     "text": [
      "Computing dl3 for Run7228,  42.7%...\n"
     ]
    },
    {
     "name": "stdout",
     "output_type": "stream",
     "text": [
      "\u001b[0m"
     ]
    },
    {
     "name": "stderr",
     "output_type": "stream",
     "text": [
      "Computing dl3 for Run7196,  43.6%...\n"
     ]
    },
    {
     "name": "stdout",
     "output_type": "stream",
     "text": [
      "\u001b[0m"
     ]
    },
    {
     "name": "stderr",
     "output_type": "stream",
     "text": [
      "Computing dl3 for Run2932,  44.4%...\n"
     ]
    },
    {
     "name": "stdout",
     "output_type": "stream",
     "text": [
      "\u001b[0m"
     ]
    },
    {
     "name": "stderr",
     "output_type": "stream",
     "text": [
      "Computing dl3 for Run3355,  45.3%...\n"
     ]
    },
    {
     "name": "stdout",
     "output_type": "stream",
     "text": [
      "\u001b[0m"
     ]
    },
    {
     "name": "stderr",
     "output_type": "stream",
     "text": [
      "Computing dl3 for Run3330,  46.2%...\n"
     ]
    },
    {
     "name": "stdout",
     "output_type": "stream",
     "text": [
      "\u001b[0m"
     ]
    },
    {
     "name": "stderr",
     "output_type": "stream",
     "text": [
      "Computing dl3 for Run7133,  47.0%...\n"
     ]
    },
    {
     "name": "stdout",
     "output_type": "stream",
     "text": [
      "\u001b[0m"
     ]
    },
    {
     "name": "stderr",
     "output_type": "stream",
     "text": [
      "Computing dl3 for Run3278,  47.9%...\n"
     ]
    },
    {
     "name": "stdout",
     "output_type": "stream",
     "text": [
      "\u001b[0m"
     ]
    },
    {
     "name": "stderr",
     "output_type": "stream",
     "text": [
      "Computing dl3 for Run2990,  48.7%...\n"
     ]
    },
    {
     "name": "stdout",
     "output_type": "stream",
     "text": [
      "\u001b[0m"
     ]
    },
    {
     "name": "stderr",
     "output_type": "stream",
     "text": [
      "Computing dl3 for Run3673,  49.6%...\n"
     ]
    },
    {
     "name": "stdout",
     "output_type": "stream",
     "text": [
      "\u001b[0m"
     ]
    },
    {
     "name": "stderr",
     "output_type": "stream",
     "text": [
      "Computing dl3 for Run3277,  50.4%...\n"
     ]
    },
    {
     "name": "stdout",
     "output_type": "stream",
     "text": [
      "\u001b[0m"
     ]
    },
    {
     "name": "stderr",
     "output_type": "stream",
     "text": [
      "Computing dl3 for Run7195,  51.3%...\n"
     ]
    },
    {
     "name": "stdout",
     "output_type": "stream",
     "text": [
      "\u001b[0m"
     ]
    },
    {
     "name": "stderr",
     "output_type": "stream",
     "text": [
      "Computing dl3 for Run2989,  52.1%...\n"
     ]
    },
    {
     "name": "stdout",
     "output_type": "stream",
     "text": [
      "\u001b[0m"
     ]
    },
    {
     "name": "stderr",
     "output_type": "stream",
     "text": [
      "Computing dl3 for Run7227,  53.0%...\n"
     ]
    },
    {
     "name": "stdout",
     "output_type": "stream",
     "text": [
      "\u001b[0m"
     ]
    },
    {
     "name": "stderr",
     "output_type": "stream",
     "text": [
      "Computing dl3 for Run2968,  53.8%...\n"
     ]
    },
    {
     "name": "stdout",
     "output_type": "stream",
     "text": [
      "\u001b[0m"
     ]
    },
    {
     "name": "stderr",
     "output_type": "stream",
     "text": [
      "Computing dl3 for Run6304,  54.7%...\n"
     ]
    },
    {
     "name": "stdout",
     "output_type": "stream",
     "text": [
      "\u001b[0m"
     ]
    },
    {
     "name": "stderr",
     "output_type": "stream",
     "text": [
      "Computing dl3 for Run2969,  55.6%...\n"
     ]
    },
    {
     "name": "stdout",
     "output_type": "stream",
     "text": [
      "\u001b[0m"
     ]
    },
    {
     "name": "stderr",
     "output_type": "stream",
     "text": [
      "Computing dl3 for Run3271,  56.4%...\n"
     ]
    },
    {
     "name": "stdout",
     "output_type": "stream",
     "text": [
      "\u001b[0m"
     ]
    },
    {
     "name": "stderr",
     "output_type": "stream",
     "text": [
      "Computing dl3 for Run3094,  57.3%...\n"
     ]
    },
    {
     "name": "stdout",
     "output_type": "stream",
     "text": [
      "\u001b[0m"
     ]
    },
    {
     "name": "stderr",
     "output_type": "stream",
     "text": [
      "Computing dl3 for Run3093,  58.1%...\n"
     ]
    },
    {
     "name": "stdout",
     "output_type": "stream",
     "text": [
      "\u001b[0m"
     ]
    },
    {
     "name": "stderr",
     "output_type": "stream",
     "text": [
      "Computing dl3 for Run3272,  59.0%...\n"
     ]
    },
    {
     "name": "stdout",
     "output_type": "stream",
     "text": [
      "\u001b[0m"
     ]
    },
    {
     "name": "stderr",
     "output_type": "stream",
     "text": [
      "Computing dl3 for Run2949,  59.8%...\n"
     ]
    },
    {
     "name": "stdout",
     "output_type": "stream",
     "text": [
      "\u001b[0m"
     ]
    },
    {
     "name": "stderr",
     "output_type": "stream",
     "text": [
      "Computing dl3 for Run7275,  60.7%...\n"
     ]
    },
    {
     "name": "stdout",
     "output_type": "stream",
     "text": [
      "\u001b[0m"
     ]
    },
    {
     "name": "stderr",
     "output_type": "stream",
     "text": [
      "Computing dl3 for Run2977,  61.5%...\n"
     ]
    },
    {
     "name": "stdout",
     "output_type": "stream",
     "text": [
      "\u001b[0m"
     ]
    },
    {
     "name": "stderr",
     "output_type": "stream",
     "text": [
      "Computing dl3 for Run3007,  62.4%...\n"
     ]
    },
    {
     "name": "stdout",
     "output_type": "stream",
     "text": [
      "\u001b[0m"
     ]
    },
    {
     "name": "stderr",
     "output_type": "stream",
     "text": [
      "Computing dl3 for Run4067,  63.2%...\n"
     ]
    },
    {
     "name": "stdout",
     "output_type": "stream",
     "text": [
      "\u001b[0m"
     ]
    },
    {
     "name": "stderr",
     "output_type": "stream",
     "text": [
      "Computing dl3 for Run6894,  64.1%...\n"
     ]
    },
    {
     "name": "stdout",
     "output_type": "stream",
     "text": [
      "\u001b[0m"
     ]
    },
    {
     "name": "stderr",
     "output_type": "stream",
     "text": [
      "Computing dl3 for Run3243,  65.0%...\n"
     ]
    },
    {
     "name": "stdout",
     "output_type": "stream",
     "text": [
      "\u001b[0m"
     ]
    },
    {
     "name": "stderr",
     "output_type": "stream",
     "text": [
      "Computing dl3 for Run7098,  65.8%...\n"
     ]
    },
    {
     "name": "stdout",
     "output_type": "stream",
     "text": [
      "\u001b[0m"
     ]
    },
    {
     "name": "stderr",
     "output_type": "stream",
     "text": [
      "Computing dl3 for Run7199,  66.7%...\n"
     ]
    },
    {
     "name": "stdout",
     "output_type": "stream",
     "text": [
      "\u001b[0m"
     ]
    },
    {
     "name": "stderr",
     "output_type": "stream",
     "text": [
      "Computing dl3 for Run3600,  67.5%...\n"
     ]
    },
    {
     "name": "stdout",
     "output_type": "stream",
     "text": [
      "\u001b[0m"
     ]
    },
    {
     "name": "stderr",
     "output_type": "stream",
     "text": [
      "Computing dl3 for Run3615,  68.4%...\n"
     ]
    },
    {
     "name": "stdout",
     "output_type": "stream",
     "text": [
      "\u001b[0m"
     ]
    },
    {
     "name": "stderr",
     "output_type": "stream",
     "text": [
      "Computing dl3 for Run7097,  69.2%...\n"
     ]
    },
    {
     "name": "stdout",
     "output_type": "stream",
     "text": [
      "\u001b[0m"
     ]
    },
    {
     "name": "stderr",
     "output_type": "stream",
     "text": [
      "Computing dl3 for Run2992,  70.1%...\n"
     ]
    },
    {
     "name": "stdout",
     "output_type": "stream",
     "text": [
      "\u001b[0m"
     ]
    },
    {
     "name": "stderr",
     "output_type": "stream",
     "text": [
      "Computing dl3 for Run3008,  70.9%...\n"
     ]
    },
    {
     "name": "stdout",
     "output_type": "stream",
     "text": [
      "\u001b[0m"
     ]
    },
    {
     "name": "stderr",
     "output_type": "stream",
     "text": [
      "Computing dl3 for Run7099,  71.8%...\n"
     ]
    },
    {
     "name": "stdout",
     "output_type": "stream",
     "text": [
      "\u001b[0m"
     ]
    },
    {
     "name": "stderr",
     "output_type": "stream",
     "text": [
      "Computing dl3 for Run3633,  72.6%...\n"
     ]
    },
    {
     "name": "stdout",
     "output_type": "stream",
     "text": [
      "\u001b[0m"
     ]
    },
    {
     "name": "stderr",
     "output_type": "stream",
     "text": [
      "Computing dl3 for Run3677,  73.5%...\n"
     ]
    },
    {
     "name": "stdout",
     "output_type": "stream",
     "text": [
      "\u001b[0m"
     ]
    },
    {
     "name": "stderr",
     "output_type": "stream",
     "text": [
      "Computing dl3 for Run3706,  74.4%...\n"
     ]
    },
    {
     "name": "stdout",
     "output_type": "stream",
     "text": [
      "\u001b[0m"
     ]
    },
    {
     "name": "stderr",
     "output_type": "stream",
     "text": [
      "Computing dl3 for Run3676,  75.2%...\n"
     ]
    },
    {
     "name": "stdout",
     "output_type": "stream",
     "text": [
      "\u001b[0m"
     ]
    },
    {
     "name": "stderr",
     "output_type": "stream",
     "text": [
      "Computing dl3 for Run7256,  76.1%...\n"
     ]
    },
    {
     "name": "stdout",
     "output_type": "stream",
     "text": [
      "\u001b[0m"
     ]
    },
    {
     "name": "stderr",
     "output_type": "stream",
     "text": [
      "Computing dl3 for Run3231,  76.9%...\n"
     ]
    },
    {
     "name": "stdout",
     "output_type": "stream",
     "text": [
      "\u001b[0m"
     ]
    },
    {
     "name": "stderr",
     "output_type": "stream",
     "text": [
      "Computing dl3 for Run7231,  77.8%...\n"
     ]
    },
    {
     "name": "stdout",
     "output_type": "stream",
     "text": [
      "\u001b[0m"
     ]
    },
    {
     "name": "stderr",
     "output_type": "stream",
     "text": [
      "Computing dl3 for Run7255,  78.6%...\n"
     ]
    },
    {
     "name": "stdout",
     "output_type": "stream",
     "text": [
      "\u001b[0m"
     ]
    },
    {
     "name": "stderr",
     "output_type": "stream",
     "text": [
      "Computing dl3 for Run7254,  79.5%...\n"
     ]
    },
    {
     "name": "stdout",
     "output_type": "stream",
     "text": [
      "\u001b[0m"
     ]
    },
    {
     "name": "stderr",
     "output_type": "stream",
     "text": [
      "Computing dl3 for Run3707,  80.3%...\n"
     ]
    },
    {
     "name": "stdout",
     "output_type": "stream",
     "text": [
      "\u001b[0m"
     ]
    },
    {
     "name": "stderr",
     "output_type": "stream",
     "text": [
      "Computing dl3 for Run3599,  81.2%...\n"
     ]
    },
    {
     "name": "stdout",
     "output_type": "stream",
     "text": [
      "\u001b[0m"
     ]
    },
    {
     "name": "stderr",
     "output_type": "stream",
     "text": [
      "Computing dl3 for Run3634,  82.1%...\n"
     ]
    },
    {
     "name": "stdout",
     "output_type": "stream",
     "text": [
      "\u001b[0m"
     ]
    },
    {
     "name": "stderr",
     "output_type": "stream",
     "text": [
      "Computing dl3 for Run3373,  82.9%...\n"
     ]
    },
    {
     "name": "stdout",
     "output_type": "stream",
     "text": [
      "\u001b[0m"
     ]
    },
    {
     "name": "stderr",
     "output_type": "stream",
     "text": [
      "Computing dl3 for Run4086,  83.8%...\n"
     ]
    },
    {
     "name": "stdout",
     "output_type": "stream",
     "text": [
      "\u001b[0m"
     ]
    },
    {
     "name": "stderr",
     "output_type": "stream",
     "text": [
      "Computing dl3 for Run6875,  84.6%...\n"
     ]
    },
    {
     "name": "stdout",
     "output_type": "stream",
     "text": [
      "\u001b[0m"
     ]
    },
    {
     "name": "stderr",
     "output_type": "stream",
     "text": [
      "Computing dl3 for Run6073,  85.5%...\n"
     ]
    },
    {
     "name": "stdout",
     "output_type": "stream",
     "text": [
      "\u001b[0m"
     ]
    },
    {
     "name": "stderr",
     "output_type": "stream",
     "text": [
      "Computing dl3 for Run6045,  86.3%...\n"
     ]
    },
    {
     "name": "stdout",
     "output_type": "stream",
     "text": [
      "\u001b[0m"
     ]
    },
    {
     "name": "stderr",
     "output_type": "stream",
     "text": [
      "Computing dl3 for Run3270,  87.2%...\n"
     ]
    },
    {
     "name": "stdout",
     "output_type": "stream",
     "text": [
      "\u001b[0m"
     ]
    },
    {
     "name": "stderr",
     "output_type": "stream",
     "text": [
      "Computing dl3 for Run2967,  88.0%...\n"
     ]
    },
    {
     "name": "stdout",
     "output_type": "stream",
     "text": [
      "\u001b[0m"
     ]
    },
    {
     "name": "stderr",
     "output_type": "stream",
     "text": [
      "Computing dl3 for Run7233,  88.9%...\n"
     ]
    },
    {
     "name": "stdout",
     "output_type": "stream",
     "text": [
      "\u001b[0m"
     ]
    },
    {
     "name": "stderr",
     "output_type": "stream",
     "text": [
      "Computing dl3 for Run7136,  89.7%...\n"
     ]
    },
    {
     "name": "stdout",
     "output_type": "stream",
     "text": [
      "\u001b[0m"
     ]
    },
    {
     "name": "stderr",
     "output_type": "stream",
     "text": [
      "Computing dl3 for Run7232,  90.6%...\n"
     ]
    },
    {
     "name": "stdout",
     "output_type": "stream",
     "text": [
      "\u001b[0m"
     ]
    },
    {
     "name": "stderr",
     "output_type": "stream",
     "text": [
      "Computing dl3 for Run3635,  91.5%...\n"
     ]
    },
    {
     "name": "stdout",
     "output_type": "stream",
     "text": [
      "\u001b[0m"
     ]
    },
    {
     "name": "stderr",
     "output_type": "stream",
     "text": [
      "Computing dl3 for Run7276,  92.3%...\n"
     ]
    },
    {
     "name": "stdout",
     "output_type": "stream",
     "text": [
      "\u001b[0m"
     ]
    },
    {
     "name": "stderr",
     "output_type": "stream",
     "text": [
      "Computing dl3 for Run6895,  93.2%...\n"
     ]
    },
    {
     "name": "stdout",
     "output_type": "stream",
     "text": [
      "\u001b[0m"
     ]
    },
    {
     "name": "stderr",
     "output_type": "stream",
     "text": [
      "Computing dl3 for Run3708,  94.0%...\n"
     ]
    },
    {
     "name": "stdout",
     "output_type": "stream",
     "text": [
      "\u001b[0m"
     ]
    },
    {
     "name": "stderr",
     "output_type": "stream",
     "text": [
      "Computing dl3 for Run4068,  94.9%...\n"
     ]
    },
    {
     "name": "stdout",
     "output_type": "stream",
     "text": [
      "\u001b[0m"
     ]
    },
    {
     "name": "stderr",
     "output_type": "stream",
     "text": [
      "Computing dl3 for Run7277,  95.7%...\n"
     ]
    },
    {
     "name": "stdout",
     "output_type": "stream",
     "text": [
      "\u001b[0m"
     ]
    },
    {
     "name": "stderr",
     "output_type": "stream",
     "text": [
      "Computing dl3 for Run4087,  96.6%...\n"
     ]
    },
    {
     "name": "stdout",
     "output_type": "stream",
     "text": [
      "\u001b[0m"
     ]
    },
    {
     "name": "stderr",
     "output_type": "stream",
     "text": [
      "Computing dl3 for Run7200,  97.4%...\n"
     ]
    },
    {
     "name": "stdout",
     "output_type": "stream",
     "text": [
      "\u001b[0m"
     ]
    },
    {
     "name": "stderr",
     "output_type": "stream",
     "text": [
      "Computing dl3 for Run3232,  98.3%...\n"
     ]
    },
    {
     "name": "stdout",
     "output_type": "stream",
     "text": [
      "\u001b[0m"
     ]
    },
    {
     "name": "stderr",
     "output_type": "stream",
     "text": [
      "Computing dl3 for Run3601,  99.1%...\n"
     ]
    },
    {
     "name": "stdout",
     "output_type": "stream",
     "text": [
      "\u001b[0m"
     ]
    },
    {
     "name": "stderr",
     "output_type": "stream",
     "text": [
      "All dl3 files created 100%\n",
      "\n",
      "\n",
      "Creating index files...\n"
     ]
    },
    {
     "name": "stdout",
     "output_type": "stream",
     "text": [
      "Run 2914 does not contain HDU BACKGROUND\n",
      "Run 2914 does not contain HDU PSF\n",
      "Run 2929 does not contain HDU BACKGROUND\n",
      "Run 2929 does not contain HDU PSF\n",
      "Run 2930 does not contain HDU BACKGROUND\n",
      "Run 2930 does not contain HDU PSF\n",
      "Run 2931 does not contain HDU BACKGROUND\n",
      "Run 2931 does not contain HDU PSF\n",
      "Run 2932 does not contain HDU BACKGROUND\n",
      "Run 2932 does not contain HDU PSF\n",
      "Run 2933 does not contain HDU BACKGROUND\n",
      "Run 2933 does not contain HDU PSF\n",
      "Run 2934 does not contain HDU BACKGROUND\n",
      "Run 2934 does not contain HDU PSF\n",
      "Run 2949 does not contain HDU BACKGROUND\n",
      "Run 2949 does not contain HDU PSF\n",
      "Run 2950 does not contain HDU BACKGROUND\n",
      "Run 2950 does not contain HDU PSF\n",
      "Run 2967 does not contain HDU BACKGROUND\n",
      "Run 2967 does not contain HDU PSF\n",
      "Run 2968 does not contain HDU BACKGROUND\n",
      "Run 2968 does not contain HDU PSF\n",
      "Run 2969 does not contain HDU BACKGROUND\n",
      "Run 2969 does not contain HDU PSF\n",
      "Run 2970 does not contain HDU BACKGROUND\n",
      "Run 2970 does not contain HDU PSF\n",
      "Run 2971 does not contain HDU BACKGROUND\n",
      "Run 2971 does not contain HDU PSF\n",
      "Run 2972 does not contain HDU BACKGROUND\n",
      "Run 2972 does not contain HDU PSF\n",
      "Run 2973 does not contain HDU BACKGROUND\n",
      "Run 2973 does not contain HDU PSF\n",
      "Run 2974 does not contain HDU BACKGROUND\n",
      "Run 2974 does not contain HDU PSF\n",
      "Run 2975 does not contain HDU BACKGROUND\n",
      "Run 2975 does not contain HDU PSF\n",
      "Run 2976 does not contain HDU BACKGROUND\n",
      "Run 2976 does not contain HDU PSF\n",
      "Run 2977 does not contain HDU BACKGROUND\n",
      "Run 2977 does not contain HDU PSF\n",
      "Run 2988 does not contain HDU BACKGROUND\n",
      "Run 2988 does not contain HDU PSF\n",
      "Run 2989 does not contain HDU BACKGROUND\n",
      "Run 2989 does not contain HDU PSF\n",
      "Run 2990 does not contain HDU BACKGROUND\n",
      "Run 2990 does not contain HDU PSF\n",
      "Run 2991 does not contain HDU BACKGROUND\n",
      "Run 2991 does not contain HDU PSF\n",
      "Run 2992 does not contain HDU BACKGROUND\n",
      "Run 2992 does not contain HDU PSF\n",
      "Run 3004 does not contain HDU BACKGROUND\n",
      "Run 3004 does not contain HDU PSF\n",
      "Run 3005 does not contain HDU BACKGROUND\n",
      "Run 3005 does not contain HDU PSF\n",
      "Run 3006 does not contain HDU BACKGROUND\n",
      "Run 3006 does not contain HDU PSF\n",
      "Run 3007 does not contain HDU BACKGROUND\n",
      "Run 3007 does not contain HDU PSF\n",
      "Run 3008 does not contain HDU BACKGROUND\n",
      "Run 3008 does not contain HDU PSF\n",
      "Run 3093 does not contain HDU BACKGROUND\n",
      "Run 3093 does not contain HDU PSF\n",
      "Run 3094 does not contain HDU BACKGROUND\n",
      "Run 3094 does not contain HDU PSF\n",
      "Run 3095 does not contain HDU BACKGROUND\n",
      "Run 3095 does not contain HDU PSF\n",
      "Run 3096 does not contain HDU BACKGROUND\n",
      "Run 3096 does not contain HDU PSF\n",
      "Run 3231 does not contain HDU BACKGROUND\n",
      "Run 3231 does not contain HDU PSF\n",
      "Run 3232 does not contain HDU BACKGROUND\n",
      "Run 3232 does not contain HDU PSF\n",
      "Run 3243 does not contain HDU BACKGROUND\n",
      "Run 3243 does not contain HDU PSF\n",
      "Run 3270 does not contain HDU BACKGROUND\n",
      "Run 3270 does not contain HDU PSF\n",
      "Run 3271 does not contain HDU BACKGROUND\n",
      "Run 3271 does not contain HDU PSF\n",
      "Run 3272 does not contain HDU BACKGROUND\n",
      "Run 3272 does not contain HDU PSF\n",
      "Run 3273 does not contain HDU BACKGROUND\n",
      "Run 3273 does not contain HDU PSF\n",
      "Run 3274 does not contain HDU BACKGROUND\n",
      "Run 3274 does not contain HDU PSF\n",
      "Run 3275 does not contain HDU BACKGROUND\n",
      "Run 3275 does not contain HDU PSF\n",
      "Run 3276 does not contain HDU BACKGROUND\n",
      "Run 3276 does not contain HDU PSF\n",
      "Run 3277 does not contain HDU BACKGROUND\n",
      "Run 3277 does not contain HDU PSF\n",
      "Run 3278 does not contain HDU BACKGROUND\n",
      "Run 3278 does not contain HDU PSF\n",
      "Run 3279 does not contain HDU BACKGROUND\n",
      "Run 3279 does not contain HDU PSF\n",
      "Run 3318 does not contain HDU BACKGROUND\n",
      "Run 3318 does not contain HDU PSF\n",
      "Run 3319 does not contain HDU BACKGROUND\n",
      "Run 3319 does not contain HDU PSF\n",
      "Run 3320 does not contain HDU BACKGROUND\n",
      "Run 3320 does not contain HDU PSF\n",
      "Run 3321 does not contain HDU BACKGROUND\n",
      "Run 3321 does not contain HDU PSF\n",
      "Run 3328 does not contain HDU BACKGROUND\n",
      "Run 3328 does not contain HDU PSF\n",
      "Run 3329 does not contain HDU BACKGROUND\n",
      "Run 3329 does not contain HDU PSF\n",
      "Run 3330 does not contain HDU BACKGROUND\n",
      "Run 3330 does not contain HDU PSF\n",
      "Run 3338 does not contain HDU BACKGROUND\n",
      "Run 3338 does not contain HDU PSF\n",
      "Run 3339 does not contain HDU BACKGROUND\n",
      "Run 3339 does not contain HDU PSF\n",
      "Run 3340 does not contain HDU BACKGROUND\n",
      "Run 3340 does not contain HDU PSF\n",
      "Run 3355 does not contain HDU BACKGROUND\n",
      "Run 3355 does not contain HDU PSF\n",
      "Run 3356 does not contain HDU BACKGROUND\n",
      "Run 3356 does not contain HDU PSF\n",
      "Run 3373 does not contain HDU BACKGROUND\n",
      "Run 3373 does not contain HDU PSF\n",
      "Run 3598 does not contain HDU BACKGROUND\n",
      "Run 3598 does not contain HDU PSF\n",
      "Run 3599 does not contain HDU BACKGROUND\n",
      "Run 3599 does not contain HDU PSF\n",
      "Run 3600 does not contain HDU BACKGROUND\n",
      "Run 3600 does not contain HDU PSF\n",
      "Run 3601 does not contain HDU BACKGROUND\n",
      "Run 3601 does not contain HDU PSF\n",
      "Run 3615 does not contain HDU BACKGROUND\n",
      "Run 3615 does not contain HDU PSF\n",
      "Run 3632 does not contain HDU BACKGROUND\n",
      "Run 3632 does not contain HDU PSF\n",
      "Run 3633 does not contain HDU BACKGROUND\n",
      "Run 3633 does not contain HDU PSF\n",
      "Run 3634 does not contain HDU BACKGROUND\n",
      "Run 3634 does not contain HDU PSF\n",
      "Run 3635 does not contain HDU BACKGROUND\n",
      "Run 3635 does not contain HDU PSF\n",
      "Run 3672 does not contain HDU BACKGROUND\n",
      "Run 3672 does not contain HDU PSF\n",
      "Run 3673 does not contain HDU BACKGROUND\n",
      "Run 3673 does not contain HDU PSF\n",
      "Run 3674 does not contain HDU BACKGROUND\n",
      "Run 3674 does not contain HDU PSF\n",
      "Run 3675 does not contain HDU BACKGROUND\n",
      "Run 3675 does not contain HDU PSF\n",
      "Run 3676 does not contain HDU BACKGROUND\n",
      "Run 3676 does not contain HDU PSF\n",
      "Run 3677 does not contain HDU BACKGROUND\n",
      "Run 3677 does not contain HDU PSF\n",
      "Run 3706 does not contain HDU BACKGROUND\n",
      "Run 3706 does not contain HDU PSF\n",
      "Run 3707 does not contain HDU BACKGROUND\n",
      "Run 3707 does not contain HDU PSF\n",
      "Run 3708 does not contain HDU BACKGROUND\n",
      "Run 3708 does not contain HDU PSF\n",
      "Run 4067 does not contain HDU BACKGROUND\n",
      "Run 4067 does not contain HDU PSF\n",
      "Run 4068 does not contain HDU BACKGROUND\n",
      "Run 4068 does not contain HDU PSF\n",
      "Run 4086 does not contain HDU BACKGROUND\n",
      "Run 4086 does not contain HDU PSF\n",
      "Run 4087 does not contain HDU BACKGROUND\n",
      "Run 4087 does not contain HDU PSF\n",
      "Run 6045 does not contain HDU BACKGROUND\n",
      "Run 6045 does not contain HDU PSF\n",
      "Run 6073 does not contain HDU BACKGROUND\n",
      "Run 6073 does not contain HDU PSF\n",
      "Run 6304 does not contain HDU BACKGROUND\n",
      "Run 6304 does not contain HDU PSF\n",
      "Run 6872 does not contain HDU BACKGROUND\n",
      "Run 6872 does not contain HDU PSF\n",
      "Run 6873 does not contain HDU BACKGROUND\n",
      "Run 6873 does not contain HDU PSF\n",
      "Run 6874 does not contain HDU BACKGROUND\n",
      "Run 6874 does not contain HDU PSF\n",
      "Run 6875 does not contain HDU BACKGROUND\n",
      "Run 6875 does not contain HDU PSF\n",
      "Run 6892 does not contain HDU BACKGROUND\n",
      "Run 6892 does not contain HDU PSF\n",
      "Run 6893 does not contain HDU BACKGROUND\n",
      "Run 6893 does not contain HDU PSF\n",
      "Run 6894 does not contain HDU BACKGROUND\n",
      "Run 6894 does not contain HDU PSF\n",
      "Run 6895 does not contain HDU BACKGROUND\n",
      "Run 6895 does not contain HDU PSF\n",
      "Run 7097 does not contain HDU BACKGROUND\n",
      "Run 7097 does not contain HDU PSF\n",
      "Run 7098 does not contain HDU BACKGROUND\n",
      "Run 7098 does not contain HDU PSF\n",
      "Run 7099 does not contain HDU BACKGROUND\n",
      "Run 7099 does not contain HDU PSF\n",
      "Run 7133 does not contain HDU BACKGROUND\n",
      "Run 7133 does not contain HDU PSF\n",
      "Run 7136 does not contain HDU BACKGROUND\n",
      "Run 7136 does not contain HDU PSF\n",
      "Run 7161 does not contain HDU BACKGROUND\n",
      "Run 7161 does not contain HDU PSF\n",
      "Run 7195 does not contain HDU BACKGROUND\n",
      "Run 7195 does not contain HDU PSF\n",
      "Run 7196 does not contain HDU BACKGROUND\n",
      "Run 7196 does not contain HDU PSF\n",
      "Run 7197 does not contain HDU BACKGROUND\n",
      "Run 7197 does not contain HDU PSF\n",
      "Run 7199 does not contain HDU BACKGROUND\n",
      "Run 7199 does not contain HDU PSF\n",
      "Run 7200 does not contain HDU BACKGROUND\n",
      "Run 7200 does not contain HDU PSF\n",
      "Run 7227 does not contain HDU BACKGROUND\n",
      "Run 7227 does not contain HDU PSF\n",
      "Run 7228 does not contain HDU BACKGROUND\n",
      "Run 7228 does not contain HDU PSF\n",
      "Run 7231 does not contain HDU BACKGROUND\n",
      "Run 7231 does not contain HDU PSF\n",
      "Run 7232 does not contain HDU BACKGROUND\n",
      "Run 7232 does not contain HDU PSF\n",
      "Run 7233 does not contain HDU BACKGROUND\n",
      "Run 7233 does not contain HDU PSF\n",
      "Run 7253 does not contain HDU BACKGROUND\n",
      "Run 7253 does not contain HDU PSF\n"
     ]
    },
    {
     "name": "stdout",
     "output_type": "stream",
     "text": [
      "Run 7254 does not contain HDU BACKGROUND\n",
      "Run 7254 does not contain HDU PSF\n",
      "Run 7255 does not contain HDU BACKGROUND\n",
      "Run 7255 does not contain HDU PSF\n",
      "Run 7256 does not contain HDU BACKGROUND\n",
      "Run 7256 does not contain HDU PSF\n",
      "Run 7274 does not contain HDU BACKGROUND\n",
      "Run 7274 does not contain HDU PSF\n",
      "Run 7275 does not contain HDU BACKGROUND\n",
      "Run 7275 does not contain HDU PSF\n",
      "Run 7276 does not contain HDU BACKGROUND\n",
      "Run 7276 does not contain HDU PSF\n",
      "Run 7277 does not contain HDU BACKGROUND\n",
      "Run 7277 does not contain HDU PSF\n",
      "\u001b[0m"
     ]
    },
    {
     "name": "stderr",
     "output_type": "stream",
     "text": [
      "Finished with the dl3 process\n"
     ]
    },
    {
     "name": "stdout",
     "output_type": "stream",
     "text": [
      "CPU times: user 1min 56s, sys: 21.6 s, total: 2min 18s\n",
      "Wall time: 1h 54min 36s\n"
     ]
    }
   ],
   "source": [
    "%%time\n",
    "# Add the irf directory to the dict\n",
    "for run in dict_runs.keys():\n",
    "    dict_runs[run][\"dl3\"] = os.path.join(path_dl3, f\"dl3_LST-1.Run{run:05}.fits.gz\")\n",
    "\n",
    "# Getting coordinates of source\n",
    "source_coords = SkyCoord.from_name(source_name)\n",
    "source_ra  = f\"{source_coords.ra.deg}deg\"\n",
    "source_dec = f\"{source_coords.dec.deg}deg\"\n",
    "\n",
    "# Iterate over all dl2 files\n",
    "for i, run in enumerate(dict_runs.keys()):\n",
    "\n",
    "    # filenames of dl2 and irf\n",
    "    input_dl2 = dict_runs[run][\"dl2\"]\n",
    "    input_irf = dict_runs[run][\"irf\"]\n",
    "    logger.debug(f\"\\n{os.path.basename(input_dl2)} + {os.path.basename(input_irf)} --> dl3\")\n",
    "    \n",
    "    if compute_dl3:\n",
    "            \n",
    "        logger.info(f\"Computing dl3 for Run{run},  {i/len(dict_runs)*100:.1f}%...\")\n",
    "\n",
    "        # Creating the dl3\n",
    "        !lstchain_create_dl3_file \\\n",
    "        --input-dl2 $input_dl2 \\\n",
    "        --input-irf $input_irf \\\n",
    "        --output-dl3-path $path_dl3 \\\n",
    "        --source-name $source_name \\\n",
    "        --source-ra=$source_ra \\\n",
    "        --source-dec=$source_dec \\\n",
    "        --config $config_file \\\n",
    "        --overwrite\n",
    "                  \n",
    "if compute_dl3:\n",
    "    \n",
    "    logger.info(f\"All dl3 files created 100%\\n\\n\\nCreating index files...\")\n",
    "    \n",
    "    # Creating the index file\n",
    "    !lstchain_create_dl3_index_files \\\n",
    "    --input-dl3-dir $path_dl3 \\\n",
    "    --file-pattern 'dl3*.fits' \\\n",
    "    --overwrite\n",
    "                  \n",
    "    logger.info(f\"Finished with the dl3 process\")"
   ]
  },
  {
   "cell_type": "code",
   "execution_count": 6,
   "id": "a8694f30",
   "metadata": {},
   "outputs": [],
   "source": [
    "# Save the dict to a external object \n",
    "if compute_dl3:\n",
    "    file = open(fname_dict, \"w\")\n",
    "    json.dump(dict_runs, file)\n",
    "    file.close()\n",
    "else:\n",
    "    with open(fname_dict, \"r\") as json_file:\n",
    "        dict_runs = json.load(json_file)"
   ]
  }
 ],
 "metadata": {
  "kernelspec": {
   "display_name": "Python 3 (ipykernel)",
   "language": "python",
   "name": "python3"
  },
  "language_info": {
   "codemirror_mode": {
    "name": "ipython",
    "version": 3
   },
   "file_extension": ".py",
   "mimetype": "text/x-python",
   "name": "python",
   "nbconvert_exporter": "python",
   "pygments_lexer": "ipython3",
   "version": "3.10.11"
  }
 },
 "nbformat": 4,
 "nbformat_minor": 5
}
