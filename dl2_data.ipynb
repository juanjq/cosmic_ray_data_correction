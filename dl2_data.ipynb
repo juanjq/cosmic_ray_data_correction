{
 "cells": [
  {
   "cell_type": "code",
   "execution_count": 1,
   "id": "aa942be9-ac39-4184-bd2e-4ff583ab57b3",
   "metadata": {},
   "outputs": [
    {
     "data": {
      "text/html": [
       "<style>.container { width:100% !important; }</style>"
      ],
      "text/plain": [
       "<IPython.core.display.HTML object>"
      ]
     },
     "metadata": {},
     "output_type": "display_data"
    }
   ],
   "source": [
    "import matplotlib.pyplot as plt\n",
    "import numpy as np\n",
    "import astropy.units as u\n",
    "from datetime import datetime\n",
    "from astropy.coordinates import SkyCoord\n",
    "import os\n",
    "import pickle\n",
    "import json\n",
    "import pandas as pd\n",
    "pd.set_option('display.max_columns', None)\n",
    "\n",
    "from lstchain.reco.utils import  get_effective_time\n",
    "\n",
    "from IPython.display import display, HTML\n",
    "display(HTML(\"<style>.container { width:100% !important; }</style>\"))\n",
    "\n",
    "# dirs\n",
    "objects_dir = \"/fefs/aswg/workspace/juan.jimenez/systematics/objects\"\n"
   ]
  },
  {
   "cell_type": "code",
   "execution_count": 2,
   "id": "559e9b71",
   "metadata": {},
   "outputs": [
    {
     "data": {
      "text/plain": [
       "{'dl2': '/fefs/aswg/workspace/abelardo.moralejo/Crab_performance_paper/data_v0.9.9/DL2/process_with_mc_theta_10.0_az_102.199/dl2_LST-1.Run03319.h5',\n",
       " 'irf': '/fefs/aswg/workspace/juan.jimenez/data/systematics/irf/irf_mc_theta_10.0_az_102.199.fits.gz',\n",
       " 'dl3': '/fefs/aswg/workspace/juan.jimenez/data/systematics/dl3/dl3_LST-1.Run03319.fits.gz'}"
      ]
     },
     "execution_count": 2,
     "metadata": {},
     "output_type": "execute_result"
    }
   ],
   "source": [
    "###################\n",
    "# reading objects\n",
    "###################\n",
    "fname_dict = \"objects/total_dict_runs.json\"\n",
    "with open(fname_dict, \"r\") as json_file:\n",
    "    dict_runs = json.load(json_file)\n",
    "    \n",
    "dict_runs[\"3319\"]"
   ]
  },
  {
   "cell_type": "code",
   "execution_count": 3,
   "id": "fe91f3ab",
   "metadata": {
    "scrolled": false
   },
   "outputs": [
    {
     "name": "stdout",
     "output_type": "stream",
     "text": [
      "Iterating...  0.0%\n",
      "Iterating...  0.9%\n",
      "Iterating...  1.7%\n",
      "Iterating...  2.6%\n",
      "Iterating...  3.4%\n",
      "Iterating...  4.3%\n",
      "Iterating...  5.1%\n",
      "Iterating...  6.0%\n",
      "Iterating...  6.8%\n",
      "Iterating...  7.7%\n",
      "Iterating...  8.5%\n",
      "Iterating...  9.4%\n",
      "Iterating... 10.3%\n",
      "Iterating... 11.1%\n",
      "Iterating... 12.0%\n",
      "Iterating... 12.8%\n",
      "Iterating... 13.7%\n",
      "Iterating... 14.5%\n",
      "Iterating... 15.4%\n",
      "Iterating... 16.2%\n",
      "Iterating... 17.1%\n",
      "Iterating... 17.9%\n",
      "Iterating... 18.8%\n",
      "Iterating... 19.7%\n",
      "Iterating... 20.5%\n",
      "Iterating... 21.4%\n",
      "Iterating... 22.2%\n",
      "Iterating... 23.1%\n",
      "Iterating... 23.9%\n",
      "Iterating... 24.8%\n",
      "Iterating... 25.6%\n",
      "Iterating... 26.5%\n",
      "Iterating... 27.4%\n",
      "Iterating... 28.2%\n",
      "Iterating... 29.1%\n",
      "Iterating... 29.9%\n",
      "Iterating... 30.8%\n",
      "Iterating... 31.6%\n",
      "Iterating... 32.5%\n",
      "Iterating... 33.3%\n",
      "Iterating... 34.2%\n",
      "Iterating... 35.0%\n",
      "Iterating... 35.9%\n",
      "Iterating... 36.8%\n",
      "Iterating... 37.6%\n",
      "Iterating... 38.5%\n",
      "Iterating... 39.3%\n",
      "Iterating... 40.2%\n",
      "Iterating... 41.0%\n",
      "Iterating... 41.9%\n",
      "Iterating... 42.7%\n",
      "Iterating... 43.6%\n",
      "Iterating... 44.4%\n",
      "Iterating... 45.3%\n",
      "Iterating... 46.2%\n",
      "Iterating... 47.0%\n",
      "Iterating... 47.9%\n",
      "Iterating... 48.7%\n",
      "Iterating... 49.6%\n",
      "Iterating... 50.4%\n",
      "Iterating... 51.3%\n",
      "Iterating... 52.1%\n",
      "Iterating... 53.0%\n",
      "Iterating... 53.8%\n",
      "Iterating... 54.7%\n",
      "Iterating... 55.6%\n",
      "Iterating... 56.4%\n",
      "Iterating... 57.3%\n",
      "Iterating... 58.1%\n",
      "Iterating... 59.0%\n",
      "Iterating... 59.8%\n",
      "Iterating... 60.7%\n",
      "Iterating... 61.5%\n",
      "Iterating... 62.4%\n",
      "Iterating... 63.2%\n",
      "Iterating... 64.1%\n",
      "Iterating... 65.0%\n",
      "Iterating... 65.8%\n",
      "Iterating... 66.7%\n",
      "Iterating... 67.5%\n",
      "Iterating... 68.4%\n",
      "Iterating... 69.2%\n",
      "Iterating... 70.1%\n",
      "Iterating... 70.9%\n",
      "Iterating... 71.8%\n",
      "Iterating... 72.6%\n",
      "Iterating... 73.5%\n",
      "Iterating... 74.4%\n",
      "Iterating... 75.2%\n",
      "Iterating... 76.1%\n",
      "Iterating... 76.9%\n",
      "Iterating... 77.8%\n",
      "Iterating... 78.6%\n",
      "Iterating... 79.5%\n",
      "Iterating... 80.3%\n",
      "Iterating... 81.2%\n",
      "Iterating... 82.1%\n",
      "Iterating... 82.9%\n",
      "Iterating... 83.8%\n",
      "Iterating... 84.6%\n",
      "Iterating... 85.5%\n",
      "Iterating... 86.3%\n",
      "Iterating... 87.2%\n",
      "Iterating... 88.0%\n",
      "Iterating... 88.9%\n",
      "Iterating... 89.7%\n",
      "Iterating... 90.6%\n",
      "Iterating... 91.5%\n",
      "Iterating... 92.3%\n",
      "Iterating... 93.2%\n",
      "Iterating... 94.0%\n",
      "Iterating... 94.9%\n",
      "Iterating... 95.7%\n",
      "Iterating... 96.6%\n",
      "Iterating... 97.4%\n",
      "Iterating... 98.3%\n",
      "Iterating... 99.1%\n",
      "CPU times: user 10min 33s, sys: 9min 24s, total: 19min 57s\n",
      "Wall time: 40min 35s\n"
     ]
    }
   ],
   "source": [
    "%%time\n",
    "dict_dl2 = {}\n",
    "\n",
    "for i, run in enumerate(dict_runs.keys()):\n",
    "    \n",
    "    print(f\"Iterating... {i/len(dict_runs.keys())*100:4.1f}%\")\n",
    "    \n",
    "    _tab = pd.read_hdf(dict_runs[run][\"dl2\"], key='dl2/event/telescope/parameters/LST_LSTCam')\n",
    "    \n",
    "    # getting only cosmics and applying a small cut in gammaness\n",
    "    _tab.query(\"event_type == 32 and gammaness > 0.05\", inplace=True)\n",
    "    \n",
    "    eff_t, el_t = get_effective_time(_tab)\n",
    "    \n",
    "    tmp_dict = {\n",
    "        \"effective_time\" : eff_t.to(u.s).value,\n",
    "        \"elapsed_time\" : el_t.to(u.s).value,\n",
    "        \"zd\" : np.array(90 - np.rad2deg(_tab[\"alt_tel\"])),\n",
    "        \"az\" : np.array(np.rad2deg(_tab[\"az_tel\"])),\n",
    "        \"intensity\" : np.array(_tab[\"intensity\"]),\n",
    "        \"gammaness\" : np.array(_tab[\"gammaness\"])\n",
    "    }\n",
    "\n",
    "    dict_dl2[int(run)] = tmp_dict"
   ]
  },
  {
   "cell_type": "code",
   "execution_count": 4,
   "id": "b672e7b0",
   "metadata": {},
   "outputs": [
    {
     "name": "stdout",
     "output_type": "stream",
     "text": [
      "CPU times: user 563 ms, sys: 27.8 s, total: 28.3 s\n",
      "Wall time: 2min 7s\n"
     ]
    }
   ],
   "source": [
    "%%time\n",
    "# Saving the objects\n",
    "with open('objects/dict_dl2.pkl', 'wb') as f:\n",
    "    pickle.dump(dict_dl2, f, pickle.HIGHEST_PROTOCOL)\n",
    "    \n",
    "# # this to read the objects\n",
    "# with open('objects/dict_dl2.pkl', 'rb') as f:\n",
    "#     dict_dl2 = pickle.load(f)"
   ]
  }
 ],
 "metadata": {
  "kernelspec": {
   "display_name": "Python 3 (ipykernel)",
   "language": "python",
   "name": "python3"
  },
  "language_info": {
   "codemirror_mode": {
    "name": "ipython",
    "version": 3
   },
   "file_extension": ".py",
   "mimetype": "text/x-python",
   "name": "python",
   "nbconvert_exporter": "python",
   "pygments_lexer": "ipython3",
   "version": "3.8.13"
  }
 },
 "nbformat": 4,
 "nbformat_minor": 5
}
