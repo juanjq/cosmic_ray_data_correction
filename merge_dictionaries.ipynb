{
 "cells": [
  {
   "cell_type": "code",
   "execution_count": 3,
   "id": "aa942be9-ac39-4184-bd2e-4ff583ab57b3",
   "metadata": {},
   "outputs": [
    {
     "data": {
      "text/html": [
       "<style>.container { width:100% !important; }</style>"
      ],
      "text/plain": [
       "<IPython.core.display.HTML object>"
      ]
     },
     "metadata": {},
     "output_type": "display_data"
    }
   ],
   "source": [
    "import matplotlib.pyplot as plt\n",
    "import numpy as np\n",
    "import astropy.units as u\n",
    "from datetime import datetime\n",
    "from astropy.coordinates import SkyCoord\n",
    "import pickle, json, sys, os\n",
    "import pandas as pd\n",
    "from sys import getsizeof\n",
    "pd.set_option('display.max_columns', None)\n",
    "\n",
    "# location of the scripts\n",
    "sys.path.insert(0, os.path.join(\"/fefs/aswg/workspace/juan.jimenez/lst1_systematics/scripts\"))\n",
    "import auxiliar as aux\n",
    "import documents as docs\n",
    "\n",
    "from IPython.display import display, HTML\n",
    "display(HTML(\"<style>.container { width:100% !important; }</style>\"))\n",
    "\n",
    "\n",
    "# =================================== #\n",
    "# paths \n",
    "fname_dict_sed_lc = \"objects/dict_sed_and_lc.pkl\"\n",
    "fname_dict_dl2    = \"objects/dict_dl2.pkl\"\n",
    "\n",
    "fname_total_dict  =  \"objects/dict_runs.pkl\"\n",
    "# =================================== #\n",
    "\n",
    "\n",
    "# =================================== #\n",
    "#         intensity profiles\n",
    "# =================================== #\n",
    "\n",
    "# intensity binning\n",
    "binsI = np.linspace(1.1, 4, 200) \n",
    "\n",
    "# =================================== #"
   ]
  },
  {
   "cell_type": "markdown",
   "id": "d0868736",
   "metadata": {},
   "source": [
    "### Reading all the different dicts"
   ]
  },
  {
   "cell_type": "code",
   "execution_count": 2,
   "id": "55fb2394",
   "metadata": {},
   "outputs": [
    {
     "name": "stdout",
     "output_type": "stream",
     "text": [
      "CPU times: user 1.1 s, sys: 23.5 s, total: 24.6 s\n",
      "Wall time: 3min 23s\n"
     ]
    }
   ],
   "source": [
    "%%time\n",
    "# light curve data\n",
    "with open(fname_dict_sed_lc, \"rb\") as f:\n",
    "    dict_gammapy = pickle.load(f)\n",
    "    \n",
    "# load dl2 data\n",
    "with open(fname_dict_dl2, \"rb\") as f:\n",
    "    dict_dl2 = pickle.load(f)"
   ]
  },
  {
   "cell_type": "markdown",
   "id": "1f6f59cc",
   "metadata": {},
   "source": [
    "### Converting the lightcurve dict to a run-wise dict"
   ]
  },
  {
   "cell_type": "code",
   "execution_count": 19,
   "id": "b3f63df0",
   "metadata": {},
   "outputs": [],
   "source": [
    "dict_LC_run = {}\n",
    "for i, run in enumerate(np.sort(np.array(dict_gammapy[\"lightcurve\"][\"run_number\"]).astype(int))):\n",
    "    \n",
    "    tmp_dict = {\n",
    "        \n",
    "        \"flux\"      : dict_gammapy[\"lightcurve\"][\"flux\"][i]   * 1e10,  # cm-2 s-1\n",
    "        \"e_flux\"    : dict_gammapy[\"lightcurve\"][\"e_flux\"][i] * 1e10,  # cm-2 s-1\n",
    "        \"timestamp\" : dict_gammapy[\"lightcurve\"][\"t_start\"][i],\n",
    "        \"duration\"  : dict_gammapy[\"lightcurve\"][\"timedelta\"][i]\n",
    "        \n",
    "    }\n",
    "    \n",
    "    dict_LC_run[run] = tmp_dict"
   ]
  },
  {
   "cell_type": "code",
   "execution_count": 43,
   "id": "fab36282",
   "metadata": {},
   "outputs": [
    {
     "data": {
      "text/html": [
       "<div><i>Table length=13</i>\n",
       "<table id=\"table140611527802784\" class=\"table-striped table-bordered table-condensed\">\n",
       "<thead><tr><th>e_ref</th><th>e_min</th><th>e_max</th><th>ref_dnde</th><th>ref_flux</th><th>ref_eflux</th><th>norm</th><th>norm_err</th><th>norm_errn</th><th>norm_errp</th><th>norm_ul</th><th>ts</th><th>sqrt_ts</th><th>npred</th><th>npred_excess</th><th>stat</th><th>is_ul</th><th>counts</th><th>success</th><th>stat_scan</th><th>norm_scan</th></tr></thead>\n",
       "<thead><tr><th>TeV</th><th>TeV</th><th>TeV</th><th>1 / (cm2 s TeV)</th><th>1 / (cm2 s)</th><th>TeV / (cm2 s)</th><th></th><th></th><th></th><th></th><th></th><th></th><th></th><th></th><th></th><th></th><th></th><th></th><th></th><th></th><th></th></tr></thead>\n",
       "<thead><tr><th>float64</th><th>float64</th><th>float64</th><th>float64</th><th>float64</th><th>float64</th><th>float64</th><th>float64</th><th>float64</th><th>float64</th><th>float64</th><th>float64</th><th>float64</th><th>float64[1]</th><th>float32[1]</th><th>float64</th><th>bool</th><th>float64[1]</th><th>bool</th><th>float64[11]</th><th>float64[11]</th></tr></thead>\n",
       "<tr><td>0.19461457295729795</td><td>0.15587755020547794</td><td>0.2429781065806129</td><td>1.3800709404835222e-09</td><td>1.2008380873327562e-10</td><td>2.3157536736801983e-11</td><td>0.9775942976907301</td><td>0.021746564981759923</td><td>0.021788099109910777</td><td>0.021790893458866735</td><td>1.0211836279133355</td><td>2015.8259015139192</td><td>44.89794985869532</td><td>127714.94396012776</td><td>21690.896</td><td>4.470348358154297e-08</td><td>False</td><td>127715.0</td><td>True</td><td>1275.9107026141137 .. 31398.162404274568</td><td>0.2 .. 4.999999999999999</td></tr>\n",
       "<tr><td>0.30336042866868856</td><td>0.2429781065806129</td><td>0.3787483200735144</td><td>5.405953511766432e-10</td><td>7.346420259458476e-11</td><td>2.204522656298678e-11</td><td>0.9839846156896055</td><td>0.016178030136895494</td><td>0.016168625002321236</td><td>0.016177221498824324</td><td>1.0163609748800255</td><td>3732.352071088506</td><td>61.092978901740466</td><td>46531.86450316603</td><td>16801.777</td><td>6.468035280704498e-07</td><td>False</td><td>46532.0</td><td>True</td><td>2374.850796053186 .. 45665.611276340205</td><td>0.2 .. 4.999999999999999</td></tr>\n",
       "<tr><td>0.4728708045015879</td><td>0.3787483200735144</td><td>0.5903836027749966</td><td>2.0200974655277728e-10</td><td>4.288203917098016e-11</td><td>2.002378407360851e-11</td><td>1.010815683204252</td><td>0.015740481295937157</td><td>0.015732628398312243</td><td>0.01575253608634708</td><td>1.0423551042167567</td><td>4211.021777671762</td><td>64.89238613020608</td><td>22832.891019850296</td><td>11813.839</td><td>7.711350917816162e-07</td><td>False</td><td>22833.0</td><td>True</td><td>2725.64387591579 .. 39063.287357290974</td><td>0.2 .. 4.999999999999999</td></tr>\n",
       "<tr><td>0.73709942569401</td><td>0.5903836027749966</td><td>0.9202754968205045</td><td>7.201143452030207e-11</td><td>2.3882689670617796e-11</td><td>1.7353500233949225e-11</td><td>1.0097578080815774</td><td>0.017596331337105107</td><td>0.01757749506710904</td><td>0.01761841258989616</td><td>1.0450554394430673</td><td>3412.280810626922</td><td>58.41473110977164</td><td>11905.901980822586</td><td>7359.8647</td><td>1.1150841601192951e-06</td><td>False</td><td>11906.0</td><td>True</td><td>2216.729082817503 .. 27179.108453232504</td><td>0.2 .. 4.999999999999999</td></tr>\n",
       "<tr><td>1.1489725273504696</td><td>0.9202754968205045</td><td>1.4345028995850928</td><td>2.4488361221611394e-11</td><td>1.2691091408154678e-11</td><td>1.4349517892035893e-11</td><td>0.9927042882219247</td><td>0.020922740378616734</td><td>0.020879009710509246</td><td>0.02096703214449356</td><td>1.0347454426135956</td><td>2379.744336960328</td><td>48.78262330953849</td><td>5815.948553438875</td><td>4113.9336</td><td>5.882757250219584e-07</td><td>False</td><td>5816.0</td><td>True</td><td>1541.9490268988447 .. 16888.40035313308</td><td>0.2 .. 4.999999999999999</td></tr>\n",
       "<tr><td>1.7909902281678767</td><td>1.4345028995850928</td><td>2.23606797749979</td><td>7.944143944084272e-12</td><td>6.434612631370228e-12</td><td>1.1321311866109114e-11</td><td>1.044462919444511</td><td>0.027277777013874915</td><td>0.02718127333868625</td><td>0.02737711366436013</td><td>1.0994327612830723</td><td>1588.5253058734015</td><td>39.856308231864645</td><td>2918.9772854157654</td><td>2282.9724</td><td>2.1527375793084502e-07</td><td>False</td><td>2919.0</td><td>True</td><td>1062.2018665616197 .. 9015.246329487098</td><td>0.2 .. 4.999999999999999</td></tr>\n",
       "<tr><td>2.791751692087585</td><td>2.23606797749979</td><td>3.4855279842558486</td><td>2.458462614139705e-12</td><td>3.1128148707812067e-12</td><td>8.522467000001859e-12</td><td>0.9681476645861106</td><td>0.0358820368307957</td><td>0.03567380427302691</td><td>0.036096625013654564</td><td>1.040775044373101</td><td>801.0026436168628</td><td>28.30199009993578</td><td>1290.0075889968268</td><td>1054.009</td><td>5.281617632135749e-08</td><td>False</td><td>1290.0</td><td>True</td><td>518.8365747951029 .. 4860.663728536565</td><td>0.2 .. 4.999999999999999</td></tr>\n",
       "<tr><td>4.3517141454461035</td><td>3.4855279842558486</td><td>5.433155633584391</td><td>7.257870811289975e-13</td><td>1.4367836078255365e-12</td><td>6.121289592598157e-12</td><td>0.8954750251001714</td><td>0.050530044874684356</td><td>0.05009270752252011</td><td>0.050989784005323106</td><td>0.9984204462063082</td><td>345.1491490747667</td><td>18.578190145295817</td><td>560.9972876552035</td><td>456.9968</td><td>1.554508344270289e-08</td><td>False</td><td>561.0</td><td>True</td><td>214.42691869253758 .. 2402.0430413564354</td><td>0.2 .. 4.999999999999999</td></tr>\n",
       "<tr><td>6.783345401866634</td><td>5.433155633584391</td><td>8.469069900482262</td><td>2.0440145381823314e-13</td><td>6.327561046297902e-13</td><td>4.1949754455870885e-12</td><td>0.952017348374032</td><td>0.07582789644066933</td><td>0.07478963291891905</td><td>0.07693063922671667</td><td>1.108168377770278</td><td>175.89154159669124</td><td>13.262410851602029</td><td>256.00725316151363</td><td>216.00839</td><td>2.3760367184877396e-07</td><td>False</td><td>256.0</td><td>True</td><td>113.46752797782028 .. 1040.6884974321233</td><td>0.2 .. 4.999999999999999</td></tr>\n",
       "<tr><td>10.573712634405641</td><td>8.469069900482262</td><td>13.20137868606126</td><td>5.49146030805556e-14</td><td>2.6588138712427095e-13</td><td>2.7429928650686457e-12</td><td>1.0849620781260068</td><td>0.11964656354260517</td><td>0.11696438305918766</td><td>0.12255789911202752</td><td>1.3363950113421466</td><td>94.52197729538238</td><td>9.722241371997631</td><td>115.9835503423753</td><td>102.981705</td><td>2.5944485742002144e-06</td><td>False</td><td>116.0</td><td>True</td><td>65.40566856586327 .. 404.97981019663337</td><td>0.2 .. 4.999999999999999</td></tr>\n",
       "<tr><td>16.48204422027861</td><td>13.20137868606126</td><td>20.577985689180384</td><td>1.4074106692735308e-14</td><td>1.0659720837023789e-13</td><td>1.711309384361564e-12</td><td>1.4257228152541703</td><td>0.24198912383207663</td><td>0.2368303878228879</td><td>0.24807470052278346</td><td>1.9355638980517382</td><td>37.61970767836152</td><td>6.133490660167465</td><td>68.99741918199008</td><td>53.996857</td><td>1.1752075579352095e-07</td><td>False</td><td>69.0</td><td>True</td><td>28.31429121981438 .. 116.3274186348209</td><td>0.2 .. 4.999999999999999</td></tr>\n",
       "<tr><td>25.691806754353852</td><td>20.577985689180384</td><td>32.076459973928216</td><td>3.4409863571091113e-15</td><td>4.077647747272677e-14</td><td>1.0186871068177732e-12</td><td>0.9874539076049298</td><td>0.3863327620941576</td><td>0.3782091320435698</td><td>0.399651178229726</td><td>1.820977232926019</td><td>6.793920540244869</td><td>2.606515018227378</td><td>21.99963482656881</td><td>13.999502</td><td>8.265800488516106e-09</td><td>False</td><td>22.0</td><td>True</td><td>4.369413752312823 .. 54.77710235286749</td><td>0.2 .. 4.999999999999999</td></tr>\n",
       "<tr><td>40.0477589722123</td><td>32.076459973928216</td><td>49.99999999999999</td><td>8.025538529669825e-16</td><td>1.4882614125785126e-14</td><td>5.785772038804392e-13</td><td>2.4886805201117137</td><td>0.9311824628476477</td><td>0.883248837596502</td><td>0.9979547227101517</td><td>4.639489693138787</td><td>7.924864143188707</td><td>2.815113522256022</td><td>11.99993471998031</td><td>9.999924</td><td>4.143174692217144e-10</td><td>False</td><td>12.0</td><td>True</td><td>6.800706275530359 .. 5.222912058131321</td><td>0.2 .. 4.999999999999999</td></tr>\n",
       "</table></div>"
      ],
      "text/plain": [
       "<Table length=13>\n",
       "       e_ref               e_min              e_max        ... success                stat_scan                        norm_scan        \n",
       "        TeV                 TeV                TeV         ...                                                                          \n",
       "      float64             float64            float64       ...   bool                float64[11]                      float64[11]       \n",
       "------------------- ------------------- ------------------ ... ------- ---------------------------------------- ------------------------\n",
       "0.19461457295729795 0.15587755020547794 0.2429781065806129 ...    True 1275.9107026141137 .. 31398.162404274568 0.2 .. 4.999999999999999\n",
       "0.30336042866868856  0.2429781065806129 0.3787483200735144 ...    True  2374.850796053186 .. 45665.611276340205 0.2 .. 4.999999999999999\n",
       " 0.4728708045015879  0.3787483200735144 0.5903836027749966 ...    True   2725.64387591579 .. 39063.287357290974 0.2 .. 4.999999999999999\n",
       "   0.73709942569401  0.5903836027749966 0.9202754968205045 ...    True  2216.729082817503 .. 27179.108453232504 0.2 .. 4.999999999999999\n",
       " 1.1489725273504696  0.9202754968205045 1.4345028995850928 ...    True  1541.9490268988447 .. 16888.40035313308 0.2 .. 4.999999999999999\n",
       " 1.7909902281678767  1.4345028995850928   2.23606797749979 ...    True  1062.2018665616197 .. 9015.246329487098 0.2 .. 4.999999999999999\n",
       "  2.791751692087585    2.23606797749979 3.4855279842558486 ...    True   518.8365747951029 .. 4860.663728536565 0.2 .. 4.999999999999999\n",
       " 4.3517141454461035  3.4855279842558486  5.433155633584391 ...    True 214.42691869253758 .. 2402.0430413564354 0.2 .. 4.999999999999999\n",
       "  6.783345401866634   5.433155633584391  8.469069900482262 ...    True 113.46752797782028 .. 1040.6884974321233 0.2 .. 4.999999999999999\n",
       " 10.573712634405641   8.469069900482262  13.20137868606126 ...    True  65.40566856586327 .. 404.97981019663337 0.2 .. 4.999999999999999\n",
       "  16.48204422027861   13.20137868606126 20.577985689180384 ...    True   28.31429121981438 .. 116.3274186348209 0.2 .. 4.999999999999999\n",
       " 25.691806754353852  20.577985689180384 32.076459973928216 ...    True   4.369413752312823 .. 54.77710235286749 0.2 .. 4.999999999999999\n",
       "   40.0477589722123  32.076459973928216  49.99999999999999 ...    True   6.800706275530359 .. 5.222912058131321 0.2 .. 4.999999999999999"
      ]
     },
     "execution_count": 43,
     "metadata": {},
     "output_type": "execute_result"
    }
   ],
   "source": [
    "dict_gammapy[\"table_sed\"]"
   ]
  },
  {
   "cell_type": "code",
   "execution_count": 40,
   "id": "fc6585a5",
   "metadata": {},
   "outputs": [],
   "source": [
    "dict_total = {}\n",
    "\n",
    "dict_total[\"general\"] = {\n",
    "    \n",
    "    \"target_name\"   : dict_gammapy[\"lightcurve\"][\"global\"][\"target_name\"],\n",
    "    \"e_min_lc\"      : dict_gammapy[\"lightcurve\"][\"global\"][\"e_min\"], # TeV\n",
    "    \"e_max_lc\"      : dict_gammapy[\"lightcurve\"][\"global\"][\"e_max\"], # TeV\n",
    "    \"n_off_regions\" : dict_gammapy[\"lightcurve\"][\"global\"][\"n_off_regions\"]\n",
    "    \n",
    "}\n",
    "\n",
    "_ampl, _e_ampl = dict_gammapy[\"dict_model\"][\"spectral\"][\"parameters\"][0][\"value\"], dict_gammapy[\"dict_model\"][\"spectral\"][\"parameters\"][0][\"error\"]\n",
    "_ampl_unit     = u.Unit(dict_gammapy[\"dict_model\"][\"spectral\"][\"parameters\"][0][\"unit\"])\n",
    "\n",
    "_ref      = dict_gammapy[\"dict_model\"][\"spectral\"][\"parameters\"][1][\"value\"]\n",
    "_ref_unit = u.Unit(dict_gammapy[\"dict_model\"][\"spectral\"][\"parameters\"][1][\"unit\"])\n",
    "\n",
    "_a, _e_a = dict_gammapy[\"dict_model\"][\"spectral\"][\"parameters\"][2][\"value\"], dict_gammapy[\"dict_model\"][\"spectral\"][\"parameters\"][2][\"error\"]\n",
    "_b, _e_b = dict_gammapy[\"dict_model\"][\"spectral\"][\"parameters\"][3][\"value\"], dict_gammapy[\"dict_model\"][\"spectral\"][\"parameters\"][3][\"error\"]\n",
    "\n",
    "dict_total[\"general\"][\"model_params\"] = {\n",
    "    \n",
    "        \"amplitude\" : (_ampl, _e_ampl) * _ampl_unit,\n",
    "        \"reference\" :  _ref * _ref_unit,\n",
    "        \"alpha\"     : (_a, _e_a),\n",
    "        \"beta\"      : (_b, _e_b)\n",
    "    \n",
    "}\n",
    "\n",
    "dict_total[\"general\"][\"SED\"] = dict_gammapy[\"table_sed\"]\n",
    "\n",
    "\n",
    "dict_total[\"run\"][\"LC\"]  = dict_LC_run\n",
    "\n",
    "# for run in dict_dl2.keys():\n",
    "    \n",
    "#     tmp_dict = {\n",
    "#         \"flux\" : dict_LC_2[run][\"flux\"].value,\n",
    "#         \"e_flux\": dict_LC_2[run][\"e_flux\"].value,\n",
    "#         \"zd\" : dict_LC_2[run][\"zd\"].value,\n",
    "#         \"az\" : dict_LC_2[run][\"az\"].value,\n",
    "#         \"timestamp\" : dict_LC_2[run][\"timestamp\"],\n",
    "#         \"effective_time\" : dict_dl2[run][\"effective_time\"],\n",
    "#     }\n",
    "    \n",
    "#     dict_runs[run] = tmp_dict"
   ]
  },
  {
   "cell_type": "code",
   "execution_count": 41,
   "id": "99a50106",
   "metadata": {},
   "outputs": [
    {
     "data": {
      "text/plain": [
       "{'general': {'target_name': 'crab',\n",
       "  'e_min_lc': <Quantity 0.1 TeV>,\n",
       "  'e_max_lc': <Quantity 50. TeV>,\n",
       "  'n_off_regions': 1,\n",
       "  'model_params': {'amplitude': <Quantity [3.44909756e-11, 3.65307944e-13] 1 / (cm2 s TeV)>,\n",
       "   'reference': <Quantity 1. TeV>,\n",
       "   'alpha': (2.449758278448402, 0.00990913513049369),\n",
       "   'beta': (0.11960538931788733, 0.007130151982698374)}}}"
      ]
     },
     "execution_count": 41,
     "metadata": {},
     "output_type": "execute_result"
    }
   ],
   "source": [
    "for run in dict_LC_run.keys():"
   ]
  }
 ],
 "metadata": {
  "kernelspec": {
   "display_name": "Python 3 (ipykernel)",
   "language": "python",
   "name": "python3"
  },
  "language_info": {
   "codemirror_mode": {
    "name": "ipython",
    "version": 3
   },
   "file_extension": ".py",
   "mimetype": "text/x-python",
   "name": "python",
   "nbconvert_exporter": "python",
   "pygments_lexer": "ipython3",
   "version": "3.9.16"
  }
 },
 "nbformat": 4,
 "nbformat_minor": 5
}
